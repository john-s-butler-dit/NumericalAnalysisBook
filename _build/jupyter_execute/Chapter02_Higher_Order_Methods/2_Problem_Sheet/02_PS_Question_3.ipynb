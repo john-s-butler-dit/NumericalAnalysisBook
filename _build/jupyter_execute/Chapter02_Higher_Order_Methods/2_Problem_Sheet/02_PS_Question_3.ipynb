{
 "cells": [
  {
   "cell_type": "markdown",
   "metadata": {
    "colab_type": "text",
    "id": "view-in-github"
   },
   "source": [
    "<a href=\"https://colab.research.google.com/github/john-s-butler-dit/Numerical-Analysis-Python/blob/master/Chapter%2002%20-%20Higher%20Order%20Methods/2_Problem%20Sheet/02_PS%20Question%203.ipynb\" target=\"_parent\"><img src=\"https://colab.research.google.com/assets/colab-badge.svg\" alt=\"Open In Colab\"/></a>"
   ]
  },
  {
   "cell_type": "markdown",
   "metadata": {
    "id": "HjUe8oJGwXp3"
   },
   "source": [
    "# Problem Sheet 2 Question 3 - 2nd Order Taylor\n",
    "\n",
    "The general form of the population growth differential equation\n",
    "\\begin{equation}  y^{'}=ty-ty^2, \\ \\ (0 \\leq t \\leq 2)\\end{equation}\n",
    "with the initial condition\n",
    "\\begin{equation} y(0)=\\frac{1}{2}.\\end{equation}\n",
    "\n",
    "Apply __2nd Order Taylor__ to approximate the solution of the given initial value problems using the indicated number of time steps. Compare the approximate solution with the given exact solution, and compare the actual error with the theoretical error."
   ]
  },
  {
   "cell_type": "code",
   "execution_count": 1,
   "metadata": {
    "id": "i35ykQeWwXp5"
   },
   "outputs": [],
   "source": [
    "## Library\n",
    "import numpy as np\n",
    "import math \n",
    "\n",
    "%matplotlib inline\n",
    "import matplotlib.pyplot as plt # side-stepping mpl backend\n",
    "import matplotlib.gridspec as gridspec # subplots\n",
    "import warnings\n",
    "import pandas as pd\n",
    "\n",
    "warnings.filterwarnings(\"ignore\")"
   ]
  },
  {
   "cell_type": "markdown",
   "metadata": {
    "id": "LPD9UzWXwXp9"
   },
   "source": [
    "## General Discrete Interval\n",
    "The continuous time $a\\leq t \\leq b $ is discretised into $N$ points seperated by a constant stepsize\n",
    "\\begin{equation}  h=\\frac{b-a}{N}.\\end{equation}\n",
    "## Specific Discrete Interval\n",
    "Here the interval is $0\\leq t \\leq 2$ with $N=4$ \n",
    "\\begin{equation}  h=\\frac{2-0}{4}=0.5.\\end{equation}\n",
    "This gives the 5 discrete points with stepsize h=0.5:\n",
    "\\begin{equation}  t_0=0, \\ t_1=0.5, \\ ... t_{4}=2. \\end{equation}\n",
    "This is generalised to \n",
    "\\begin{equation}  t_i=0+i0.5, \\ \\ \\ i=0,1,...,4.\\end{equation}\n",
    "The plot below illustrates the discrete time steps from 0 to 2."
   ]
  },
  {
   "cell_type": "code",
   "execution_count": 2,
   "metadata": {
    "id": "UuBME-W5wXp-",
    "outputId": "8d00136b-c541-4b47-cf0e-44728fd5eae6"
   },
   "outputs": [
    {
     "data": {
      "image/png": "[encoded data removed]",
      "text/plain": [
       "<Figure size 720x288 with 1 Axes>"
      ]
     },
     "metadata": {
      "filenames": {
       "image/png": "/Users/johnbutler/Dropbox/MY DOCUMENTS/My Pubs/Jupyter/Numerical Analysis/BOOK/_build/jupyter_execute/Chapter02_Higher_Order_Methods/2_Problem_Sheet/02_PS_Question_3_4_0.png"
      },
      "needs_background": "light"
     },
     "output_type": "display_data"
    }
   ],
   "source": [
    "### Setting up time\n",
    "t_end=2\n",
    "t_start=0\n",
    "N=4\n",
    "h=(t_end-t_start)/(N)\n",
    "t=np.arange(t_start,t_end+0.01,h)\n",
    "fig = plt.figure(figsize=(10,4))\n",
    "plt.plot(t,0*t,'o:',color='red')\n",
    "plt.plot(t[0],0*t[0],'o',color='green')\n",
    "\n",
    "\n",
    "plt.title('Illustration of discrete time points for h=%s'%(h))\n",
    "plt.plot();"
   ]
  },
  {
   "cell_type": "markdown",
   "metadata": {
    "id": "OqTZ5VdPwXqB"
   },
   "source": [
    "## 2nd Order Taylor Solution\n",
    "The 2nd Order Taylor difference equation is given by\n",
    "\\begin{equation}  w_{i+1}=w_i+h\\left[f(t_i,w_i)+\\frac{h}{2}f'(t_i,w_i)\\right],\\end{equation}\n",
    "where\n",
    "\\begin{equation}  f(t_i,w_i)=t_iw_i-t_iw_i^2,\\end{equation}\n",
    "and\n",
    "\\begin{equation}  f'(t_i,w_i)=w_i+t_i(t_iw_i-t_iw_i^2)-w_i^2-t_i(2w_i(t_iw_i-t_iw_i^2)),\\end{equation}\n",
    "which gives\n",
    "\\begin{equation} w_{i+1}=w_i+h(t_iw_i-t_iw_i^2)+\\frac{h^2}{2}(w_i+t_i(t_iw_i-t_iw_i^2)-w_i^2-t_i(2w_i(t_iw_i-t_iw_i^2))),\\end{equation}\n",
    "\n",
    "for $i=0,1,2,3$\n",
    "with\n",
    "$w_0=0.5$\n",
    "\n"
   ]
  },
  {
   "cell_type": "code",
   "execution_count": 3,
   "metadata": {
    "id": "PEFBfPCAwXqC"
   },
   "outputs": [],
   "source": [
    "IC=0.5\n",
    "w=np.zeros(N+1)\n",
    "e=np.zeros(N+1)\n",
    "w[0]=IC\n",
    "\n",
    "#e[0]=IC\n",
    "for i in range (0,N):\n",
    "  #  e[i+1]=e[i]+h*(t[i]*e[i]-t[i]*e[i]*e[i])\n",
    "    w[i+1]=w[i]+h*(t[i]*w[i]-t[i]*w[i]*w[i])+h*h/2*(w[i]+t[i]*(t[i]*w[i]-t[i]*w[i]*w[i])-w[i]*w[i]-t[i]*(2*w[i]*(t[i]*w[i]-t[i]*w[i]*w[i])))"
   ]
  },
  {
   "cell_type": "code",
   "execution_count": 4,
   "metadata": {
    "id": "gMaEg7tWwXqE",
    "outputId": "988dead6-8102-44ce-a1bf-936e72f37258"
   },
   "outputs": [
    {
     "data": {
      "image/png": "[encoded data removed]",
      "text/plain": [
       "<Figure size 288x360 with 1 Axes>"
      ]
     },
     "metadata": {
      "filenames": {
       "image/png": "/Users/johnbutler/Dropbox/MY DOCUMENTS/My Pubs/Jupyter/Numerical Analysis/BOOK/_build/jupyter_execute/Chapter02_Higher_Order_Methods/2_Problem_Sheet/02_PS_Question_3_7_0.png"
      },
      "needs_background": "light"
     },
     "output_type": "display_data"
    }
   ],
   "source": [
    "fig = plt.figure(figsize=(4,5))\n",
    "# --- left hand plot\n",
    "#ax = fig.add_subplot(1,4,1)\n",
    "plt.plot(t,w,'o:',color='k')\n",
    "plt.plot(t[0],w[0],'o',color='green')\n",
    "plt.plot(t,e,'o:',color='r')\n",
    "\n",
    "\n",
    "#ax.legend(loc='best')\n",
    "plt.title('Numerical Solution (w) h=%s'%(h))\n",
    "plt.show()\n"
   ]
  },
  {
   "cell_type": "code",
   "execution_count": 5,
   "metadata": {
    "id": "wOFTuhuQwXqL",
    "outputId": "52831746-b8c4-4714-e5a2-cb200a81aaea"
   },
   "outputs": [
    {
     "ename": "NameError",
     "evalue": "name 'y' is not defined",
     "output_type": "error",
     "traceback": [
      "\u001b[0;31m---------------------------------------------------------------------------\u001b[0m",
      "\u001b[0;31mNameError\u001b[0m                                 Traceback (most recent call last)",
      "\u001b[0;32m<ipython-input-5-db90f40f54b9>\u001b[0m in \u001b[0;36m<module>\u001b[0;34m\u001b[0m\n\u001b[0;32m----> 1\u001b[0;31m \u001b[0md\u001b[0m \u001b[0;34m=\u001b[0m \u001b[0;34m{\u001b[0m\u001b[0;34m'time t_i'\u001b[0m\u001b[0;34m:\u001b[0m \u001b[0mt\u001b[0m\u001b[0;34m,\u001b[0m    \u001b[0;34m'Euler (w_i) '\u001b[0m\u001b[0;34m:\u001b[0m\u001b[0mw\u001b[0m\u001b[0;34m,\u001b[0m    \u001b[0;34m'Taylor (w_i) '\u001b[0m\u001b[0;34m:\u001b[0m\u001b[0my\u001b[0m\u001b[0;34m,\u001b[0m    \u001b[0;34m'Exact Error( |y_i-w_i|) '\u001b[0m\u001b[0;34m:\u001b[0m\u001b[0mnp\u001b[0m\u001b[0;34m.\u001b[0m\u001b[0mabs\u001b[0m\u001b[0;34m(\u001b[0m\u001b[0my\u001b[0m\u001b[0;34m-\u001b[0m\u001b[0mw\u001b[0m\u001b[0;34m)\u001b[0m\u001b[0;34m}\u001b[0m\u001b[0;34m\u001b[0m\u001b[0;34m\u001b[0m\u001b[0m\n\u001b[0m\u001b[1;32m      2\u001b[0m \u001b[0mdf\u001b[0m \u001b[0;34m=\u001b[0m \u001b[0mpd\u001b[0m\u001b[0;34m.\u001b[0m\u001b[0mDataFrame\u001b[0m\u001b[0;34m(\u001b[0m\u001b[0mdata\u001b[0m\u001b[0;34m=\u001b[0m\u001b[0md\u001b[0m\u001b[0;34m)\u001b[0m\u001b[0;34m\u001b[0m\u001b[0;34m\u001b[0m\u001b[0m\n\u001b[1;32m      3\u001b[0m \u001b[0mdf\u001b[0m\u001b[0;34m\u001b[0m\u001b[0;34m\u001b[0m\u001b[0m\n",
      "\u001b[0;31mNameError\u001b[0m: name 'y' is not defined"
     ]
    }
   ],
   "source": [
    "\n",
    "d = {'time t_i': t,    'Euler (w_i) ':w,    'Taylor (w_i) ':y,    'Exact Error( |y_i-w_i|) ':np.abs(y-w)}\n",
    "df = pd.DataFrame(data=d)\n",
    "df"
   ]
  },
  {
   "cell_type": "code",
   "execution_count": null,
   "metadata": {
    "id": "f2rmTfNowXqN"
   },
   "outputs": [],
   "source": []
  }
 ],
 "metadata": {
  "colab": {
   "include_colab_link": true,
   "name": "01_Problem Sheet 1 Question 2b.ipynb",
   "provenance": []
  },
  "kernelspec": {
   "display_name": "Python 3",
   "language": "python",
   "name": "python3"
  },
  "language_info": {
   "codemirror_mode": {
    "name": "ipython",
    "version": 3
   },
   "file_extension": ".py",
   "mimetype": "text/x-python",
   "name": "python",
   "nbconvert_exporter": "python",
   "pygments_lexer": "ipython3",
   "version": "3.8.11"
  }
 },
 "nbformat": 4,
 "nbformat_minor": 0
}