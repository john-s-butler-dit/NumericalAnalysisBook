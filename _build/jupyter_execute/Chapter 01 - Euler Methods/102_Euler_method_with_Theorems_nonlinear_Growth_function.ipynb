{
 "cells": [
  {
   "cell_type": "markdown",
   "metadata": {
    "colab_type": "text",
    "id": "view-in-github"
   },
   "source": [
    "<a href=\"https://colab.research.google.com/github/john-s-butler-dit/Numerical-Analysis-Python/blob/master/Chapter%2001%20-%20Euler%20Methods/102_Euler_method_with_Theorems_nonlinear_Growth_function.ipynb\" target=\"_parent\"><img src=\"https://colab.research.google.com/assets/colab-badge.svg\" alt=\"Open In Colab\"/></a>"
   ]
  },
  {
   "cell_type": "markdown",
   "metadata": {
    "id": "jXvTv0BKq1DZ"
   },
   "source": [
    "# Euler Method with Theorems Applied to Non-Linear Population Equations\n",
    "\n",
    "\n",
    "The more general form of a first order Ordinary Differential Equation is:\n",
    "\\begin{equation}\n",
    "y^{'}=f(t,y).\n",
    "\\end{equation}\n",
    "This can be solved analytically by integrating both sides but this is not straight forward for most problems.\n",
    "Numerical methods can be used to approximate the solution at discrete points.\n",
    "In this notebook we will work through the Euler method for two initial value problems:\n",
    "\n",
    "1. A non-linear sigmoidal population equation\n",
    "\\begin{equation}\n",
    "y^{'}=0.2 y− 0.01 y^2 ,\n",
    "\\end{equation}\n",
    "2. A non-linear sigmoidal population differential equation with a wiggle,\n",
    "\\begin{equation}\n",
    "y^{'}=0.2 y-0.01 y^2+\\sin(2\\pi t).\n",
    "\\end{equation}\n",
    "\n"
   ]
  },
  {
   "cell_type": "markdown",
   "metadata": {
    "id": "bvvWk8gEq1Da"
   },
   "source": [
    "## Euler method\n",
    "\n",
    "The simplest one step numerical method is the Euler Method named after the most prolific of mathematicians [Leonhard Euler](https://en.wikipedia.org/wiki/Leonhard_Euler) (15 April 1707 – 18 September 1783) .\n",
    "\n",
    "The general Euler formula for to the first order differential equation\n",
    "\\begin{equation}\n",
    "y^{'} = f(t,y),\n",
    "\\end{equation}\n",
    "\n",
    "approximates the derivative at time point $t_i$,\n",
    "\\begin{equation}\n",
    "y^{'}(t_i) \\approx \\frac{w_{i+1}-w_i}{t_{i+1}-t_{i}},\n",
    "\\end{equation}\n",
    "where $w_i$ is the approximate solution of $y$ at time $t_i$.\n",
    "This substitution changes the differential equation  into a __difference__ equation of the form\n",
    "\\begin{equation}\n",
    "\\frac{w_{i+1}-w_i}{t_{i+1}-t_{i}}=f(t_i,w_i).\n",
    "\\end{equation}\n",
    "Assuming uniform stepsize $t_{i+1}-t_{i}$ is replaced by $h$, re-arranging the equation gives\n",
    "\\begin{equation}\n",
    "w_{i+1}=w_i+hf(t_i,w_i),\n",
    "\\end{equation}\n",
    " This can be read as the future $w_{i+1}$ can be approximated by the present $w_i$ and the addition of the input to the system $f(t,y)$ times the time step.\n"
   ]
  },
  {
   "cell_type": "code",
   "execution_count": 1,
   "metadata": {
    "id": "Dwvq3DB3q1Db"
   },
   "outputs": [],
   "source": [
    "## Library\n",
    "import numpy as np\n",
    "import math\n",
    "\n",
    "%matplotlib inline\n",
    "import matplotlib.pyplot as plt # side-stepping mpl backend\n",
    "import matplotlib.gridspec as gridspec # subplots\n",
    "import warnings\n",
    "import pandas as pd\n",
    "\n",
    "warnings.filterwarnings(\"ignore\")"
   ]
  },
  {
   "cell_type": "markdown",
   "metadata": {
    "id": "fLg7I37Iq1Df"
   },
   "source": [
    "# Non-linear population equation\n",
    "\n",
    "The general form of the non-linear sigmoidal population growth differential equation is:\n",
    "\\begin{equation}\n",
    "y^{'}=\\alpha y-\\beta y^2,\n",
    "\\end{equation}\n",
    "where $\\alpha$ is the growth rate and $\\beta$ is the death rate. The initial population at time $ a $ is\n",
    "\\begin{equation}\n",
    " y(a)=A,\n",
    "\\end{equation}\n",
    "\\begin{equation}\n",
    " a\\leq t \\leq b.\n",
    "\\end{equation}\n",
    "\n",
    "## Specific non-linear population equation\n",
    "Given the growth rate $$\\alpha=0.2,$$ and death rate $$\\beta=0.01,$$ giving the specific differential equation,\n",
    "\\begin{equation}\n",
    " y^{'}=0.2 y-0.01 y^2,\n",
    "\\end{equation}\n",
    "The initial population at time $2000$ is\n",
    "\\begin{equation}\n",
    " y(2000)=6,\n",
    "\\end{equation}\n",
    "we are interested in the time period\n",
    "\\begin{equation}\n",
    " 2000\\leq t \\leq 2020.\n",
    "\\end{equation}\n",
    "\n",
    "## Initial Condition\n",
    "To get a specify solution to a first order initial value problem, an __initial condition__ is required.\n",
    "For our population problem the initial population is 6 billion people:\n",
    "\\begin{equation}\n",
    "y(2000)=6.\n",
    "\\end{equation}\n",
    "\n",
    "## General Discrete Interval\n",
    "The continuous time $a\\leq t \\leq b $ is discretised into $N$ points seperated by a constant stepsize\n",
    "\\begin{equation}\n",
    " h=\\frac{b-a}{N}.\n",
    "\\end{equation}\n",
    "## Specific Discrete Interval\n",
    "Here the interval is $2000\\leq t \\leq 2020$ with $N=200$\n",
    "\\begin{equation}\n",
    "h=\\frac{2020-2000}{200}=0.1,\n",
    "\\end{equation}\n",
    "this gives the 201 discrete points with stepsize h=0.1:\n",
    "\\begin{equation}\n",
    "t_0=2000, \\ t_1=0.1, \\ ... t_{200}=2020,\n",
    "\\end{equation}\n",
    "which is generalised to\n",
    "\\begin{equation}\n",
    " t_i=2000+i0.1, \\ \\ \\ i=0,1,...,200.\n",
    "\\end{equation}\n",
    "The plot below illustrates the discrete time steps from 2000 to 2002."
   ]
  },
  {
   "cell_type": "code",
   "execution_count": 2,
   "metadata": {
    "colab": {
     "base_uri": "https://localhost:8080/",
     "height": 281
    },
    "id": "G8432kw-q1Dg",
    "outputId": "c4cb0564-2490-416f-b130-19a3e6cbc905"
   },
   "outputs": [
    {
     "data": {
      "image/png": "[encoded data removed]",
      "text/plain": [
       "<Figure size 1000x400 with 1 Axes>"
      ]
     },
     "metadata": {},
     "output_type": "display_data"
    }
   ],
   "source": [
    "### Setting up time\n",
    "t_end=2020.0\n",
    "t_start=2000.0\n",
    "N=200\n",
    "h=(t_end-t_start)/(N)\n",
    "time=np.arange(t_start,t_end+0.01,h)\n",
    "fig = plt.figure(figsize=(10,4))\n",
    "plt.plot(time,0*time,'o:',color='red')\n",
    "plt.title('Illustration of discrete time points for h=%s'%(h))\n",
    "plt.xlim((2000,2002))\n",
    "plt.plot();"
   ]
  },
  {
   "cell_type": "markdown",
   "metadata": {
    "id": "wjPGvw3hq1Dj"
   },
   "source": []
  },
  {
   "cell_type": "markdown",
   "metadata": {
    "id": "C1vVUhi9q1Dk"
   },
   "source": [
    "## Numerical approximation of Population growth\n",
    "The differential equation is transformed using the Euler method into a difference equation of the form\n",
    "\\begin{equation}\n",
    "      w_{i+1}=w_{i}+h (\\alpha w_i-\\beta w_i\\times w_i).\n",
    "\\end{equation}\n",
    "This approximates a series of of values $w_0, \\ w_1, \\ ..., w_{N}$.\n",
    "For the specific example of the population equation the difference equation is,\n",
    "\\begin{equation}\n",
    "       w_{i+1}=w_{i}+h 0.1 [0.2 w_i-0.01 w_i\\times w_i],\n",
    "\\end{equation}\n",
    "where $i=0,1,2,...,199$, and $w_0=6$. From this initial condition the series is approximated.\n"
   ]
  },
  {
   "cell_type": "code",
   "execution_count": 3,
   "metadata": {
    "id": "kEsI8YyLq1Dk"
   },
   "outputs": [],
   "source": [
    "w=np.zeros(N+1)\n",
    "w[0]=6\n",
    "for i in range (0,N):\n",
    "    w[i+1]=w[i]+h*(0.2*w[i]-0.01*w[i]*w[i])\n",
    "\n"
   ]
  },
  {
   "cell_type": "markdown",
   "metadata": {
    "id": "FyeBTY3WzF02"
   },
   "source": [
    "The plot below shows the Euler approximation $w$ in blue squares."
   ]
  },
  {
   "cell_type": "code",
   "execution_count": 4,
   "metadata": {
    "colab": {
     "base_uri": "https://localhost:8080/",
     "height": 295
    },
    "id": "n6jZ_GUxzBmz",
    "outputId": "79b31896-b835-4c29-cbdb-e1443f8c43d1"
   },
   "outputs": [
    {
     "data": {
      "image/png": "[encoded data removed]",
      "text/plain": [
       "<Figure size 1000x400 with 1 Axes>"
      ]
     },
     "metadata": {},
     "output_type": "display_data"
    }
   ],
   "source": [
    "fig = plt.figure(figsize=(10,4))\n",
    "plt.plot(time,w,'s:',color='blue',label='Euler')\n",
    "plt.xlim((min(time),max(time)))\n",
    "plt.xlabel('time')\n",
    "plt.legend(loc='best')\n",
    "plt.title('Euler solution')\n",
    "plt.plot();"
   ]
  },
  {
   "cell_type": "markdown",
   "metadata": {
    "id": "Hn9npNs_q1Dn"
   },
   "source": [
    "### Table\n",
    "The table below shows the iteration $i$, the discrete time point t[i], and the Euler approximation w[i] of the solution $y$ at time point t[i] for the non-linear population equation."
   ]
  },
  {
   "cell_type": "code",
   "execution_count": 5,
   "metadata": {
    "colab": {
     "base_uri": "https://localhost:8080/",
     "height": 363
    },
    "id": "MTV39vTDq1Dn",
    "outputId": "78b7005f-4c6b-45b6-d30e-5662d0df2cc5"
   },
   "outputs": [
    {
     "data": {
      "text/html": [
       "<div>\n",
       "<style scoped>\n",
       "    .dataframe tbody tr th:only-of-type {\n",
       "        vertical-align: middle;\n",
       "    }\n",
       "\n",
       "    .dataframe tbody tr th {\n",
       "        vertical-align: top;\n",
       "    }\n",
       "\n",
       "    .dataframe thead th {\n",
       "        text-align: right;\n",
       "    }\n",
       "</style>\n",
       "<table border=\"1\" class=\"dataframe\">\n",
       "  <thead>\n",
       "    <tr style=\"text-align: right;\">\n",
       "      <th></th>\n",
       "      <th>time t[i]</th>\n",
       "      <th>Euler (w_i)</th>\n",
       "    </tr>\n",
       "  </thead>\n",
       "  <tbody>\n",
       "    <tr>\n",
       "      <th>0</th>\n",
       "      <td>2000.0</td>\n",
       "      <td>6.000000</td>\n",
       "    </tr>\n",
       "    <tr>\n",
       "      <th>1</th>\n",
       "      <td>2000.1</td>\n",
       "      <td>6.084000</td>\n",
       "    </tr>\n",
       "    <tr>\n",
       "      <th>2</th>\n",
       "      <td>2000.2</td>\n",
       "      <td>6.168665</td>\n",
       "    </tr>\n",
       "    <tr>\n",
       "      <th>3</th>\n",
       "      <td>2000.3</td>\n",
       "      <td>6.253986</td>\n",
       "    </tr>\n",
       "    <tr>\n",
       "      <th>4</th>\n",
       "      <td>2000.4</td>\n",
       "      <td>6.339953</td>\n",
       "    </tr>\n",
       "    <tr>\n",
       "      <th>5</th>\n",
       "      <td>2000.5</td>\n",
       "      <td>6.426557</td>\n",
       "    </tr>\n",
       "    <tr>\n",
       "      <th>6</th>\n",
       "      <td>2000.6</td>\n",
       "      <td>6.513788</td>\n",
       "    </tr>\n",
       "    <tr>\n",
       "      <th>7</th>\n",
       "      <td>2000.7</td>\n",
       "      <td>6.601634</td>\n",
       "    </tr>\n",
       "    <tr>\n",
       "      <th>8</th>\n",
       "      <td>2000.8</td>\n",
       "      <td>6.690085</td>\n",
       "    </tr>\n",
       "    <tr>\n",
       "      <th>9</th>\n",
       "      <td>2000.9</td>\n",
       "      <td>6.779130</td>\n",
       "    </tr>\n",
       "  </tbody>\n",
       "</table>\n",
       "</div>"
      ],
      "text/plain": [
       "   time t[i]  Euler (w_i) \n",
       "0     2000.0      6.000000\n",
       "1     2000.1      6.084000\n",
       "2     2000.2      6.168665\n",
       "3     2000.3      6.253986\n",
       "4     2000.4      6.339953\n",
       "5     2000.5      6.426557\n",
       "6     2000.6      6.513788\n",
       "7     2000.7      6.601634\n",
       "8     2000.8      6.690085\n",
       "9     2000.9      6.779130"
      ]
     },
     "execution_count": 5,
     "metadata": {},
     "output_type": "execute_result"
    }
   ],
   "source": [
    "d = {'time t[i]': time[0:10],    'Euler (w_i) ':w[0:10]}\n",
    "df = pd.DataFrame(data=d)\n",
    "df"
   ]
  },
  {
   "cell_type": "markdown",
   "metadata": {
    "id": "eyZsqYKhq1Dq"
   },
   "source": [
    "## Numerical Error\n",
    "With a numerical solution there are two types of error:\n",
    "* local truncation error at one time step;\n",
    "* global error which is the propagation of local error.\n",
    "\n",
    "### Derivation of  Euler Local truncation error\n",
    "The left hand side of a initial value problem $\\frac{dy}{dt}$ is approximated by __Taylors theorem__ expand about a point $t_0$ giving:\n",
    "\\begin{equation}\n",
    "y(t_1) = y(t_0)+(t_1-t_0)y^{'}(t_0) + \\frac{(t_1-t_0)^2}{2!}y^{''}(\\xi), \\ \\ \\ \\ \\ \\ \\xi \\in [t_0,t_1].\n",
    "\\end{equation}\n",
    "Rearranging and letting $h=t_1-t_0$ the equation becomes\n",
    "\\begin{equation}\n",
    "y^{'}(t_0)=\\frac{y(t_1)-y(t_0)}{h}-\\frac{h}{2}y^{''}(\\xi).\n",
    "\\end{equation}\n",
    "From this the local truncation error is\n",
    "\\begin{equation}\n",
    "\\tau \\leq \\frac{h}{2}M,  \n",
    "\\end{equation}\n",
    "where $y^{''}(t) \\leq M $.\n",
    "#### Derivation of  Euler Local truncation error for the Population Growth\n",
    "As the exact solution $y$ is unknown we cannot get an exact estimate of the second derivative\n",
    "\\begin{equation}\n",
    "y'(t)=0.2 y-0.01 y^2,\n",
    "\\end{equation}\n",
    "differentiate with respect to $t$,\n",
    "\\begin{equation}\n",
    "y''(t)=0.2 y'-0.01 (2yy'),\n",
    "\\end{equation}\n",
    "subbing the original equation gives\n",
    "\\begin{equation}\n",
    "y''(t)=0.2 (0.2 y-0.01 y^2)-0.01 \\big(2y(0.2 y-0.01 y^2)\\big),\n",
    "\\end{equation}\n",
    "which expresses the second derivative as a function of the exact solution $y$, this is still a problem as the value of $y$ is unknown, to side step this issue we assume the population is between $0\\le y \\le 20,$ this gives\n",
    "\\begin{equation}\n",
    "\\max|y''|=M\\leq 6,\n",
    "\\end{equation}\n",
    "this gives a local trucation for $h=0.1$ for our non-linear equation is\n",
    "\\begin{equation}\n",
    "\\tau=\\frac{h}{2}6=0.3.\n",
    "\\end{equation}\n"
   ]
  },
  {
   "cell_type": "code",
   "execution_count": 6,
   "metadata": {
    "colab": {
     "base_uri": "https://localhost:8080/",
     "height": 295
    },
    "id": "1UtvXNmVq1Dr",
    "outputId": "9cfcf79a-0954-4095-fed0-5799e94d4879"
   },
   "outputs": [
    {
     "data": {
      "image/png": "[encoded data removed]",
      "text/plain": [
       "<Figure size 1000x400 with 1 Axes>"
      ]
     },
     "metadata": {},
     "output_type": "display_data"
    }
   ],
   "source": [
    "M=6\n",
    "fig = plt.figure(figsize=(10,4))\n",
    "plt.plot(time[0:2],0.1*M/2*np.ones(2),'v:'\n",
    "         ,color='black',label='Upper Local Truncation')\n",
    "plt.xlabel('time')\n",
    "plt.ylim([0,0.1])\n",
    "plt.legend(loc='best')\n",
    "plt.title('Local Truncation Error')\n",
    "plt.plot();"
   ]
  },
  {
   "cell_type": "markdown",
   "metadata": {
    "collapsed": true,
    "id": "JarxBPWxq1Du"
   },
   "source": [
    "### Global truncation error for the population equation\n",
    "For the population equation specific values $L$ and $M$ can be calculated.\n",
    "\n",
    "In this case $f(t,y)=\\epsilon y$ is continuous and satisfies a Lipschitz Condition with constant\n",
    "\\begin{equation}\n",
    "L\\leq \\left|\\frac{\\partial f(t,y)}{\\partial y}\\right|,\n",
    "\\end{equation}\n",
    "\\begin{equation}\n",
    " \\left|\\frac{\\partial (0.2 -0.01 y^2)}{\\partial y}\\right|\\leq |0.2(20)-0.01(2\\times y)| \\leq |0.2-0.01(2\\times 20)|\\leq 0.8,\n",
    "\\end{equation}\n",
    "\n",
    "on $D=\\{(t,y)|2000\\leq t \\leq 2020, 0 < y < 20 \\}$ and that a constant $M$\n",
    "exists with the property that\n",
    "\\begin{equation}\n",
    "|y^{''}(t)|\\leq M\\leq 6.\n",
    "\\end{equation}\n",
    "\n",
    "__Specific Theorem Global Error__\n",
    "\n",
    "Let $y(t)$ denote the unique solution of the Initial Value Problem\n",
    "\\begin{equation}\n",
    "y^{'}=0.2 y-0.01 y^2, \\ \\ \\ 2000\\leq t \\leq 2020, \\ \\ \\ y(0)=6,\n",
    "\\end{equation}\n",
    "and $w_0,w_1,...,w_N$ be the approx generated by the Euler method for some\n",
    "positive integer N.  Then for $i=0,1,...,N$ the error is:\n",
    "\\begin{equation}\n",
    "|y(t_i)-w_i| \\leq \\frac{6 h}{2\\times 0.8}|e^{0.8(t_i-2000)}-1|.\n",
    "\\end{equation}\n"
   ]
  },
  {
   "cell_type": "markdown",
   "metadata": {
    "id": "nzOILjf-q1Du"
   },
   "source": [
    "# Non-linear population equation with a temporal oscilation\n",
    "Given the specific population differential equation with a wiggle,\n",
    "\\begin{equation}\n",
    "y^{'}=0.2 y-0.01 y^2+sin(2\\pi t),\n",
    "\\end{equation}\n",
    "with the initial population at time $2000$ is\n",
    "\\begin{equation}\n",
    "y(2000)=6,\n",
    "\\end{equation}\n",
    "\\begin{equation}\n",
    "2000\\leq t \\leq 2020.\n",
    "\\end{equation}\n",
    "\n",
    "For the specific example of the population equation the difference equation is\n",
    "\\begin{equation}\n",
    "      w_{i+1}=w_{i}+h 0.5 (0.2 w_i-0.02 w_i\\times w_i+sin(2 \\pi t),\n",
    "\\end{equation}\n",
    "for $i=0,1,...,199$,\n",
    "where $w_0=6$. From this initial condition the series is approximated.\n",
    "The figure below shows the discrete solution."
   ]
  },
  {
   "cell_type": "code",
   "execution_count": 7,
   "metadata": {
    "colab": {
     "base_uri": "https://localhost:8080/",
     "height": 295
    },
    "id": "xa-HTNsZq1Dv",
    "outputId": "ba80c0cd-027a-4456-8b4c-4d8995853ebf"
   },
   "outputs": [
    {
     "data": {
      "image/png": "[encoded data removed]",
      "text/plain": [
       "<Figure size 1000x400 with 1 Axes>"
      ]
     },
     "metadata": {},
     "output_type": "display_data"
    }
   ],
   "source": [
    "w=np.zeros(N+1)\n",
    "w[0]=6\n",
    "for i in range (0,N):\n",
    "    w[i+1]=w[i]+h*(0.2*w[i]-0.01*w[i]*w[i]+np.sin(2*np.pi*time[i]))\n",
    "\n",
    "fig = plt.figure(figsize=(10,4))\n",
    "plt.plot(time,w,'s:',color='blue',label='Euler')\n",
    "plt.xlim((min(time),max(time)))\n",
    "plt.xlabel('time')\n",
    "plt.legend(loc='best')\n",
    "plt.title('Euler solution')\n",
    "plt.plot();"
   ]
  },
  {
   "cell_type": "markdown",
   "metadata": {
    "id": "WaRVDBSOq1Dx"
   },
   "source": [
    "### Table\n",
    "The table below shows the iteration $i$, the discrete time point t[i], and the Euler approximation w[i] of the solution $y$ at time point t[i] for the non-linear population equation with a temporal oscilation."
   ]
  },
  {
   "cell_type": "code",
   "execution_count": 8,
   "metadata": {
    "colab": {
     "base_uri": "https://localhost:8080/",
     "height": 363
    },
    "id": "Xiu8JGn3q1Dy",
    "outputId": "995a4cff-d2f1-4b45-dc61-cc2ce7cb87c6"
   },
   "outputs": [
    {
     "data": {
      "text/html": [
       "<div>\n",
       "<style scoped>\n",
       "    .dataframe tbody tr th:only-of-type {\n",
       "        vertical-align: middle;\n",
       "    }\n",
       "\n",
       "    .dataframe tbody tr th {\n",
       "        vertical-align: top;\n",
       "    }\n",
       "\n",
       "    .dataframe thead th {\n",
       "        text-align: right;\n",
       "    }\n",
       "</style>\n",
       "<table border=\"1\" class=\"dataframe\">\n",
       "  <thead>\n",
       "    <tr style=\"text-align: right;\">\n",
       "      <th></th>\n",
       "      <th>time t_i</th>\n",
       "      <th>Euler (w_i)</th>\n",
       "    </tr>\n",
       "  </thead>\n",
       "  <tbody>\n",
       "    <tr>\n",
       "      <th>0</th>\n",
       "      <td>2000.0</td>\n",
       "      <td>6.000000</td>\n",
       "    </tr>\n",
       "    <tr>\n",
       "      <th>1</th>\n",
       "      <td>2000.1</td>\n",
       "      <td>6.084000</td>\n",
       "    </tr>\n",
       "    <tr>\n",
       "      <th>2</th>\n",
       "      <td>2000.2</td>\n",
       "      <td>6.227443</td>\n",
       "    </tr>\n",
       "    <tr>\n",
       "      <th>3</th>\n",
       "      <td>2000.3</td>\n",
       "      <td>6.408317</td>\n",
       "    </tr>\n",
       "    <tr>\n",
       "      <th>4</th>\n",
       "      <td>2000.4</td>\n",
       "      <td>6.590522</td>\n",
       "    </tr>\n",
       "    <tr>\n",
       "      <th>5</th>\n",
       "      <td>2000.5</td>\n",
       "      <td>6.737676</td>\n",
       "    </tr>\n",
       "    <tr>\n",
       "      <th>6</th>\n",
       "      <td>2000.6</td>\n",
       "      <td>6.827034</td>\n",
       "    </tr>\n",
       "    <tr>\n",
       "      <th>7</th>\n",
       "      <td>2000.7</td>\n",
       "      <td>6.858187</td>\n",
       "    </tr>\n",
       "    <tr>\n",
       "      <th>8</th>\n",
       "      <td>2000.8</td>\n",
       "      <td>6.853211</td>\n",
       "    </tr>\n",
       "    <tr>\n",
       "      <th>9</th>\n",
       "      <td>2000.9</td>\n",
       "      <td>6.848203</td>\n",
       "    </tr>\n",
       "  </tbody>\n",
       "</table>\n",
       "</div>"
      ],
      "text/plain": [
       "   time t_i  Euler (w_i) \n",
       "0    2000.0      6.000000\n",
       "1    2000.1      6.084000\n",
       "2    2000.2      6.227443\n",
       "3    2000.3      6.408317\n",
       "4    2000.4      6.590522\n",
       "5    2000.5      6.737676\n",
       "6    2000.6      6.827034\n",
       "7    2000.7      6.858187\n",
       "8    2000.8      6.853211\n",
       "9    2000.9      6.848203"
      ]
     },
     "execution_count": 8,
     "metadata": {},
     "output_type": "execute_result"
    }
   ],
   "source": [
    "\n",
    "d = {'time t_i': time[0:10],    'Euler (w_i) ':w[0:10]}\n",
    "df = pd.DataFrame(data=d)\n",
    "df"
   ]
  },
  {
   "cell_type": "code",
   "execution_count": null,
   "metadata": {
    "id": "ZKxK3FkssdlA"
   },
   "outputs": [],
   "source": []
  }
 ],
 "metadata": {
  "colab": {
   "include_colab_link": true,
   "name": "102_Euler_method_with_Theorems_nonlinear_Growth_function.ipynb",
   "provenance": []
  },
  "kernelspec": {
   "display_name": "Python 3",
   "language": "python",
   "name": "python3"
  },
  "language_info": {
   "codemirror_mode": {
    "name": "ipython",
    "version": 3
   },
   "file_extension": ".py",
   "mimetype": "text/x-python",
   "name": "python",
   "nbconvert_exporter": "python",
   "pygments_lexer": "ipython3",
   "version": "3.8.13"
  }
 },
 "nbformat": 4,
 "nbformat_minor": 0
}