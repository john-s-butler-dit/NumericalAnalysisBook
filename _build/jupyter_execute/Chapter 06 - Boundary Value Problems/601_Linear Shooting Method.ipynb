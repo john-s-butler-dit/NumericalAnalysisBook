{
 "cells": [
  {
   "cell_type": "markdown",
   "metadata": {
    "colab_type": "text",
    "id": "view-in-github"
   },
   "source": [
    "<a href=\"https://colab.research.google.com/github/john-s-butler-dit/Numerical-Analysis-Python/blob/master/Chapter%2006%20-%20Boundary%20Value%20Problems/601_Linear%20Shooting%20Method.ipynb\" target=\"_parent\"><img src=\"https://colab.research.google.com/assets/colab-badge.svg\" alt=\"Open In Colab\"/></a>"
   ]
  },
  {
   "cell_type": "markdown",
   "metadata": {
    "id": "Z_EdXluqzGCI"
   },
   "source": [
    "# Linear Shooting Method\n",
    "#### John S Butler john.s.butler@tudublin.ie   [Course Notes](https://johnsbutler.netlify.com/files/Teaching/Numerical_Analysis_for_Differential_Equations.pdf)    [Github](https://github.com/john-s-butler-dit/Numerical-Analysis-Python)"
   ]
  },
  {
   "cell_type": "markdown",
   "metadata": {
    "id": "TQlbwgeIzGCL"
   },
   "source": [
    "## Overview\n",
    "This notebook illustates the implentation of a linear shooting method to a linear boundary value problem. The video below walks through the code."
   ]
  },
  {
   "cell_type": "code",
   "execution_count": 1,
   "metadata": {
    "colab": {
     "base_uri": "https://localhost:8080/",
     "height": 336
    },
    "id": "wCoK3RFEzGCM",
    "outputId": "a1035120-68b7-49a7-f1ed-6a0cc67a8c8e"
   },
   "outputs": [
    {
     "name": "stderr",
     "output_type": "stream",
     "text": [
      "/Users/johnbutler/opt/anaconda3/lib/python3.8/site-packages/IPython/core/display.py:724: UserWarning: Consider using IPython.display.IFrame instead\n",
      "  warnings.warn(\"Consider using IPython.display.IFrame instead\")\n"
     ]
    },
    {
     "data": {
      "text/html": [
       "<iframe width=\"560\" height=\"315\" src=\"https://www.youtube.com/embed/g0JrcJVFoZg\" frameborder=\"0\" allow=\"accelerometer; autoplay; clipboard-write; encrypted-media; gyroscope; picture-in-picture\" allowfullscreen></iframe>"
      ],
      "text/plain": [
       "<IPython.core.display.HTML object>"
      ]
     },
     "execution_count": 1,
     "metadata": {},
     "output_type": "execute_result"
    }
   ],
   "source": [
    "from IPython.display import HTML\n",
    "HTML('<iframe width=\"560\" height=\"315\" src=\"https://www.youtube.com/embed/g0JrcJVFoZg\" frameborder=\"0\" allow=\"accelerometer; autoplay; clipboard-write; encrypted-media; gyroscope; picture-in-picture\" allowfullscreen></iframe>')"
   ]
  },
  {
   "cell_type": "markdown",
   "metadata": {
    "id": "SGMwRqi6zGCO"
   },
   "source": [
    "## Introduction\n",
    "To numerically approximate the Boundary Value Problem\n",
    " \\begin{equation}\n",
    "y^{''}=p(x)y^{'}+q(x)y+r(x) \\ \\ \\ a < x < b \\end{equation}\n",
    "with the left and right boundary conditions:\n",
    " \\begin{equation}y(a)=\\alpha, \\end{equation}\n",
    " \\begin{equation}y(b) =\\beta. \\end{equation}\n",
    "\n",
    "The Boundary Value Problem is divided into two\n",
    "Initial Value Problems:\n",
    "1. The first 2nd order Initial Value Problem is the same as the original Boundary Value Problem with an extra initial condtion $y_1^{'}(a)=0$. \n",
    "\\begin{equation}\n",
    " y^{''}_1=p(x)y^{'}_1+q(x)y_1+r(x), \\ \\    y_1(a)=\\alpha, \\ \\ \\color{green}{y^{'}_1(a)=0},\\\\\n",
    "\\end{equation}\n",
    "2. The second 2nd order Initial Value Problem is the homogenous form of the original Boundary Value Problem, by removing $r(x)$, with the initial condtions $y_2(a)=0$ and $y_2^{'}(a)=1$.\n",
    "\n",
    "\\begin{equation}\n",
    "y^{''}_2=p(x)y^{'}_2+q(x)y_2, \\ \\ \\color{green}{y_2(a)=0, \\ \\ y^{'}_2(a)=1}.\n",
    "\\end{equation}\n",
    "\n",
    "combining these intial values problems together to get the unique solution \n",
    "\\begin{equation}\n",
    "y(x)=y_1(x)+\\frac{\\beta-y_1(b)}{y_2(b)}y_2(x),\n",
    "\\end{equation}\n",
    "provided that $y_2(b)\\not=0$.\n",
    "\n",
    "The truncation error for the shooting method  is  \n",
    "$$ |y_i - y(x_i)| \\leq K h^n\\left|1+\\frac{y_{2 i}}{y_{2 i}}\\right| $$\n",
    "$O(h^n)$ is the order of the numerical method used to approximate the solution of the Initial Value Problems.\n"
   ]
  },
  {
   "cell_type": "code",
   "execution_count": 2,
   "metadata": {
    "id": "xEz-lWFwzGCP"
   },
   "outputs": [],
   "source": [
    "import numpy as np\n",
    "import math\n",
    "import matplotlib.pyplot as plt\n",
    "import pandas as pd\n",
    "import warnings\n",
    "warnings.filterwarnings(\"ignore\")\n",
    "\n"
   ]
  },
  {
   "cell_type": "markdown",
   "metadata": {
    "id": "hPp1gJRtzGCP"
   },
   "source": [
    "## Example Boundary Value Problem\n",
    "To illustrate the shooting method we shall apply it to the Boundary Value Problem:\n",
    " \\begin{equation}y^{''}=2y^{'}+3y-6,  \\end{equation}\n",
    "with boundary conditions\n",
    " \\begin{equation}y(0) = 3,  \\end{equation}\n",
    " \\begin{equation}y(1) = e^3+2,  \\end{equation}\n",
    "with the exact solution is \n",
    " \\begin{equation}y=e^{3x}+2.  \\end{equation}\n",
    "The __boundary value problem__ is broken into two second order __Initial Value Problems:__\n",
    "1. The first 2nd order Intial Value Problem is the same as the original Boundary Value Problem with an extra initial condtion $u^{'}(0)=0$.\n",
    "\\begin{equation}\n",
    "u^{''} =2u'+3u-6, \\ \\ \\ \\ u(0)=3, \\ \\ \\ \\color{green}{u^{'}(0)=0}\n",
    "\\end{equation}\n",
    "2. The second 2nd order Intial Value Problem is the homogenous form of the original Boundary Value Problem with the initial condtions $w^{'}(0)=0$ and $w^{'}(0)=1$.\n",
    "\\begin{equation}\n",
    "w^{''} =2w^{'}+3w, \\ \\ \\ \\ \\color{green}{w(0)=0}, \\ \\ \\ \\color{green}{w^{'}(0)=1}\n",
    "\\end{equation}\n",
    "\n",
    "combining these results of these two intial value problems as a linear sum \n",
    "\\begin{equation}\n",
    "y(x)=u(x)+\\frac{e^{3x}+2-u(1)}{w(1)}w(x)\n",
    "\\end{equation}\n",
    "gives the solution of the Boundary Value Problem."
   ]
  },
  {
   "cell_type": "markdown",
   "metadata": {
    "id": "IEZioK-qzGCQ"
   },
   "source": [
    "## Discrete Axis\n",
    "The stepsize is defined as\n",
    " \\begin{equation}h=\\frac{b-a}{N}, \\end{equation}\n",
    "here it is \n",
    " \\begin{equation}h=\\frac{1-0}{10}, \\end{equation}\n",
    "giving \n",
    " \\begin{equation}x_i=0+0.1 i, \\end{equation}\n",
    "for $i=0,1,...10.$\n",
    "\n"
   ]
  },
  {
   "cell_type": "code",
   "execution_count": 3,
   "metadata": {
    "colab": {
     "base_uri": "https://localhost:8080/",
     "height": 281
    },
    "id": "VDgbCuF3zGCR",
    "outputId": "a9e8e17d-d46d-4904-8da6-418505705970"
   },
   "outputs": [
    {
     "data": {
      "image/png": "[encoded data removed]",
      "text/plain": [
       "<Figure size 1000x400 with 1 Axes>"
      ]
     },
     "metadata": {
      "filenames": {
       "image/png": "/Users/johnbutler/Dropbox/MY DOCUMENTS/My Pubs/Jupyter/Numerical Analysis/BOOK/_build/jupyter_execute/Chapter 06 - Boundary Value Problems/601_Linear Shooting Method_8_0.png"
      }
     },
     "output_type": "display_data"
    }
   ],
   "source": [
    "## BVP\n",
    "N=10\n",
    "h=1/N\n",
    "x=np.linspace(0,1,N+1)\n",
    "fig = plt.figure(figsize=(10,4))\n",
    "plt.plot(x,0*x,'o:',color='red')\n",
    "plt.xlim((0,1))\n",
    "plt.title('Illustration of discrete time points for h=%s'%(h))\n",
    "\n",
    "plt.show()"
   ]
  },
  {
   "cell_type": "markdown",
   "metadata": {
    "id": "koRQxasszGCS"
   },
   "source": [
    "## Initial conditions\n",
    "The initial conditions for the discrete equations are:\n",
    "$$ u_1[0]=3$$\n",
    "$$ \\color{green}{u_2[0]=0}$$\n",
    "$$ \\color{green}{w_1[0]=0}$$\n",
    "$$ \\color{green}{w_2[0]=1}$$"
   ]
  },
  {
   "cell_type": "code",
   "execution_count": 4,
   "metadata": {
    "id": "-HG-ZDhCzGCT"
   },
   "outputs": [],
   "source": [
    "U1=np.zeros(N+1)\n",
    "U2=np.zeros(N+1)\n",
    "W1=np.zeros(N+1)\n",
    "W2=np.zeros(N+1)\n",
    "\n",
    "U1[0]=3\n",
    "U2[0]=0\n",
    "\n",
    "W1[0]=0\n",
    "W2[0]=1"
   ]
  },
  {
   "cell_type": "markdown",
   "metadata": {
    "id": "w1IrA-VOzGCT"
   },
   "source": [
    "## Numerical method\n",
    "The Euler method is applied to numerically approximate the solution of the system of the two second order initial value problems they are converted in to two pairs of two first order initial value problems:\n",
    "\n",
    "### 1. Inhomogenous Approximation\n",
    "The plot below shows the numerical approximation for the two first order Intial Value Problems \n",
    "\\begin{equation}\n",
    "u_1^{'} =u_2, \\ \\ \\ \\ u_1(0)=3,\n",
    "\\end{equation}\n",
    "\\begin{equation}\n",
    "u_2^{'} =2u_2+3u_1-6, \\ \\ \\ \\color{green}{u_2(0)=0},\n",
    "\\end{equation}\n",
    "\n",
    "that Euler approximate of the inhomogeneous two Initial Value Problems is :\n",
    " \\begin{equation}u_{1}[i+1]=u_{1}[i] + h u_{2}[i] \\end{equation}\n",
    " \\begin{equation}u_{2}[i+1]=u_{2}[i] + h (2u_{2}[i]+3u_{1}[i] -6) \\end{equation}\n",
    "with $u_1[0]=3$ and $\\color{green}{u_2[0]=0}$."
   ]
  },
  {
   "cell_type": "code",
   "execution_count": 5,
   "metadata": {
    "id": "PWmcmft2zGCT"
   },
   "outputs": [],
   "source": [
    "for i in range (0,N):\n",
    "    U1[i+1]=U1[i]+h*(U2[i])\n",
    "    U2[i+1]=U2[i]+h*(2*U2[i]+3*U1[i]-6)\n"
   ]
  },
  {
   "cell_type": "markdown",
   "metadata": {
    "id": "Wvn3PlEgzGCU"
   },
   "source": [
    "### Plots\n",
    "The plot below shows the Euler approximation of the two intial value problems $u_1$ on the left and $u2$ on the right."
   ]
  },
  {
   "cell_type": "code",
   "execution_count": 6,
   "metadata": {
    "colab": {
     "base_uri": "https://localhost:8080/",
     "height": 265
    },
    "id": "X3xC3lzTzGCU",
    "outputId": "b3ec6a56-821f-4d15-c2b6-adc183c3e209"
   },
   "outputs": [
    {
     "data": {
      "image/png": "[encoded data removed]",
      "text/plain": [
       "<Figure size 1200x400 with 2 Axes>"
      ]
     },
     "metadata": {
      "filenames": {
       "image/png": "/Users/johnbutler/Dropbox/MY DOCUMENTS/My Pubs/Jupyter/Numerical Analysis/BOOK/_build/jupyter_execute/Chapter 06 - Boundary Value Problems/601_Linear Shooting Method_14_0.png"
      }
     },
     "output_type": "display_data"
    }
   ],
   "source": [
    "fig = plt.figure(figsize=(12,4))\n",
    "ax = fig.add_subplot(1,2,1)\n",
    "plt.plot(x,U1,'^')\n",
    "#plt.title(r\"$u_1'=u_2, \\ \\  u_1(0)=3$\",fontsize=16)\n",
    "plt.grid(True)\n",
    "\n",
    "ax = fig.add_subplot(1,2,2)\n",
    "plt.plot(x,U2,'v')\n",
    "#plt.title(\"U2\", fontsize=16)\n",
    "\n",
    "plt.grid(True)\n",
    "plt.show()"
   ]
  },
  {
   "cell_type": "markdown",
   "metadata": {
    "id": "AtAXJZd7zGCV"
   },
   "source": [
    "### 2. Homogenous Approximation\n",
    "The homogeneous Bounday Value Problem is divided into two first order Intial Value Problems\n",
    "\\begin{equation}\n",
    "w_1^{'} =w_2, \\ \\ \\ \\ \\color{green}{w_1(1)=0}\n",
    "\\end{equation}\n",
    "\\begin{equation}\n",
    "w_2^{'} =2w_2+3w_1,  \\ \\ \\ \\color{green}{w_2(1)=1}\n",
    "\\end{equation}\n",
    "\n",
    "The Euler approximation of the homogeneous of the two Initial Value Problem is \n",
    " \\begin{equation}w_{1}[i+1]=w_{1}[i] + h w_{2}[i] \\end{equation}\n",
    " \\begin{equation}w_{2}[i+1]=w_{2}[i] + h (2w_{2}[i]+3w_{1}[i]) \\end{equation}\n",
    "with $\\color{green}{w_1[0]=0}$ and $\\color{green}{w_2[1]=1}$."
   ]
  },
  {
   "cell_type": "code",
   "execution_count": 7,
   "metadata": {
    "id": "dwDtmXUuzGCV"
   },
   "outputs": [],
   "source": [
    "for i in range (0,N):\n",
    "    W1[i+1]=W1[i]+h*(W2[i])\n",
    "    W2[i+1]=W2[i]+h*(2*W2[i]+3*W1[i])"
   ]
  },
  {
   "cell_type": "markdown",
   "metadata": {
    "id": "6LLstTCjzGCW"
   },
   "source": [
    "### Homogenous Approximation\n",
    "\n",
    "### Plots\n",
    "The plot below shows the Euler approximation of the two intial value problems $u_1$ on the left and $u2$ on the right."
   ]
  },
  {
   "cell_type": "code",
   "execution_count": 8,
   "metadata": {
    "colab": {
     "base_uri": "https://localhost:8080/",
     "height": 283
    },
    "id": "2qCGNhs-zGCW",
    "outputId": "6ec4e6ff-4288-4127-aaf8-086ee67062a3"
   },
   "outputs": [
    {
     "data": {
      "image/png": "[encoded data removed]",
      "text/plain": [
       "<Figure size 1200x400 with 2 Axes>"
      ]
     },
     "metadata": {
      "filenames": {
       "image/png": "/Users/johnbutler/Dropbox/MY DOCUMENTS/My Pubs/Jupyter/Numerical Analysis/BOOK/_build/jupyter_execute/Chapter 06 - Boundary Value Problems/601_Linear Shooting Method_18_0.png"
      }
     },
     "output_type": "display_data"
    }
   ],
   "source": [
    "fig = plt.figure(figsize=(12,4))\n",
    "ax = fig.add_subplot(1,2,1)\n",
    "plt.plot(x,W1,'^')\n",
    "plt.grid(True)\n",
    "plt.title(\"w_1'=w_2,  w_1(0)=0\",fontsize=16)\n",
    "\n",
    "ax = fig.add_subplot(1,2,2)\n",
    "plt.plot(x,W2,'v')\n",
    "plt.grid(True)\n",
    "plt.title(\"w_2'=2w_2+3w_1,  w_2(0)=1\",fontsize=16)\n",
    "plt.tight_layout()\n",
    "plt.subplots_adjust(top=0.85)\n",
    "\n",
    "plt.show()\n",
    "beta=math.exp(3)+2\n",
    "y=U1+(beta-U1[N])/W1[N]*W1"
   ]
  },
  {
   "cell_type": "markdown",
   "metadata": {
    "id": "tvIxL2tuzGCW"
   },
   "source": [
    "## Approximate Solution\n",
    "Combining together the numerical approximation of $u_1$ and $w_1$ as a weighted sum  \n",
    " \\begin{equation}y(x[i])\\approx u_{1}[i] + \\frac{e^3+2-u_{1}[N]}{w_1[N]}w_{1}[i] \\end{equation}\n",
    "gives the approximate solution of the Boundary Value Problem.\n",
    "\n",
    "\n",
    "The truncation error for the shooting method using the Euler method is  \n",
    " \\begin{equation} |y_i - y(x[i])| \\leq K h\\left|1+\\frac{w_{1}[i]}{u_{1}[i]}\\right|  \\end{equation}\n",
    "$O(h)$ is the order of the method.\n",
    "\n",
    "The plot below shows the approximate solution of the Boundary Value Problem (left), the exact solution (middle) and the error (right) "
   ]
  },
  {
   "cell_type": "code",
   "execution_count": 9,
   "metadata": {
    "colab": {
     "base_uri": "https://localhost:8080/",
     "height": 170
    },
    "id": "p3Q5hFqszGCX",
    "outputId": "7af67f8c-a493-43a6-a9f6-8d935acbeca2"
   },
   "outputs": [
    {
     "data": {
      "image/png": "[encoded data removed]",
      "text/plain": [
       "<Figure size 1200x400 with 3 Axes>"
      ]
     },
     "metadata": {
      "filenames": {
       "image/png": "/Users/johnbutler/Dropbox/MY DOCUMENTS/My Pubs/Jupyter/Numerical Analysis/BOOK/_build/jupyter_execute/Chapter 06 - Boundary Value Problems/601_Linear Shooting Method_20_0.png"
      }
     },
     "output_type": "display_data"
    }
   ],
   "source": [
    "Exact=np.exp(3*x)+2\n",
    "fig = plt.figure(figsize=(12,4))\n",
    "ax = fig.add_subplot(2,3,1)\n",
    "plt.plot(x,y,'o')\n",
    "\n",
    "plt.grid(True)\n",
    "plt.title(\"Numerical\",\n",
    "          fontsize=16)\n",
    "\n",
    "ax = fig.add_subplot(2,3,2)\n",
    "plt.plot(x,Exact,'ks-')\n",
    "\n",
    "plt.grid(True)\n",
    "plt.title(\"Exact\",\n",
    "          fontsize=16)\n",
    "\n",
    "ax = fig.add_subplot(2,3,3)\n",
    "plt.plot(x,abs(y-Exact),'ro')\n",
    "plt.grid(True)\n",
    "plt.title(\"Error \",fontsize=16)\n",
    "          \n",
    "plt.tight_layout()\n",
    "plt.subplots_adjust(top=0.85)\n",
    "plt.show()"
   ]
  },
  {
   "cell_type": "markdown",
   "metadata": {
    "id": "CUmD6pdTzGCX"
   },
   "source": [
    "### Data\n",
    "The Table below shows that output for $x$, the Euler numerical approximations $U1$, $U2$, $W1$ and $W2$ of the system of four Intial Value Problems, the shooting methods approximate solution $y_i=u_{1 i} + \\frac{e^3+2-u_{1}(x_N)}{w_1(x_N)}w_{1 i}$ and the exact solution of the Boundary Value Problem."
   ]
  },
  {
   "cell_type": "code",
   "execution_count": 10,
   "metadata": {
    "colab": {
     "base_uri": "https://localhost:8080/",
     "height": 357
    },
    "id": "dn0w4Cn4zGCX",
    "outputId": "2e92456f-384f-477d-c082-4f4193f658cd"
   },
   "outputs": [
    {
     "data": {
      "text/html": [
       "<div>\n",
       "<style scoped>\n",
       "    .dataframe tbody tr th:only-of-type {\n",
       "        vertical-align: middle;\n",
       "    }\n",
       "\n",
       "    .dataframe tbody tr th {\n",
       "        vertical-align: top;\n",
       "    }\n",
       "\n",
       "    .dataframe thead th {\n",
       "        text-align: right;\n",
       "    }\n",
       "</style>\n",
       "<table border=\"1\" class=\"dataframe\">\n",
       "  <thead>\n",
       "    <tr style=\"text-align: right;\">\n",
       "      <th></th>\n",
       "      <th>time x_i</th>\n",
       "      <th>U1</th>\n",
       "      <th>U2</th>\n",
       "      <th>W1</th>\n",
       "      <th>W2</th>\n",
       "      <th>y_i</th>\n",
       "      <th>y(x_i)</th>\n",
       "    </tr>\n",
       "  </thead>\n",
       "  <tbody>\n",
       "    <tr>\n",
       "      <th>0</th>\n",
       "      <td>0.0</td>\n",
       "      <td>3.000</td>\n",
       "      <td>0.000</td>\n",
       "      <td>0.000</td>\n",
       "      <td>1.000</td>\n",
       "      <td>1.000</td>\n",
       "      <td>1.000</td>\n",
       "    </tr>\n",
       "    <tr>\n",
       "      <th>1</th>\n",
       "      <td>0.1</td>\n",
       "      <td>3.000</td>\n",
       "      <td>0.300</td>\n",
       "      <td>0.100</td>\n",
       "      <td>1.200</td>\n",
       "      <td>1.200</td>\n",
       "      <td>1.200</td>\n",
       "    </tr>\n",
       "    <tr>\n",
       "      <th>2</th>\n",
       "      <td>0.2</td>\n",
       "      <td>3.030</td>\n",
       "      <td>0.660</td>\n",
       "      <td>0.220</td>\n",
       "      <td>1.470</td>\n",
       "      <td>1.470</td>\n",
       "      <td>1.470</td>\n",
       "    </tr>\n",
       "    <tr>\n",
       "      <th>3</th>\n",
       "      <td>0.3</td>\n",
       "      <td>3.096</td>\n",
       "      <td>1.101</td>\n",
       "      <td>0.367</td>\n",
       "      <td>1.830</td>\n",
       "      <td>1.830</td>\n",
       "      <td>1.830</td>\n",
       "    </tr>\n",
       "    <tr>\n",
       "      <th>4</th>\n",
       "      <td>0.4</td>\n",
       "      <td>3.206</td>\n",
       "      <td>1.650</td>\n",
       "      <td>0.550</td>\n",
       "      <td>2.306</td>\n",
       "      <td>2.306</td>\n",
       "      <td>2.306</td>\n",
       "    </tr>\n",
       "    <tr>\n",
       "      <th>5</th>\n",
       "      <td>0.5</td>\n",
       "      <td>3.371</td>\n",
       "      <td>2.342</td>\n",
       "      <td>0.781</td>\n",
       "      <td>2.932</td>\n",
       "      <td>2.932</td>\n",
       "      <td>2.932</td>\n",
       "    </tr>\n",
       "    <tr>\n",
       "      <th>6</th>\n",
       "      <td>0.6</td>\n",
       "      <td>3.605</td>\n",
       "      <td>3.222</td>\n",
       "      <td>1.074</td>\n",
       "      <td>3.753</td>\n",
       "      <td>3.753</td>\n",
       "      <td>3.753</td>\n",
       "    </tr>\n",
       "    <tr>\n",
       "      <th>7</th>\n",
       "      <td>0.7</td>\n",
       "      <td>3.927</td>\n",
       "      <td>4.347</td>\n",
       "      <td>1.449</td>\n",
       "      <td>4.826</td>\n",
       "      <td>4.826</td>\n",
       "      <td>4.826</td>\n",
       "    </tr>\n",
       "    <tr>\n",
       "      <th>8</th>\n",
       "      <td>0.8</td>\n",
       "      <td>4.362</td>\n",
       "      <td>5.795</td>\n",
       "      <td>1.932</td>\n",
       "      <td>6.226</td>\n",
       "      <td>6.226</td>\n",
       "      <td>6.226</td>\n",
       "    </tr>\n",
       "    <tr>\n",
       "      <th>9</th>\n",
       "      <td>0.9</td>\n",
       "      <td>4.942</td>\n",
       "      <td>7.663</td>\n",
       "      <td>2.554</td>\n",
       "      <td>8.050</td>\n",
       "      <td>8.050</td>\n",
       "      <td>8.050</td>\n",
       "    </tr>\n",
       "  </tbody>\n",
       "</table>\n",
       "</div>"
      ],
      "text/plain": [
       "   time x_i     U1     U2     W1     W2    y_i  y(x_i)\n",
       "0       0.0  3.000  0.000  0.000  1.000  1.000   1.000\n",
       "1       0.1  3.000  0.300  0.100  1.200  1.200   1.200\n",
       "2       0.2  3.030  0.660  0.220  1.470  1.470   1.470\n",
       "3       0.3  3.096  1.101  0.367  1.830  1.830   1.830\n",
       "4       0.4  3.206  1.650  0.550  2.306  2.306   2.306\n",
       "5       0.5  3.371  2.342  0.781  2.932  2.932   2.932\n",
       "6       0.6  3.605  3.222  1.074  3.753  3.753   3.753\n",
       "7       0.7  3.927  4.347  1.449  4.826  4.826   4.826\n",
       "8       0.8  4.362  5.795  1.932  6.226  6.226   6.226\n",
       "9       0.9  4.942  7.663  2.554  8.050  8.050   8.050"
      ]
     },
     "execution_count": 10,
     "metadata": {},
     "output_type": "execute_result"
    }
   ],
   "source": [
    "d = {'time x_i': x[0:10], \n",
    "     'U1':np.round(U1[0:10],3),\n",
    "     'U2':np.round(U2[0:10],3),\n",
    "     'W1':np.round(W1[0:10],3),\n",
    "     'W2':np.round(W2[0:10],3),\n",
    "     'y_i':np.round(W2[0:10],3),\n",
    "     'y(x_i)':np.round(W2[0:10],3)\n",
    "    }\n",
    "df = pd.DataFrame(data=d)\n",
    "df"
   ]
  },
  {
   "cell_type": "code",
   "execution_count": 10,
   "metadata": {
    "id": "PDuD6izhzGCY"
   },
   "outputs": [],
   "source": []
  }
 ],
 "metadata": {
  "colab": {
   "include_colab_link": true,
   "name": "601_Linear Shooting Method.ipynb",
   "provenance": []
  },
  "kernelspec": {
   "display_name": "Python 3",
   "language": "python",
   "name": "python3"
  },
  "language_info": {
   "codemirror_mode": {
    "name": "ipython",
    "version": 3
   },
   "file_extension": ".py",
   "mimetype": "text/x-python",
   "name": "python",
   "nbconvert_exporter": "python",
   "pygments_lexer": "ipython3",
   "version": "3.8.11"
  }
 },
 "nbformat": 4,
 "nbformat_minor": 0
}