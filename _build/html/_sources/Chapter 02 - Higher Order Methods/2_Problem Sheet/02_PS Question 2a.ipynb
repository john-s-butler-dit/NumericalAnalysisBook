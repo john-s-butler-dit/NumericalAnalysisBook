{
  "nbformat": 4,
  "nbformat_minor": 0,
  "metadata": {
    "colab": {
      "name": "01_Problem Sheet 1 Question 2a.ipynb",
      "provenance": [],
      "toc_visible": true,
      "include_colab_link": true
    },
    "kernelspec": {
      "display_name": "Python 3",
      "language": "python",
      "name": "python3"
    },
    "language_info": {
      "codemirror_mode": {
        "name": "ipython",
        "version": 3
      },
      "file_extension": ".py",
      "mimetype": "text/x-python",
      "name": "python",
      "nbconvert_exporter": "python",
      "pygments_lexer": "ipython3",
      "version": "3.7.9"
    }
  },
  "cells": [
    {
      "cell_type": "markdown",
      "metadata": {
        "id": "view-in-github",
        "colab_type": "text"
      },
      "source": [
        "<a href=\"https://colab.research.google.com/github/john-s-butler-dit/Numerical-Analysis-Python/blob/master/Chapter%2002%20-%20Higher%20Order%20Methods/2_Problem%20Sheet/02_PS%20Question%202a.ipynb\" target=\"_parent\"><img src=\"https://colab.research.google.com/assets/colab-badge.svg\" alt=\"Open In Colab\"/></a>"
      ]
    },
    {
      "cell_type": "markdown",
      "metadata": {
        "id": "PpY9Fc0iv3ks"
      },
      "source": [
        "# Problem Sheet 2 Question 2a - 3rd Order Taylor\n",
        "\n",
        "The general form of the population growth differential equation\n",
        "$$ y^{'}=t-y, \\ \\ (0 \\leq t \\leq 4) $$\n",
        "with the initial condition\n",
        "$$y(0)=1$$\n",
        "For N=4\n",
        "with the analytic (exact) solution\n",
        "$$ y= 2e^{-t}+t+1.$$\n",
        "\n",
        "\n",
        "Apply __3rd Order Taylor Method__ to approximate the solution of the given initial value problems using the indicated number of time steps. Compare the approximate solution with the given exact solution, and compare the actual error with the theoretical error.\n",
        "\n"
      ]
    },
    {
      "cell_type": "code",
      "metadata": {
        "id": "LJLhRuUNv3ku"
      },
      "source": [
        "## Library\n",
        "import numpy as np\n",
        "import math \n",
        "\n",
        "%matplotlib inline\n",
        "import matplotlib.pyplot as plt # side-stepping mpl backend\n",
        "import matplotlib.gridspec as gridspec # subplots\n",
        "import warnings\n",
        "import pandas as pd\n",
        "\n",
        "warnings.filterwarnings(\"ignore\")"
      ],
      "execution_count": null,
      "outputs": []
    },
    {
      "cell_type": "markdown",
      "metadata": {
        "id": "FDb2v2ZCv3kz"
      },
      "source": [
        "## General Discrete Interval\n",
        "The continuous time $a\\leq t \\leq b $ is discretised into $N$ points seperated by a constant stepsize\n",
        "$$ h=\\frac{b-a}{N}.$$\n",
        "## Specific Discrete Interval\n",
        "Here the interval is $0\\leq t \\leq 4$ with $N=4$ \n",
        "$$ h=\\frac{4-0}{4}=1.$$\n",
        "This gives the 5 discrete points with stepsize h=1:\n",
        "$$ t_0=0, \\ t_1=1, \\ ... t_{4}=4. $$\n",
        "This is generalised to \n",
        "$$ t_i=0+i1, \\ \\ \\ i=0,1,...,4.$$\n",
        "The plot below illustrates the discrete time steps from 0 to 4."
      ]
    },
    {
      "cell_type": "code",
      "metadata": {
        "id": "E2Z9Kxtmv3k0",
        "outputId": "2e5ec785-cb12-4cc1-f7ca-d8168e205bd5"
      },
      "source": [
        "### Setting up time\n",
        "t_end=4\n",
        "t_start=0\n",
        "N=4\n",
        "h=(t_end-t_start)/(N)\n",
        "t=np.arange(t_start,t_end+0.01,h)\n",
        "fig = plt.figure(figsize=(10,4))\n",
        "plt.plot(t,0*t,'o:',color='red')\n",
        "plt.plot(t[0],0*t[0],'o',color='green')\n",
        "\n",
        "\n",
        "plt.title('Illustration of discrete time points for h=%s'%(h))\n",
        "plt.plot();"
      ],
      "execution_count": null,
      "outputs": [
        {
          "output_type": "display_data",
          "data": {
            "image/png": "[encoded data removed]",
            "text/plain": [
              "<Figure size 720x288 with 1 Axes>"
            ]
          },
          "metadata": {
            "tags": [],
            "needs_background": "light"
          }
        }
      ]
    },
    {
      "cell_type": "markdown",
      "metadata": {
        "id": "SvqMAzIbv3k5"
      },
      "source": [
        "## 3rd Order Taylor Solution\n",
        "\n",
        "The 3rd Order Taylor difference equation is given by\n",
        "$$ w_{i+1}=w_i+h\\left[f(t_i,w_i)+\\frac{h}{2}f'(t_i,w_i)+\\frac{h^2}{6}f''(t_i,w_i)\\right],$$\n",
        "where\n",
        "$$ f(t_i,w_i)=t_i-w_i,$$\n",
        "$$ f'(t_i,w_i)=1-t_i+w_i,$$\n",
        "and\n",
        "$$ f''(t_i,w_i)=-1+t_i-w_i,$$\n",
        "\n",
        "\n",
        "which gives\n",
        "$$ w_{i+1}=w_i+h(t_i-w_i)+\\frac{h^2}{2}(1-t_i+w_i)+\\frac{h^3}{6}(-1+t_i-w_i), $$\n",
        "for $i=0,1,2,3$ with the initial condition,\n",
        "$$w_0=1.$$"
      ]
    },
    {
      "cell_type": "code",
      "metadata": {
        "id": "Iab0CumYv3k6"
      },
      "source": [
        "IC=1\n",
        "\n",
        "INTITIAL_CONDITION=IC\n",
        "w=np.zeros(N+1)\n",
        "w[0]=INTITIAL_CONDITION\n",
        "for i in range (0,N):\n",
        "    w[i+1]=w[i]+h*(t[i]-w[i])+h*h/2*(1-t[i]+w[i])+h*h*h/6*(-1+t[i]-w[i])"
      ],
      "execution_count": null,
      "outputs": []
    },
    {
      "cell_type": "code",
      "metadata": {
        "id": "ly-2MBGyv3k8"
      },
      "source": [
        "y=2*np.exp(-t)+t-1 # Exact Solution"
      ],
      "execution_count": null,
      "outputs": []
    },
    {
      "cell_type": "markdown",
      "metadata": {
        "id": "uiJ-6V8Rv3k-"
      },
      "source": [
        "## Global Error\n",
        "The upper bound of the global error is:\n",
        "$$ |y(t_i)-w_i|\\leq\\frac{Mh^3}{24}\\frac{1}{L} |e^{Lt_i}-1| $$\n",
        "where\n",
        "$|y''''(t)|\\leq M $ for $t \\in (0,4)$ and $L$ is the Lipschitz constant.\n",
        "Generally we do not have access to $M$ or $L$, but as we have the exact solution we can find $M$ and $L$.\n",
        "### Local Error\n",
        "The global error consistent of an exponential term and the local error.\n",
        "The local error for the 3rd order Taylor method is\n",
        "$$ |y(t_1)-w_1|<\\tau=\\frac{Mh^3}{24} $$\n",
        "\n",
        "by differentiation the exact solution \n",
        "$$ y= 2e^{-t}+t+1$$\n",
        "four times\n",
        "$$y'=-2e^{-t}+1,$$\n",
        "$$y''=2e^{-t},$$\n",
        "$$y'''=-2e^{-t},$$\n",
        "and\n",
        "$$y''''=2e^{-t}.$$\n",
        "\n",
        "Then we choose the largest possible value of $y'''$ on the interval of interest $(0,4)$, which gives,\n",
        "\n",
        "$$|y''(t)|\\leq |2e^{0}|=2, $$\n",
        "therefore\n",
        "$$M=2.$$\n",
        "This gives the local error\n",
        "$$ |y(t_1)-w_1|<\\tau=\\frac{Mh^3}{24}=\\frac{2h^3}{24}=\\frac{h^3}{12}.$$\n",
        "### Lipschitz constant\n",
        "The Lipschitz constant $L$ is from the Lipschitz condition,\n",
        "$$\\left| \\frac{\\partial f(t,y)}{\\partial t}\\right|\\leq L. $$\n",
        "The constant can be found by taking partical derivative of $f(t,y)=t-y$ with respect to $y$\n",
        "$$\\frac{\\partial f(t,y)}{\\partial y}=-1$$\n",
        "$$L=|-1|=1.$$\n",
        "\n",
        "### Specific Global Upper Bound Formula\n",
        "Puting these values into the upper bound gives:\n",
        "$$ |y(t_i)-w_i|\\leq\\frac{h^3}{12} |e^{t_i}-1|. $$"
      ]
    },
    {
      "cell_type": "code",
      "metadata": {
        "id": "kvUnxC7kv3k_"
      },
      "source": [
        "Upper_bound=h*h*h/(12)*(np.exp(t)-1) # Upper Bound"
      ],
      "execution_count": null,
      "outputs": []
    },
    {
      "cell_type": "markdown",
      "metadata": {
        "id": "zXd45Imdv3lB"
      },
      "source": [
        "## Results"
      ]
    },
    {
      "cell_type": "code",
      "metadata": {
        "id": "8lfaupnTv3lB",
        "outputId": "6697b411-3793-4c87-e600-ed40cbc61b9f"
      },
      "source": [
        "fig = plt.figure(figsize=(12,5))\n",
        "# --- left hand plot\n",
        "ax = fig.add_subplot(1,4,1)\n",
        "plt.plot(t,w,'o:',color='k')\n",
        "plt.plot(t[0],w[0],'o',color='green')\n",
        "\n",
        "#ax.legend(loc='best')\n",
        "plt.title('Numerical Solution (w) h=%s'%(h))\n",
        "\n",
        "# --- right hand plot\n",
        "ax = fig.add_subplot(1,4,2)\n",
        "plt.plot(t,y,color='blue')\n",
        "plt.title('Analytic Solution (y)')\n",
        "\n",
        "#ax.legend(loc='best')\n",
        "ax = fig.add_subplot(1,4,3)\n",
        "plt.plot(t,np.abs(w-y),'o:',color='red')\n",
        "plt.title('Exact Error |w-y|')\n",
        "\n",
        "# --- title, explanatory text and save\n",
        "\n",
        "\n",
        "ax = fig.add_subplot(1,4,4)\n",
        "plt.plot(t,np.abs(w-y),'o:',color='red')\n",
        "plt.plot(t,Upper_bound,color='purple')\n",
        "plt.title('Upper Bound')\n",
        "\n",
        "# --- title, explanatory text and save\n",
        "fig.suptitle(r\"$y'=t-y$\", fontsize=20)\n",
        "plt.tight_layout()\n",
        "plt.subplots_adjust(top=0.85)    "
      ],
      "execution_count": null,
      "outputs": [
        {
          "output_type": "display_data",
          "data": {
            "image/png": "[encoded data removed]",
            "text/plain": [
              "<Figure size 864x360 with 4 Axes>"
            ]
          },
          "metadata": {
            "tags": [],
            "needs_background": "light"
          }
        }
      ]
    },
    {
      "cell_type": "code",
      "metadata": {
        "id": "mQXviRuTv3lD",
        "outputId": "12c43bb7-1ad5-44b8-b8fc-7cd44ee4041c"
      },
      "source": [
        "\n",
        "d = {'time t_i': t,    ' 2nd Order Taylor (w_i) ':w,    'Exact (y_i) ':y,    'Exact Error( |y_i-w_i|) ':np.abs(y-w),'Upper Bound':Upper_bound}\n",
        "df = pd.DataFrame(data=d)\n",
        "df"
      ],
      "execution_count": null,
      "outputs": [
        {
          "output_type": "execute_result",
          "data": {
            "text/html": [
              "<div>\n",
              "<style scoped>\n",
              "    .dataframe tbody tr th:only-of-type {\n",
              "        vertical-align: middle;\n",
              "    }\n",
              "\n",
              "    .dataframe tbody tr th {\n",
              "        vertical-align: top;\n",
              "    }\n",
              "\n",
              "    .dataframe thead th {\n",
              "        text-align: right;\n",
              "    }\n",
              "</style>\n",
              "<table border=\"1\" class=\"dataframe\">\n",
              "  <thead>\n",
              "    <tr style=\"text-align: right;\">\n",
              "      <th></th>\n",
              "      <th>time t_i</th>\n",
              "      <th>2nd Order Taylor (w_i)</th>\n",
              "      <th>Exact (y_i)</th>\n",
              "      <th>Exact Error( |y_i-w_i|)</th>\n",
              "      <th>Upper Bound</th>\n",
              "    </tr>\n",
              "  </thead>\n",
              "  <tbody>\n",
              "    <tr>\n",
              "      <th>0</th>\n",
              "      <td>0.0</td>\n",
              "      <td>1.000000</td>\n",
              "      <td>1.000000</td>\n",
              "      <td>0.000000</td>\n",
              "      <td>0.000000</td>\n",
              "    </tr>\n",
              "    <tr>\n",
              "      <th>1</th>\n",
              "      <td>1.0</td>\n",
              "      <td>0.666667</td>\n",
              "      <td>0.735759</td>\n",
              "      <td>0.069092</td>\n",
              "      <td>0.143190</td>\n",
              "    </tr>\n",
              "    <tr>\n",
              "      <th>2</th>\n",
              "      <td>2.0</td>\n",
              "      <td>1.222222</td>\n",
              "      <td>1.270671</td>\n",
              "      <td>0.048448</td>\n",
              "      <td>0.532421</td>\n",
              "    </tr>\n",
              "    <tr>\n",
              "      <th>3</th>\n",
              "      <td>3.0</td>\n",
              "      <td>2.074074</td>\n",
              "      <td>2.099574</td>\n",
              "      <td>0.025500</td>\n",
              "      <td>1.590461</td>\n",
              "    </tr>\n",
              "    <tr>\n",
              "      <th>4</th>\n",
              "      <td>4.0</td>\n",
              "      <td>3.024691</td>\n",
              "      <td>3.036631</td>\n",
              "      <td>0.011940</td>\n",
              "      <td>4.466513</td>\n",
              "    </tr>\n",
              "  </tbody>\n",
              "</table>\n",
              "</div>"
            ],
            "text/plain": [
              "   time t_i   2nd Order Taylor (w_i)   Exact (y_i)   Exact Error( |y_i-w_i|)   \\\n",
              "0       0.0                  1.000000      1.000000                  0.000000   \n",
              "1       1.0                  0.666667      0.735759                  0.069092   \n",
              "2       2.0                  1.222222      1.270671                  0.048448   \n",
              "3       3.0                  2.074074      2.099574                  0.025500   \n",
              "4       4.0                  3.024691      3.036631                  0.011940   \n",
              "\n",
              "   Upper Bound  \n",
              "0     0.000000  \n",
              "1     0.143190  \n",
              "2     0.532421  \n",
              "3     1.590461  \n",
              "4     4.466513  "
            ]
          },
          "metadata": {
            "tags": []
          },
          "execution_count": 12
        }
      ]
    },
    {
      "cell_type": "code",
      "metadata": {
        "id": "tfzr7xJyv3lF"
      },
      "source": [
        ""
      ],
      "execution_count": null,
      "outputs": []
    }
  ]
}