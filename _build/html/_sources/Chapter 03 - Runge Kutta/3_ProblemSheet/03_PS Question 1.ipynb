{
  "nbformat": 4,
  "nbformat_minor": 0,
  "metadata": {
    "kernelspec": {
      "display_name": "Python 3",
      "language": "python",
      "name": "python3"
    },
    "language_info": {
      "codemirror_mode": {
        "name": "ipython",
        "version": 3
      },
      "file_extension": ".py",
      "mimetype": "text/x-python",
      "name": "python",
      "nbconvert_exporter": "python",
      "pygments_lexer": "ipython3",
      "version": "3.7.9"
    },
    "colab": {
      "name": "301_2nd Order Runge Kutta Population Equations.ipynb",
      "provenance": []
    }
  },
  "cells": [
    {
      "cell_type": "markdown",
      "metadata": {
        "id": "nlr1Ru5KqTRX",
        "colab_type": "text"
      },
      "source": [
        "# Application of 2nd order Runge Kutta to Populations Equations\n",
        "\n",
        "This notebook implements the 2nd Order Runge Kutta method for three different population intial value problems.\n",
        "\n",
        "# 2nd Order Runge Kutta\n",
        "The general 2nd Order Runge Kutta method for to the first order differential equation\n",
        "$$ y^{'} = f(t,y) $$\n",
        "numerical approximates $y$ the at time point $t_i$ as $w_i$\n",
        "with the  formula:\n",
        "$$ w_{i+1}=w_i+\\frac{h}{2}\\big[k_1+k_2],$$\n",
        "for $i=0,...,N-1$, where \n",
        "$$k_1=f(t_i,w_i)$$\n",
        "and\n",
        "$$k_2=f(t_i+h,w_i+hk_1)$$\n",
        "and $h$ is the stepsize.\n",
        "\n",
        "To illustrate the method we will apply it to three intial value problems:\n",
        "## 1. Linear \n",
        "Consider the linear population Differential Equation\n",
        "$$ y^{'}=0.1y, \\ \\ (2000 \\leq t \\leq 2020), $$\n",
        "with the initial condition,\n",
        "$$y(2000)=6.$$\n",
        "\n",
        "## 2. Non-Linear Population Equation \n",
        "Consider the non-linear population Differential Equation\n",
        "$$ y^{'}=0.2y-0.01y^2, \\ \\ (2000 \\leq t \\leq 2020), $$\n",
        "with the initial condition,\n",
        "$$y(2000)=6.$$\n",
        "\n",
        "## 3. Non-Linear Population Equation with an oscillation \n",
        "Consider the non-linear population Differential Equation with an oscillation \n",
        "$$ y^{'}=0.2y-0.01y^2+\\sin(2\\pi t), \\ \\ (2000 \\leq t \\leq 2020), $$\n",
        "with the initial condition,\n",
        "$$y(2000)=6.$$"
      ]
    },
    {
      "cell_type": "markdown",
      "metadata": {
        "id": "5BKUkz0jqTRZ",
        "colab_type": "text"
      },
      "source": [
        "#### Setting up Libraries"
      ]
    },
    {
      "cell_type": "code",
      "metadata": {
        "id": "F6L7k675qTRa",
        "colab_type": "code",
        "colab": {}
      },
      "source": [
        "## Library\n",
        "import numpy as np\n",
        "import math \n",
        "import pandas as pd\n",
        "%matplotlib inline\n",
        "import matplotlib.pyplot as plt # side-stepping mpl backend\n",
        "import matplotlib.gridspec as gridspec # subplots\n",
        "import warnings\n",
        "\n",
        "warnings.filterwarnings(\"ignore\")\n",
        "\n"
      ],
      "execution_count": null,
      "outputs": []
    },
    {
      "cell_type": "markdown",
      "metadata": {
        "id": "pzykh1q-qTRf",
        "colab_type": "text"
      },
      "source": [
        "## Discrete Interval\n",
        "The continuous time $a\\leq t \\leq b $ is discretised into $N$ points seperated by a constant stepsize\n",
        "$$ h=\\frac{b-a}{N}.$$\n",
        "Here the interval is $2000\\leq t \\leq 2020,$ \n",
        "$$ h=\\frac{2020-2000}{200}=0.1.$$\n",
        "This gives the 201 discrete points:\n",
        "$$ t_0=2000, \\ t_1=2000.1, \\ ... t_{200}=2020. $$\n",
        "This is generalised to \n",
        "$$ t_i=2000+i0.1, \\ \\ \\ i=0,1,...,200.$$\n",
        "The plot below shows the discrete time steps:"
      ]
    },
    {
      "cell_type": "code",
      "metadata": {
        "id": "OYX2NEUfqTRg",
        "colab_type": "code",
        "colab": {},
        "outputId": "8ff87781-95fa-4b29-9514-2bc3587cbc54"
      },
      "source": [
        "N=200\n",
        "t_end=2020.0\n",
        "t_start=2000.0\n",
        "h=((t_end-t_start)/N)\n",
        "t=np.arange(t_start,t_end+h/2,h)\n",
        "fig = plt.figure(figsize=(10,4))\n",
        "plt.plot(t,0*t,'o:',color='red')\n",
        "plt.title('Illustration of discrete time points for h=%s'%(h))\n",
        "plt.show()"
      ],
      "execution_count": null,
      "outputs": [
        {
          "output_type": "display_data",
          "data": {
            "image/png": "[encoded data removed]",
            "text/plain": [
              "<Figure size 720x288 with 1 Axes>"
            ]
          },
          "metadata": {
            "tags": [],
            "needs_background": "light"
          }
        }
      ]
    },
    {
      "cell_type": "markdown",
      "metadata": {
        "id": "GRQBKvheqTRj",
        "colab_type": "text"
      },
      "source": [
        "# 1. Linear Population Equation\n",
        "## Exact Solution \n",
        "The linear population equation\n",
        "$$ y^{'}=0.1y, \\ \\ (2000 \\leq t \\leq 2020), $$\n",
        "with the initial condition,\n",
        "$$y(2000)=6.$$\n",
        "has a known exact (analytic) solution\n",
        "$$ y=6e^{0.1(t-2000)}. $$\n",
        "\n",
        "## Specific 2nd Order Runge Kutta \n",
        "To write the specific 2nd Order Runge Kutta method for the linear population equation we need \n",
        "$$f(t,y)=0.1y$$"
      ]
    },
    {
      "cell_type": "code",
      "metadata": {
        "id": "g36MCt9kqTRj",
        "colab_type": "code",
        "colab": {}
      },
      "source": [
        "def linfun(t,w):\n",
        "    ftw=0.1*w\n",
        "    return ftw"
      ],
      "execution_count": null,
      "outputs": []
    },
    {
      "cell_type": "markdown",
      "metadata": {
        "id": "2tri4OS9qTRm",
        "colab_type": "text"
      },
      "source": [
        "this gives\n",
        "$$k_1=f(t_i,w_i)=0.lw_i,$$\n",
        "$$k_2=f(t_i+h,w_i+hk_1)=0.1(w_i+hk_1),$$\n",
        "and the difference equation\n",
        "$$w_{i+1}=w_{i}+\\frac{h}{2}(k_1+k_2)$$\n",
        "for $i=0,...,199$, where $w_i$ is the numerical approximation of $y$ at time $t_i$, with step size $h$ and the initial condition\n",
        "$$w_0=6.$$"
      ]
    },
    {
      "cell_type": "code",
      "metadata": {
        "id": "THwmJrL2qTRm",
        "colab_type": "code",
        "colab": {}
      },
      "source": [
        "w=np.zeros(N+1)\n",
        "w[0]=6.0\n",
        "## 2nd Order Runge Kutta\n",
        "for k in range (0,N):\n",
        "    k1=linfun(t[k],w[k])\n",
        "    k2=linfun(t[k]+h,w[k]+h*k1)\n",
        "    w[k+1]=w[k]+h/2*(k1+k2)"
      ],
      "execution_count": null,
      "outputs": []
    },
    {
      "cell_type": "markdown",
      "metadata": {
        "id": "tLegBPPeqTRp",
        "colab_type": "text"
      },
      "source": [
        "## Plotting Results"
      ]
    },
    {
      "cell_type": "code",
      "metadata": {
        "id": "4LdkLbOmqTRp",
        "colab_type": "code",
        "colab": {},
        "outputId": "d649b995-e646-43ab-aba6-38da1a35eadc"
      },
      "source": [
        "y=6*np.exp(0.1*(t-2000))\n",
        "fig = plt.figure(figsize=(8,4))\n",
        "plt.plot(t,w,'o:',color='purple',label='Runge Kutta')\n",
        "plt.plot(t,y,'s:',color='black',label='Exact')\n",
        "plt.legend(loc='best')\n",
        "plt.show()"
      ],
      "execution_count": null,
      "outputs": [
        {
          "output_type": "display_data",
          "data": {
            "image/png": "[encoded data removed]",
            "text/plain": [
              "<Figure size 576x288 with 1 Axes>"
            ]
          },
          "metadata": {
            "tags": [],
            "needs_background": "light"
          }
        }
      ]
    },
    {
      "cell_type": "markdown",
      "metadata": {
        "id": "SVzOXpE0qTRs",
        "colab_type": "text"
      },
      "source": [
        "## Table\n",
        "The table below shows the time, the Runge Kutta numerical approximation, $w$,  the exact solution, $y$, and the exact error $|y(t_i)-w_i|$ for the linear population equation:"
      ]
    },
    {
      "cell_type": "code",
      "metadata": {
        "id": "QaOg9JvvqTRs",
        "colab_type": "code",
        "colab": {},
        "outputId": "2265ce0d-3f04-42cf-d5ac-a5125cf8635a"
      },
      "source": [
        "\n",
        "d = {'time t_i': t[0:10],    'Runge Kutta':w[0:10],'Exact (y)':y[0:10],'Exact Error':np.abs(np.round(y[0:10]-w[0:10],10))}\n",
        "df = pd.DataFrame(data=d)\n",
        "df"
      ],
      "execution_count": null,
      "outputs": [
        {
          "output_type": "execute_result",
          "data": {
            "text/html": [
              "<div>\n",
              "<style scoped>\n",
              "    .dataframe tbody tr th:only-of-type {\n",
              "        vertical-align: middle;\n",
              "    }\n",
              "\n",
              "    .dataframe tbody tr th {\n",
              "        vertical-align: top;\n",
              "    }\n",
              "\n",
              "    .dataframe thead th {\n",
              "        text-align: right;\n",
              "    }\n",
              "</style>\n",
              "<table border=\"1\" class=\"dataframe\">\n",
              "  <thead>\n",
              "    <tr style=\"text-align: right;\">\n",
              "      <th></th>\n",
              "      <th>time t_i</th>\n",
              "      <th>Runge Kutta</th>\n",
              "      <th>Exact (y)</th>\n",
              "      <th>Exact Error</th>\n",
              "    </tr>\n",
              "  </thead>\n",
              "  <tbody>\n",
              "    <tr>\n",
              "      <th>0</th>\n",
              "      <td>2000.0</td>\n",
              "      <td>6.000000</td>\n",
              "      <td>6.000000</td>\n",
              "      <td>0.000000</td>\n",
              "    </tr>\n",
              "    <tr>\n",
              "      <th>1</th>\n",
              "      <td>2000.1</td>\n",
              "      <td>6.113722</td>\n",
              "      <td>6.060301</td>\n",
              "      <td>0.053421</td>\n",
              "    </tr>\n",
              "    <tr>\n",
              "      <th>2</th>\n",
              "      <td>2000.2</td>\n",
              "      <td>6.276109</td>\n",
              "      <td>6.121208</td>\n",
              "      <td>0.154901</td>\n",
              "    </tr>\n",
              "    <tr>\n",
              "      <th>3</th>\n",
              "      <td>2000.3</td>\n",
              "      <td>6.458005</td>\n",
              "      <td>6.182727</td>\n",
              "      <td>0.275278</td>\n",
              "    </tr>\n",
              "    <tr>\n",
              "      <th>4</th>\n",
              "      <td>2000.4</td>\n",
              "      <td>6.623032</td>\n",
              "      <td>6.244865</td>\n",
              "      <td>0.378167</td>\n",
              "    </tr>\n",
              "    <tr>\n",
              "      <th>5</th>\n",
              "      <td>2000.5</td>\n",
              "      <td>6.741504</td>\n",
              "      <td>6.307627</td>\n",
              "      <td>0.433877</td>\n",
              "    </tr>\n",
              "    <tr>\n",
              "      <th>6</th>\n",
              "      <td>2000.6</td>\n",
              "      <td>6.801784</td>\n",
              "      <td>6.371019</td>\n",
              "      <td>0.430765</td>\n",
              "    </tr>\n",
              "    <tr>\n",
              "      <th>7</th>\n",
              "      <td>2000.7</td>\n",
              "      <td>6.814712</td>\n",
              "      <td>6.435049</td>\n",
              "      <td>0.379663</td>\n",
              "    </tr>\n",
              "    <tr>\n",
              "      <th>8</th>\n",
              "      <td>2000.8</td>\n",
              "      <td>6.809444</td>\n",
              "      <td>6.499722</td>\n",
              "      <td>0.309721</td>\n",
              "    </tr>\n",
              "    <tr>\n",
              "      <th>9</th>\n",
              "      <td>2000.9</td>\n",
              "      <td>6.822305</td>\n",
              "      <td>6.565046</td>\n",
              "      <td>0.257259</td>\n",
              "    </tr>\n",
              "  </tbody>\n",
              "</table>\n",
              "</div>"
            ],
            "text/plain": [
              "   time t_i  Runge Kutta  Exact (y)  Exact Error\n",
              "0    2000.0     6.000000   6.000000     0.000000\n",
              "1    2000.1     6.113722   6.060301     0.053421\n",
              "2    2000.2     6.276109   6.121208     0.154901\n",
              "3    2000.3     6.458005   6.182727     0.275278\n",
              "4    2000.4     6.623032   6.244865     0.378167\n",
              "5    2000.5     6.741504   6.307627     0.433877\n",
              "6    2000.6     6.801784   6.371019     0.430765\n",
              "7    2000.7     6.814712   6.435049     0.379663\n",
              "8    2000.8     6.809444   6.499722     0.309721\n",
              "9    2000.9     6.822305   6.565046     0.257259"
            ]
          },
          "metadata": {
            "tags": []
          },
          "execution_count": 17
        }
      ]
    },
    {
      "cell_type": "markdown",
      "metadata": {
        "id": "fxlfUcFyqTRv",
        "colab_type": "text"
      },
      "source": [
        "## 2. Non-Linear Population Equation \n",
        "$$ y^{'}=0.2y-0.01y^2, \\ \\ (2000 \\leq t \\leq 2020), $$\n",
        "with the initial condition,\n",
        "$$y(2000)=6.$$\n",
        "## Specific 2nd Order Runge Kutta for the Non-Linear Population Equation\n",
        "To write the specific 2nd Order Runge Kutta method we need\n",
        "$$f(t,y)=0.2y-0.01y^2,$$\n",
        "this gives\n",
        "$$k_1=f(t_i,w_i)=0.2w_i-0.01w_i^2,$$\n",
        "$$k_2=f(t_i+h,w_i+hk_1)=0.2(w_i+hk_1)-0.01(w_i+hk_1)^2,$$\n",
        "and the difference equation\n",
        "$$w_{i+1}=w_{i}+\\frac{h}{2}(k_1+k_2)$$\n",
        "for $i=0,...,199$, where $w_i$ is the numerical approximation of $y$ at time $t_i$, with step size $h$ and the initial condition\n",
        "$$w_0=6.$$"
      ]
    },
    {
      "cell_type": "code",
      "metadata": {
        "id": "4Pbq4CxMqTRw",
        "colab_type": "code",
        "colab": {}
      },
      "source": [
        "def nonlinfun(t,w):\n",
        "    ftw=0.2*w-0.01*w*w\n",
        "    return ftw"
      ],
      "execution_count": null,
      "outputs": []
    },
    {
      "cell_type": "code",
      "metadata": {
        "id": "iJjUCyoHqTRy",
        "colab_type": "code",
        "colab": {}
      },
      "source": [
        "w=np.zeros(N+1)\n",
        "w[0]=6.0\n",
        "## 2nd Order Runge Kutta\n",
        "for k in range (0,N):\n",
        "    k1=nonlinfun(t[k],w[k])\n",
        "    k2=nonlinfun(t[k]+h,w[k]+h*k1)\n",
        "    w[k+1]=w[k]+h/2*(k1+k2)"
      ],
      "execution_count": null,
      "outputs": []
    },
    {
      "cell_type": "markdown",
      "metadata": {
        "id": "nSVhMIVhqTR0",
        "colab_type": "text"
      },
      "source": [
        "## Results\n",
        "The plot below shows the Runge Kutta numerical approximation, $w$ (circles) for the non-linear population equation:"
      ]
    },
    {
      "cell_type": "code",
      "metadata": {
        "id": "VGO634VDqTR0",
        "colab_type": "code",
        "colab": {},
        "outputId": "530efdcc-de32-4851-cbac-a7a2d342ffe1"
      },
      "source": [
        "fig = plt.figure(figsize=(8,4))\n",
        "plt.plot(t,w,'o:',color='purple',label='Runge Kutta')\n",
        "plt.legend(loc='best')\n",
        "plt.show()"
      ],
      "execution_count": null,
      "outputs": [
        {
          "output_type": "display_data",
          "data": {
            "image/png": "[encoded data removed]",
            "text/plain": [
              "<Figure size 576x288 with 1 Axes>"
            ]
          },
          "metadata": {
            "tags": [],
            "needs_background": "light"
          }
        }
      ]
    },
    {
      "cell_type": "markdown",
      "metadata": {
        "id": "XsDAJtseqTR2",
        "colab_type": "text"
      },
      "source": [
        "## Table\n",
        "The table below shows the time and the Runge Kutta numerical approximation, $w$,  for the non-linear population equation:"
      ]
    },
    {
      "cell_type": "code",
      "metadata": {
        "id": "2nvEBzeWqTR2",
        "colab_type": "code",
        "colab": {},
        "outputId": "421e1839-a943-48ad-a8a8-b86e4c7b23fa"
      },
      "source": [
        "d = {'time t_i': t[0:10], \n",
        "     'Runge Kutta':w[0:10]}\n",
        "df = pd.DataFrame(data=d)\n",
        "df"
      ],
      "execution_count": null,
      "outputs": [
        {
          "output_type": "execute_result",
          "data": {
            "text/html": [
              "<div>\n",
              "<style scoped>\n",
              "    .dataframe tbody tr th:only-of-type {\n",
              "        vertical-align: middle;\n",
              "    }\n",
              "\n",
              "    .dataframe tbody tr th {\n",
              "        vertical-align: top;\n",
              "    }\n",
              "\n",
              "    .dataframe thead th {\n",
              "        text-align: right;\n",
              "    }\n",
              "</style>\n",
              "<table border=\"1\" class=\"dataframe\">\n",
              "  <thead>\n",
              "    <tr style=\"text-align: right;\">\n",
              "      <th></th>\n",
              "      <th>time t_i</th>\n",
              "      <th>Runge Kutta</th>\n",
              "    </tr>\n",
              "  </thead>\n",
              "  <tbody>\n",
              "    <tr>\n",
              "      <th>0</th>\n",
              "      <td>2000.0</td>\n",
              "      <td>6.000000</td>\n",
              "    </tr>\n",
              "    <tr>\n",
              "      <th>1</th>\n",
              "      <td>2000.1</td>\n",
              "      <td>6.084332</td>\n",
              "    </tr>\n",
              "    <tr>\n",
              "      <th>2</th>\n",
              "      <td>2000.2</td>\n",
              "      <td>6.169328</td>\n",
              "    </tr>\n",
              "    <tr>\n",
              "      <th>3</th>\n",
              "      <td>2000.3</td>\n",
              "      <td>6.254977</td>\n",
              "    </tr>\n",
              "    <tr>\n",
              "      <th>4</th>\n",
              "      <td>2000.4</td>\n",
              "      <td>6.341270</td>\n",
              "    </tr>\n",
              "    <tr>\n",
              "      <th>5</th>\n",
              "      <td>2000.5</td>\n",
              "      <td>6.428197</td>\n",
              "    </tr>\n",
              "    <tr>\n",
              "      <th>6</th>\n",
              "      <td>2000.6</td>\n",
              "      <td>6.515747</td>\n",
              "    </tr>\n",
              "    <tr>\n",
              "      <th>7</th>\n",
              "      <td>2000.7</td>\n",
              "      <td>6.603909</td>\n",
              "    </tr>\n",
              "    <tr>\n",
              "      <th>8</th>\n",
              "      <td>2000.8</td>\n",
              "      <td>6.692672</td>\n",
              "    </tr>\n",
              "    <tr>\n",
              "      <th>9</th>\n",
              "      <td>2000.9</td>\n",
              "      <td>6.782025</td>\n",
              "    </tr>\n",
              "  </tbody>\n",
              "</table>\n",
              "</div>"
            ],
            "text/plain": [
              "   time t_i  Runge Kutta\n",
              "0    2000.0     6.000000\n",
              "1    2000.1     6.084332\n",
              "2    2000.2     6.169328\n",
              "3    2000.3     6.254977\n",
              "4    2000.4     6.341270\n",
              "5    2000.5     6.428197\n",
              "6    2000.6     6.515747\n",
              "7    2000.7     6.603909\n",
              "8    2000.8     6.692672\n",
              "9    2000.9     6.782025"
            ]
          },
          "metadata": {
            "tags": []
          },
          "execution_count": 10
        }
      ]
    },
    {
      "cell_type": "markdown",
      "metadata": {
        "id": "alLm7_PfqTR4",
        "colab_type": "text"
      },
      "source": [
        "## 3. Non-Linear Population Equation with an oscilation \n",
        "$$ y^{'}=0.2y-0.01y^2+\\sin(2\\pi t), \\ \\ (2000 \\leq t \\leq 2020), $$\n",
        "with the initial condition,\n",
        "$$y(2000)=6.$$\n",
        "\n",
        "## Specific 2nd Order Runge Kutta for the Non-Linear Population Equation with an oscilation\n",
        "To write the specific 2nd Order Runge Kutta difference equation for the intial value problem we need \n",
        "$$f(t,y)=0.2y-0.01y^2+\\sin(2\\pi t),$$\n",
        "which gives\n",
        "$$k_1=f(t_i,w_i)=0.2w_i-0.01w_i^2+\\sin(2\\pi t_i),$$\n",
        "$$k_2=f(t_i+h,w_i+hk_1)=0.2(w_i+hk_1)-0.01(w_i+hk_1)^2+\\sin(2\\pi (t_i+h)),$$\n",
        "and the difference equation\n",
        "$$w_{i+1}=w_{i}+\\frac{h}{2}(k_1+k_2)$$\n",
        "for $i=0,...,199$, where $w_i$ is the numerical approximation of $y$ at time $t_i$, with step size $h$ and the initial condition\n",
        "$$w_0=6.$$"
      ]
    },
    {
      "cell_type": "code",
      "metadata": {
        "id": "KcPh153LqTR4",
        "colab_type": "code",
        "colab": {}
      },
      "source": [
        "def nonlin_oscfun(t,w):\n",
        "    ftw=0.2*w-0.01*w*w+np.sin(2*np.math.pi*t)\n",
        "    return ftw"
      ],
      "execution_count": null,
      "outputs": []
    },
    {
      "cell_type": "code",
      "metadata": {
        "id": "XqdqPm6ZqTR6",
        "colab_type": "code",
        "colab": {}
      },
      "source": [
        "w=np.zeros(N+1)\n",
        "w[0]=6.0\n",
        "## 2nd Order Runge Kutta\n",
        "for k in range (0,N):\n",
        "    k1=nonlin_oscfun(t[k],w[k])\n",
        "    k2=nonlin_oscfun(t[k]+h,w[k]+h*k1)\n",
        "    w[k+1]=w[k]+h/2*(k1+k2)"
      ],
      "execution_count": null,
      "outputs": []
    },
    {
      "cell_type": "markdown",
      "metadata": {
        "id": "EqJ4WI_VqTR8",
        "colab_type": "text"
      },
      "source": [
        "## Results\n",
        "The plot below shows the 2nd order Runge Kutta numerical approximation, $w$ (circles) for the non-linear population equation:"
      ]
    },
    {
      "cell_type": "code",
      "metadata": {
        "id": "iHNXCSpHqTR8",
        "colab_type": "code",
        "colab": {},
        "outputId": "5aa5fa00-fefc-4dab-f976-f68902d26463"
      },
      "source": [
        "fig = plt.figure(figsize=(8,4))\n",
        "plt.plot(t,w,'o:',color='purple',label='Taylor')\n",
        "plt.legend(loc='best')\n",
        "plt.show()"
      ],
      "execution_count": null,
      "outputs": [
        {
          "output_type": "display_data",
          "data": {
            "image/png": "[encoded data removed]",
            "text/plain": [
              "<Figure size 576x288 with 1 Axes>"
            ]
          },
          "metadata": {
            "tags": [],
            "needs_background": "light"
          }
        }
      ]
    },
    {
      "cell_type": "markdown",
      "metadata": {
        "id": "tzflYVlOqTR9",
        "colab_type": "text"
      },
      "source": [
        "## Table\n",
        "The table below shows the time and the 2nd order Runge Kutta numerical approximation, $w$,  for the non-linear population equation:"
      ]
    },
    {
      "cell_type": "code",
      "metadata": {
        "id": "Mj0ZTItPqTR-",
        "colab_type": "code",
        "colab": {},
        "outputId": "db00454b-c88b-4a77-c0e6-f87d4a96b749"
      },
      "source": [
        "d = {'time t_i': t[0:10], \n",
        "     'Runge Kutta':w[0:10]}\n",
        "df = pd.DataFrame(data=d)\n",
        "df"
      ],
      "execution_count": null,
      "outputs": [
        {
          "output_type": "execute_result",
          "data": {
            "text/html": [
              "<div>\n",
              "<style scoped>\n",
              "    .dataframe tbody tr th:only-of-type {\n",
              "        vertical-align: middle;\n",
              "    }\n",
              "\n",
              "    .dataframe tbody tr th {\n",
              "        vertical-align: top;\n",
              "    }\n",
              "\n",
              "    .dataframe thead th {\n",
              "        text-align: right;\n",
              "    }\n",
              "</style>\n",
              "<table border=\"1\" class=\"dataframe\">\n",
              "  <thead>\n",
              "    <tr style=\"text-align: right;\">\n",
              "      <th></th>\n",
              "      <th>time t_i</th>\n",
              "      <th>Runge Kutta</th>\n",
              "    </tr>\n",
              "  </thead>\n",
              "  <tbody>\n",
              "    <tr>\n",
              "      <th>0</th>\n",
              "      <td>2000.0</td>\n",
              "      <td>6.000000</td>\n",
              "    </tr>\n",
              "    <tr>\n",
              "      <th>1</th>\n",
              "      <td>2000.1</td>\n",
              "      <td>6.113722</td>\n",
              "    </tr>\n",
              "    <tr>\n",
              "      <th>2</th>\n",
              "      <td>2000.2</td>\n",
              "      <td>6.276109</td>\n",
              "    </tr>\n",
              "    <tr>\n",
              "      <th>3</th>\n",
              "      <td>2000.3</td>\n",
              "      <td>6.458005</td>\n",
              "    </tr>\n",
              "    <tr>\n",
              "      <th>4</th>\n",
              "      <td>2000.4</td>\n",
              "      <td>6.623032</td>\n",
              "    </tr>\n",
              "    <tr>\n",
              "      <th>5</th>\n",
              "      <td>2000.5</td>\n",
              "      <td>6.741504</td>\n",
              "    </tr>\n",
              "    <tr>\n",
              "      <th>6</th>\n",
              "      <td>2000.6</td>\n",
              "      <td>6.801784</td>\n",
              "    </tr>\n",
              "    <tr>\n",
              "      <th>7</th>\n",
              "      <td>2000.7</td>\n",
              "      <td>6.814712</td>\n",
              "    </tr>\n",
              "    <tr>\n",
              "      <th>8</th>\n",
              "      <td>2000.8</td>\n",
              "      <td>6.809444</td>\n",
              "    </tr>\n",
              "    <tr>\n",
              "      <th>9</th>\n",
              "      <td>2000.9</td>\n",
              "      <td>6.822305</td>\n",
              "    </tr>\n",
              "  </tbody>\n",
              "</table>\n",
              "</div>"
            ],
            "text/plain": [
              "   time t_i  Runge Kutta\n",
              "0    2000.0     6.000000\n",
              "1    2000.1     6.113722\n",
              "2    2000.2     6.276109\n",
              "3    2000.3     6.458005\n",
              "4    2000.4     6.623032\n",
              "5    2000.5     6.741504\n",
              "6    2000.6     6.801784\n",
              "7    2000.7     6.814712\n",
              "8    2000.8     6.809444\n",
              "9    2000.9     6.822305"
            ]
          },
          "metadata": {
            "tags": []
          },
          "execution_count": 14
        }
      ]
    },
    {
      "cell_type": "code",
      "metadata": {
        "id": "jc2SbXz6qTR_",
        "colab_type": "code",
        "colab": {}
      },
      "source": [
        ""
      ],
      "execution_count": null,
      "outputs": []
    }
  ]
}