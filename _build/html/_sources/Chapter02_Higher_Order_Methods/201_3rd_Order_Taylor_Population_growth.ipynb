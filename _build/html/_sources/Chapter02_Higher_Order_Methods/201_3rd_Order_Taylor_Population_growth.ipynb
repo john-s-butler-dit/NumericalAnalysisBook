{
  "nbformat": 4,
  "nbformat_minor": 0,
  "metadata": {
    "kernelspec": {
      "display_name": "Python 3",
      "language": "python",
      "name": "python3"
    },
    "language_info": {
      "codemirror_mode": {
        "name": "ipython",
        "version": 3
      },
      "file_extension": ".py",
      "mimetype": "text/x-python",
      "name": "python",
      "nbconvert_exporter": "python",
      "pygments_lexer": "ipython3",
      "version": "3.7.9"
    },
    "colab": {
      "name": "201_3rd Order Taylor_Population_growth.ipynb",
      "provenance": [],
      "include_colab_link": true
    }
  },
  "cells": [
    {
      "cell_type": "markdown",
      "metadata": {
        "id": "view-in-github",
        "colab_type": "text"
      },
      "source": [
        "<a href=\"https://colab.research.google.com/github/john-s-butler-dit/Numerical-Analysis-Python/blob/master/Chapter%2002%20-%20Higher%20Order%20Methods/201_3rd%20Order%20Taylor_Population_growth.ipynb\" target=\"_parent\"><img src=\"https://colab.research.google.com/assets/colab-badge.svg\" alt=\"Open In Colab\"/></a>"
      ]
    },
    {
      "cell_type": "markdown",
      "metadata": {
        "id": "ha9uRpGfODa_"
      },
      "source": [
        "# Taylor Method\n",
        "\n",
        "This notebook implements the 3rd order Taylor method for three different population intial value problems.\n",
        "\n",
        "# 3rd Order Taylor\n",
        "The general 3rd Order Taylor method for to the first order differential equation\n",
        "\\begin{equation} y^{'} = f(t,y), \\end{equation}\n",
        "numerical approximates $y$ the at time point $t_i$ as $w_i$\n",
        "with the  formula:\n",
        "\\begin{equation}\n",
        " w_{i+1}=w_i+h\\big[f(t_i,w_i)+\\frac{h}{2}f'(t_i,w_i)+\\frac{h^2}{6}f''(t_i,w_i)\\big],\\end{equation}\n",
        "where $h$ is the stepsize.\n",
        "for $i=0,...,N-1$.\n",
        "With the local truncation error of \n",
        "\\begin{equation}\n",
        "\\tau=\\frac{h^3}{24}y^{''''}(\\xi_i),\\end{equation}\n",
        "where $\\xi \\in [t_i,t_{i+1}]$.\n",
        "To illustrate the method we will apply it to three intial value problems:\n",
        "## 1. Linear \n",
        "Consider the linear population Differential Equation\n",
        "\\begin{equation}\n",
        " y^{'}=0.1y, \\ \\ (2000 \\leq t \\leq 2020), \\end{equation}\n",
        "with the initial condition,\n",
        "\\begin{equation}\n",
        "y(2000)=6.\\end{equation}\n",
        "\n",
        "## 2. Non-Linear Population Equation \n",
        "Consider the non-linear population Differential Equation\n",
        "\\begin{equation}\n",
        " y^{'}=0.2y-0.01y^2, \\ \\ (2000 \\leq t \\leq 2020), \\end{equation}\n",
        "with the initial condition,\n",
        "\\begin{equation}\n",
        "y(2000)=6.\n",
        "\\end{equation}\n",
        "\n",
        "## 3. Non-Linear Population Equation with an oscillation \n",
        "Consider the non-linear population Differential Equation with an oscillation \n",
        "\\begin{equation}\n",
        " y^{'}=0.2y-0.01y^2+\\sin(2\\pi t), \\ \\ (2000 \\leq t \\leq 2020), \n",
        " \\end{equation}\n",
        "with the initial condition,\n",
        "\\begin{equation}\n",
        "y(2000)=6.\\end{equation}"
      ]
    },
    {
      "cell_type": "markdown",
      "metadata": {
        "id": "473Z6TOLODbC"
      },
      "source": [
        "## Read in Libraries "
      ]
    },
    {
      "cell_type": "code",
      "metadata": {
        "id": "fxAaiYTUODbC"
      },
      "source": [
        "## Library\n",
        "import numpy as np\n",
        "import math \n",
        "import pandas as pd\n",
        "\n",
        "%matplotlib inline\n",
        "import matplotlib.pyplot as plt # side-stepping mpl backend\n",
        "import matplotlib.gridspec as gridspec # subplots\n",
        "import warnings\n",
        "\n",
        "warnings.filterwarnings(\"ignore\")\n"
      ],
      "execution_count": 1,
      "outputs": []
    },
    {
      "cell_type": "markdown",
      "metadata": {
        "id": "qMHjaYl0ODbD"
      },
      "source": [
        "## Discrete Interval\n",
        "The continuous time $a\\leq t \\leq b $ is discretised into $N$ points seperated by a constant stepsize\n",
        "\\begin{equation} h=\\frac{b-a}{N}.\\end{equation}\n",
        "Here the interval is $2000\\leq t \\leq 2020,$ \n",
        "\\begin{equation} h=\\frac{2020-2000}{200}=0.1.\\end{equation}\n",
        "This gives the 201 discrete points:\n",
        "\\begin{equation} t_0=2000, \\ t_1=2000.1, \\ ... t_{200}=2020. \\end{equation}\n",
        "This is generalised to \n",
        "\\begin{equation} t_i=2000+i0.1, \\ \\ \\ i=0,1,...,200.\\end{equation}\n",
        "The plot below shows the discrete time steps:"
      ]
    },
    {
      "cell_type": "code",
      "metadata": {
        "colab": {
          "base_uri": "https://localhost:8080/",
          "height": 281
        },
        "id": "Wo44v6EGODbE",
        "outputId": "3abeefcf-956e-4663-b9a6-69dd4e7bc905"
      },
      "source": [
        "N=200\n",
        "t_end=2020.0\n",
        "t_start=2000.0\n",
        "h=((t_end-t_start)/N)\n",
        "t=np.arange(t_start,t_end+h/2,h)\n",
        "fig = plt.figure(figsize=(10,4))\n",
        "plt.plot(t,0*t,'o:',color='red')\n",
        "plt.title('Illustration of discrete time points for h=%s'%(h))\n",
        "plt.show()"
      ],
      "execution_count": 2,
      "outputs": [
        {
          "output_type": "display_data",
          "data": {
            "image/png": "[encoded data removed]",
            "text/plain": [
              "<Figure size 720x288 with 1 Axes>"
            ]
          },
          "metadata": {
            "needs_background": "light"
          }
        }
      ]
    },
    {
      "cell_type": "markdown",
      "metadata": {
        "id": "hJ0st31-ODbF"
      },
      "source": [
        "# 1. Linear Population Equation\n",
        "## Exact Solution \n",
        "The linear population equation\n",
        "\\begin{equation} y^{'}=0.1y, \\ \\ (2000 \\leq t \\leq 2020), \\end{equation}\n",
        "with the initial condition,\n",
        "\\begin{equation}y(2000)=6.\\end{equation}\n",
        "has a known exact (analytic) solution\n",
        "\\begin{equation} y=6e^{0.1(t-2000)}. \\end{equation}\n",
        "\n",
        "## Specific 3rd Order Taylor for the Linear Population Equation\n",
        "To write the specific 3rd Order Taylor difference equation for the intial value problem we need to calculate the first derivative of \n",
        "\\begin{equation}f(t,y)=0.1y,\\end{equation}"
      ]
    },
    {
      "cell_type": "code",
      "metadata": {
        "id": "ZjgpxQNFODbG"
      },
      "source": [
        "def linfun(t,w):\n",
        "    ftw=0.1*w\n",
        "    return ftw"
      ],
      "execution_count": 3,
      "outputs": []
    },
    {
      "cell_type": "markdown",
      "metadata": {
        "id": "HXsIvZDJODbG"
      },
      "source": [
        "with respect to $t$,\n",
        "\\begin{equation} f'(t,y)=0.1y'=0.1(0.1y)=0.01y, \\end{equation}"
      ]
    },
    {
      "cell_type": "code",
      "metadata": {
        "id": "Ruyx9xAJODbH"
      },
      "source": [
        "def linfun_d(t,w):\n",
        "    ftw=0.01*w\n",
        "    return ftw"
      ],
      "execution_count": 4,
      "outputs": []
    },
    {
      "cell_type": "markdown",
      "metadata": {
        "id": "MOIUP5sZODbH"
      },
      "source": [
        "and the second derivative of $f$ with respect to $t$,\n",
        "\\begin{equation}f'(t,y)=0.01y'=0.01(0.1y)=0.001y.\\end{equation}"
      ]
    },
    {
      "cell_type": "code",
      "metadata": {
        "id": "6tYzrvMaODbI"
      },
      "source": [
        "def linfun_dd(t,w):\n",
        "    ftw=0.001*w\n",
        "    return ftw"
      ],
      "execution_count": 5,
      "outputs": []
    },
    {
      "cell_type": "markdown",
      "metadata": {
        "id": "YUsnX-FWODbI"
      },
      "source": [
        "### Linear Population 3rd Order Taylor Difference equation\n",
        "Substituting the derivatives of the linear population equation into the 3rd order Taylor equation gives the difference equation \n",
        "\\begin{equation} w_{i+1}= w_{i} + h\\big[0.1 w_i+\\frac{h}{2}(0.01 w_i)+\\frac{h^2}{6}(0.001w_i)\\big],\\end{equation}\n",
        "for $i=0,...,199$, where $w_i$ is the numerical approximation of $y$ at time $t_i$, with the initial condition\n",
        "\\begin{equation}w_0=6.\\end{equation}"
      ]
    },
    {
      "cell_type": "markdown",
      "metadata": {
        "id": "HnNG9Aq0ODbI"
      },
      "source": [
        "## Method"
      ]
    },
    {
      "cell_type": "code",
      "metadata": {
        "id": "hOZYF_FxODbJ"
      },
      "source": [
        "w=np.zeros(N+1)\n",
        "w[0]=6.0\n",
        "for i in range (0,N):\n",
        "    w[i+1]=w[i]+h*(linfun(t[i],w[i])+h/2*linfun_d(t[i],w[i])+h*h/6*linfun_dd(t[i],w[i]))"
      ],
      "execution_count": 6,
      "outputs": []
    },
    {
      "cell_type": "markdown",
      "metadata": {
        "id": "ooSHEf0FODbJ"
      },
      "source": [
        "## Results\n",
        "The plot below shows the exact solution, $y$ (squares) and the 3rd order numberical approximation, $w$ (circles) for the linear population equation:"
      ]
    },
    {
      "cell_type": "code",
      "metadata": {
        "colab": {
          "base_uri": "https://localhost:8080/",
          "height": 265
        },
        "id": "nYD_k3vhODbJ",
        "outputId": "ffaff5e2-6b30-4cce-fd3f-fe601375f554"
      },
      "source": [
        "y=6*np.exp(0.1*(t-2000))\n",
        "fig = plt.figure(figsize=(8,4))\n",
        "plt.plot(t,w,'o:',color='purple',label='Taylor')\n",
        "plt.plot(t,y,'s:',color='black',label='Exact')\n",
        "plt.legend(loc='best')\n",
        "plt.show()"
      ],
      "execution_count": 7,
      "outputs": [
        {
          "output_type": "display_data",
          "data": {
            "image/png": "[encoded data removed]",
            "text/plain": [
              "<Figure size 576x288 with 1 Axes>"
            ]
          },
          "metadata": {
            "needs_background": "light"
          }
        }
      ]
    },
    {
      "cell_type": "markdown",
      "metadata": {
        "collapsed": true,
        "id": "OurLMS_zODbK"
      },
      "source": [
        "## Table\n",
        "The table below shows the time, the 3rd order numerical approximation, $w$,  the exact solution, $y$, and the exact error $|y(t_i)-w_i|$ for the linear population equation:"
      ]
    },
    {
      "cell_type": "code",
      "metadata": {
        "colab": {
          "base_uri": "https://localhost:8080/",
          "height": 357
        },
        "id": "5YyUP-p7ODbK",
        "outputId": "d6cb10ac-d6dc-412a-e738-ca252b553df8"
      },
      "source": [
        "\n",
        "d = {'time t_i': t[0:10],    'Taylor ':w[0:10],'Exact (y)':y[0:10],'Exact Error':np.abs(np.round(y[0:10]-w[0:10],10))}\n",
        "df = pd.DataFrame(data=d)\n",
        "df\n"
      ],
      "execution_count": 8,
      "outputs": [
        {
          "output_type": "execute_result",
          "data": {
            "text/html": [
              "<div>\n",
              "<style scoped>\n",
              "    .dataframe tbody tr th:only-of-type {\n",
              "        vertical-align: middle;\n",
              "    }\n",
              "\n",
              "    .dataframe tbody tr th {\n",
              "        vertical-align: top;\n",
              "    }\n",
              "\n",
              "    .dataframe thead th {\n",
              "        text-align: right;\n",
              "    }\n",
              "</style>\n",
              "<table border=\"1\" class=\"dataframe\">\n",
              "  <thead>\n",
              "    <tr style=\"text-align: right;\">\n",
              "      <th></th>\n",
              "      <th>time t_i</th>\n",
              "      <th>Taylor</th>\n",
              "      <th>Exact (y)</th>\n",
              "      <th>Exact Error</th>\n",
              "    </tr>\n",
              "  </thead>\n",
              "  <tbody>\n",
              "    <tr>\n",
              "      <th>0</th>\n",
              "      <td>2000.0</td>\n",
              "      <td>6.000000</td>\n",
              "      <td>6.000000</td>\n",
              "      <td>0.000000e+00</td>\n",
              "    </tr>\n",
              "    <tr>\n",
              "      <th>1</th>\n",
              "      <td>2000.1</td>\n",
              "      <td>6.060301</td>\n",
              "      <td>6.060301</td>\n",
              "      <td>2.500000e-09</td>\n",
              "    </tr>\n",
              "    <tr>\n",
              "      <th>2</th>\n",
              "      <td>2000.2</td>\n",
              "      <td>6.121208</td>\n",
              "      <td>6.121208</td>\n",
              "      <td>5.100000e-09</td>\n",
              "    </tr>\n",
              "    <tr>\n",
              "      <th>3</th>\n",
              "      <td>2000.3</td>\n",
              "      <td>6.182727</td>\n",
              "      <td>6.182727</td>\n",
              "      <td>7.700000e-09</td>\n",
              "    </tr>\n",
              "    <tr>\n",
              "      <th>4</th>\n",
              "      <td>2000.4</td>\n",
              "      <td>6.244865</td>\n",
              "      <td>6.244865</td>\n",
              "      <td>1.030000e-08</td>\n",
              "    </tr>\n",
              "    <tr>\n",
              "      <th>5</th>\n",
              "      <td>2000.5</td>\n",
              "      <td>6.307627</td>\n",
              "      <td>6.307627</td>\n",
              "      <td>1.300000e-08</td>\n",
              "    </tr>\n",
              "    <tr>\n",
              "      <th>6</th>\n",
              "      <td>2000.6</td>\n",
              "      <td>6.371019</td>\n",
              "      <td>6.371019</td>\n",
              "      <td>1.580000e-08</td>\n",
              "    </tr>\n",
              "    <tr>\n",
              "      <th>7</th>\n",
              "      <td>2000.7</td>\n",
              "      <td>6.435049</td>\n",
              "      <td>6.435049</td>\n",
              "      <td>1.860000e-08</td>\n",
              "    </tr>\n",
              "    <tr>\n",
              "      <th>8</th>\n",
              "      <td>2000.8</td>\n",
              "      <td>6.499722</td>\n",
              "      <td>6.499722</td>\n",
              "      <td>2.150000e-08</td>\n",
              "    </tr>\n",
              "    <tr>\n",
              "      <th>9</th>\n",
              "      <td>2000.9</td>\n",
              "      <td>6.565046</td>\n",
              "      <td>6.565046</td>\n",
              "      <td>2.440000e-08</td>\n",
              "    </tr>\n",
              "  </tbody>\n",
              "</table>\n",
              "</div>"
            ],
            "text/plain": [
              "   time t_i   Taylor   Exact (y)   Exact Error\n",
              "0    2000.0  6.000000   6.000000  0.000000e+00\n",
              "1    2000.1  6.060301   6.060301  2.500000e-09\n",
              "2    2000.2  6.121208   6.121208  5.100000e-09\n",
              "3    2000.3  6.182727   6.182727  7.700000e-09\n",
              "4    2000.4  6.244865   6.244865  1.030000e-08\n",
              "5    2000.5  6.307627   6.307627  1.300000e-08\n",
              "6    2000.6  6.371019   6.371019  1.580000e-08\n",
              "7    2000.7  6.435049   6.435049  1.860000e-08\n",
              "8    2000.8  6.499722   6.499722  2.150000e-08\n",
              "9    2000.9  6.565046   6.565046  2.440000e-08"
            ]
          },
          "metadata": {},
          "execution_count": 8
        }
      ]
    },
    {
      "cell_type": "markdown",
      "metadata": {
        "id": "2c5BNvf5ODbK"
      },
      "source": [
        "## 2. Non-Linear Population Equation \n",
        "\\begin{equation} y^{'}=0.2y-0.01y^2, \\ \\ (2000 \\leq t \\leq 2020), \\end{equation}\n",
        "with the initial condition,\n",
        "\\begin{equation}y(2000)=6.\\end{equation}\n",
        "## Specific 3rd Order Taylor for the Non-Linear Population Equation\n",
        "To write the specific 3rd Order Taylor difference equation for the intial value problem we need to calculate the first derivative of \n",
        "\\begin{equation}f(t,y)=0.2y-0.01y^2,\\end{equation}"
      ]
    },
    {
      "cell_type": "code",
      "metadata": {
        "id": "rhqEbnhaODbK"
      },
      "source": [
        "def nonlinfun(t,w):\n",
        "    ftw=0.2*w-0.01*w*w\n",
        "    return ftw"
      ],
      "execution_count": 9,
      "outputs": []
    },
    {
      "cell_type": "markdown",
      "metadata": {
        "id": "PJ5lJfWDODbL"
      },
      "source": [
        "with respect to $t$\n",
        "\\begin{equation} f'(t,y)=0.2y'-0.02y'y=0.2(0.2y-0.01y^2)-0.02(0.2y-0.01y^2)y,\\end{equation}\n",
        "\\begin{equation}=(0.2-0.02y)(0.2y-0.01y^2)=(0.2-0.02y)f(t,y), \\end{equation}"
      ]
    },
    {
      "cell_type": "code",
      "metadata": {
        "id": "vuW4jSWqODbL"
      },
      "source": [
        "def nonlinfun_d(t,w):\n",
        "    ftw=0.2*nonlinfun(t,w)-0.02*nonlinfun(t,w)*w\n",
        "    return ftw"
      ],
      "execution_count": 10,
      "outputs": []
    },
    {
      "cell_type": "markdown",
      "metadata": {
        "id": "VXdnW_g1ODbL"
      },
      "source": [
        "and the second derivative with respect to $t$\n",
        "\\begin{equation} f''(t,y)=-0.02y'(0.2y-0.01y^2)+(0.2-0.02y)(0.2y'-0.02y'y),\\end{equation}\n",
        "\\begin{equation}=-0.02(0.2y-0.01y^2)^2+(0.2-0.02y)^2(0.2y-0.01y^2), \\end{equation}"
      ]
    },
    {
      "cell_type": "code",
      "metadata": {
        "id": "2uh2-bQIODbL"
      },
      "source": [
        "def nonlinfun_dd(t,w):\n",
        "    ftw=-0.02*nonlinfun(t,w)*nonlinfun(t,w)+(0.2-0.02*w)*nonlinfun_d(t,w)\n",
        "    return ftw"
      ],
      "execution_count": 11,
      "outputs": []
    },
    {
      "cell_type": "markdown",
      "metadata": {
        "id": "l9oOxukdODbL"
      },
      "source": [
        "###  Non-Linear Population 3rd Order Taylor Difference equation\n",
        "Substituting the derivatives of the non-linear population equation into the 3rd order Taylor equation gives the difference equation \n",
        "\\begin{equation} w_{i+1}= w_{i} + h\\big[\\big(0.2w_i-0.01w_i^2\\big)+\\frac{h}{2}\\big((0.2-0.02w_i)(0.2w_i-0.01w_i^2)\\big)+\\end{equation}\n",
        "\\begin{equation}\n",
        "\\frac{h^2}{6}\\big(-0.02(0.2w_i-0.01w_i^2)^2+(0.2-0.02w_i)^2(0.2w_i-0.01w_i^2)\\big)\\big], \\end{equation}\n",
        "for $i=0,...,199$, where $w_i$ is the numerical approximation of $y$ at time $t_i$, with the initial condition\n",
        "$$w_0=6.$$"
      ]
    },
    {
      "cell_type": "code",
      "metadata": {
        "id": "rPOePaa7ODbL"
      },
      "source": [
        "w=np.zeros(N+1)\n",
        "w[0]=6.0\n",
        "for i in range (0,N):\n",
        "    w[i+1]=w[i]+h*(nonlinfun(t[i],w[i])+h/2*nonlinfun_d(t[i],w[i])+h*h/6*nonlinfun_dd(t[i],w[i]))"
      ],
      "execution_count": 12,
      "outputs": []
    },
    {
      "cell_type": "markdown",
      "metadata": {
        "id": "hz29Q50dODbM"
      },
      "source": [
        "## Results\n",
        "The plot below shows the 3rd order numerical approximation, $w$ (circles) for the non-linear population equation:"
      ]
    },
    {
      "cell_type": "code",
      "metadata": {
        "colab": {
          "base_uri": "https://localhost:8080/",
          "height": 265
        },
        "id": "ret94tWOODbM",
        "outputId": "26c31b9a-8206-4b1e-d9cc-510377948b2e"
      },
      "source": [
        "fig = plt.figure(figsize=(8,4))\n",
        "plt.plot(t,w,'o:',color='purple',label='Taylor')\n",
        "plt.legend(loc='best')\n",
        "plt.show()"
      ],
      "execution_count": 13,
      "outputs": [
        {
          "output_type": "display_data",
          "data": {
            "image/png": "[encoded data removed]",
            "text/plain": [
              "<Figure size 576x288 with 1 Axes>"
            ]
          },
          "metadata": {
            "needs_background": "light"
          }
        }
      ]
    },
    {
      "cell_type": "markdown",
      "metadata": {
        "id": "9I1lKA7ZODbM"
      },
      "source": [
        "## Table\n",
        "The table below shows the time and the 3rd order numerical approximation, $w$,  for the non-linear population equation:"
      ]
    },
    {
      "cell_type": "code",
      "metadata": {
        "colab": {
          "base_uri": "https://localhost:8080/",
          "height": 357
        },
        "id": "cmxKRz-zODbM",
        "outputId": "0c2dea9c-594d-41d7-a882-ad6182e19ed6"
      },
      "source": [
        "d = {'time t_i': t[0:10],    'Taylor ':w[0:10]}\n",
        "df = pd.DataFrame(data=d)\n",
        "df\n",
        "\n"
      ],
      "execution_count": 14,
      "outputs": [
        {
          "output_type": "execute_result",
          "data": {
            "text/html": [
              "<div>\n",
              "<style scoped>\n",
              "    .dataframe tbody tr th:only-of-type {\n",
              "        vertical-align: middle;\n",
              "    }\n",
              "\n",
              "    .dataframe tbody tr th {\n",
              "        vertical-align: top;\n",
              "    }\n",
              "\n",
              "    .dataframe thead th {\n",
              "        text-align: right;\n",
              "    }\n",
              "</style>\n",
              "<table border=\"1\" class=\"dataframe\">\n",
              "  <thead>\n",
              "    <tr style=\"text-align: right;\">\n",
              "      <th></th>\n",
              "      <th>time t_i</th>\n",
              "      <th>Taylor</th>\n",
              "    </tr>\n",
              "  </thead>\n",
              "  <tbody>\n",
              "    <tr>\n",
              "      <th>0</th>\n",
              "      <td>2000.0</td>\n",
              "      <td>6.000000</td>\n",
              "    </tr>\n",
              "    <tr>\n",
              "      <th>1</th>\n",
              "      <td>2000.1</td>\n",
              "      <td>6.084335</td>\n",
              "    </tr>\n",
              "    <tr>\n",
              "      <th>2</th>\n",
              "      <td>2000.2</td>\n",
              "      <td>6.169332</td>\n",
              "    </tr>\n",
              "    <tr>\n",
              "      <th>3</th>\n",
              "      <td>2000.3</td>\n",
              "      <td>6.254983</td>\n",
              "    </tr>\n",
              "    <tr>\n",
              "      <th>4</th>\n",
              "      <td>2000.4</td>\n",
              "      <td>6.341279</td>\n",
              "    </tr>\n",
              "    <tr>\n",
              "      <th>5</th>\n",
              "      <td>2000.5</td>\n",
              "      <td>6.428207</td>\n",
              "    </tr>\n",
              "    <tr>\n",
              "      <th>6</th>\n",
              "      <td>2000.6</td>\n",
              "      <td>6.515760</td>\n",
              "    </tr>\n",
              "    <tr>\n",
              "      <th>7</th>\n",
              "      <td>2000.7</td>\n",
              "      <td>6.603924</td>\n",
              "    </tr>\n",
              "    <tr>\n",
              "      <th>8</th>\n",
              "      <td>2000.8</td>\n",
              "      <td>6.692689</td>\n",
              "    </tr>\n",
              "    <tr>\n",
              "      <th>9</th>\n",
              "      <td>2000.9</td>\n",
              "      <td>6.782043</td>\n",
              "    </tr>\n",
              "  </tbody>\n",
              "</table>\n",
              "</div>"
            ],
            "text/plain": [
              "   time t_i   Taylor \n",
              "0    2000.0  6.000000\n",
              "1    2000.1  6.084335\n",
              "2    2000.2  6.169332\n",
              "3    2000.3  6.254983\n",
              "4    2000.4  6.341279\n",
              "5    2000.5  6.428207\n",
              "6    2000.6  6.515760\n",
              "7    2000.7  6.603924\n",
              "8    2000.8  6.692689\n",
              "9    2000.9  6.782043"
            ]
          },
          "metadata": {},
          "execution_count": 14
        }
      ]
    },
    {
      "cell_type": "markdown",
      "metadata": {
        "id": "orTJIR9LODbM"
      },
      "source": [
        "## 3. Non-Linear Population Equation with an oscilation \n",
        "$$ y^{'}=0.2y-0.01y^2+\\sin(2\\pi t), \\ \\ (2000 \\leq t \\leq 2020), $$\n",
        "with the initial condition,\n",
        "$$y(2000)=6.$$\n",
        "\n",
        "## Specific 3rd Order Taylor for the Non-Linear Population Equation with an oscilation\n",
        "To write the specific 3rd Order Taylor difference equation for the intial value problem we need calculate the first derivative of \n",
        "$$f(t,y)=0.2y-0.01y^2+\\sin(2\\pi t),$$"
      ]
    },
    {
      "cell_type": "code",
      "metadata": {
        "id": "R-DfAVc-ODbN"
      },
      "source": [
        "def nonlin_oscfun(t,w):\n",
        "    ftw=0.2*w-0.01*w*w+np.sin(2*np.math.pi*t)\n",
        "    return ftw"
      ],
      "execution_count": 15,
      "outputs": []
    },
    {
      "cell_type": "markdown",
      "metadata": {
        "id": "aJ4PzSiXODbN"
      },
      "source": [
        "with respect to $t$\n",
        "$$ f'(t,y)=0.2y'-0.02y'y+2\\pi\\cos(2\\pi t)$$\n",
        "$$=(0.2-0.02y)\\big(0.2y-0.01y^2+\\sin(2\\pi t)\\big)+2\\pi\\cos(2\\pi t) $$"
      ]
    },
    {
      "cell_type": "code",
      "metadata": {
        "id": "mwImso6_ODbN"
      },
      "source": [
        "def nonlin_oscfun_d(t,w):\n",
        "    ftw=0.2*nonlinfun(t,w)-0.02*nonlinfun(t,w)*w+2*np.math.pi*np.cos(2*np.math.pi*t)\n",
        "    return ftw"
      ],
      "execution_count": 16,
      "outputs": []
    },
    {
      "cell_type": "markdown",
      "metadata": {
        "id": "b6_jnYwsODbN"
      },
      "source": [
        "and the second derivative with respect to $t$\n",
        "$$ f''(t,y)=-0.02y'(0.2y-0.01y^2+\\sin(2\\pi t))$$\n",
        "$$+(0.2-0.02y)\\big(0.2y'-0.02y'y+2\\pi\\cos(2\\pi t)\\big)-(2\\pi)^2\\sin(2\\pi t)$$\n",
        "$$=-0.02(0.2y-0.01y^2+2\\pi\\sin(2\\pi t))^2$$\n",
        "$$+(0.2-0.02y)\\big((0.2-0.02y)(0.2y-0.01y^2+\\sin(2\\pi t))+ 2\\pi\\cos(2\\pi t) \\big)-(2\\pi)^2\\sin(2\\pi t) $$"
      ]
    },
    {
      "cell_type": "code",
      "metadata": {
        "id": "CCok0rCNODbN"
      },
      "source": [
        "def nonlin_oscfun_dd(t,w):\n",
        "    ftw=-0.02*nonlin_oscfun(t,w)*nonlin_oscfun(t,w)+(0.2-0.02*w)*((0.2-0.02*w)*nonlin_oscfun(t,w)+2*np.math.pi*np.cos(2*np.math.pi*t))#-2*np.math.pi*2*np.math.pi*np.sin(2*np.math.pi*t)\n",
        "    return ftw"
      ],
      "execution_count": 17,
      "outputs": []
    },
    {
      "cell_type": "markdown",
      "metadata": {
        "id": "bVAAenLfODbO"
      },
      "source": [
        "###  Non-Linear Population with oscilation 3rd Order Taylor Difference equation\n",
        "Substituting the derivatives of the non-linear population equation with oscilation into the 3rd order Taylor equation gives the difference equation \n",
        "$$ w_{i+1}= w_{i} + h\\big[\\big(0.2w_i-0.01w_i^2+\\sin(2\\pi t_i)\\big)$$\n",
        "$$+\\frac{h}{2}\\big((0.2-0.02w_i)\\big(0.2w_i-0.01w_i^2+\\sin(2\\pi t_i)\\big)+2\\pi\\cos(2\\pi t_i)\\big)+$$\n",
        "$$\\frac{h^2}{6}\\big(-0.02(0.2w_i-0.01w_i^2+2\\pi\\sin(2\\pi t_i))^2$$ \n",
        "$$+(0.2-0.02w_i)\\big((0.2-0.02w_i)[0.2w_i-0.01w_i^2+\\sin(2\\pi t_i)]$$\n",
        "$$+ 2\\pi\\cos(2\\pi t_i) \\big)-(2\\pi)^2\\sin(2\\pi t_i) \\big)\\big], $$\n",
        "for $i=0,...,199$, where $w_i$ is the numerical approximation of $y$ at time $t_i$, with the initial condition\n",
        "$$w_0=6.$$"
      ]
    },
    {
      "cell_type": "code",
      "metadata": {
        "id": "KnoN2Q_OODbO"
      },
      "source": [
        "w=np.zeros(N+1)\n",
        "w[0]=6.0\n",
        "for i in range (0,N):\n",
        "    w[i+1]=w[i]+h*(nonlin_oscfun(t[i],w[i])+h/2*nonlin_oscfun_d(t[i],w[i])+h*h/6*nonlin_oscfun_dd(t[i],w[i]))"
      ],
      "execution_count": 18,
      "outputs": []
    },
    {
      "cell_type": "markdown",
      "metadata": {
        "id": "dPUnMnFyODbO"
      },
      "source": [
        "## Results\n",
        "The plot below shows the 3rd order numerical approximation, $w$ (circles) for the non-linear population equation:"
      ]
    },
    {
      "cell_type": "code",
      "metadata": {
        "colab": {
          "base_uri": "https://localhost:8080/",
          "height": 265
        },
        "id": "gGj_8HlDODbO",
        "outputId": "c016cab3-071d-4538-b6f6-bbb5625f62cf"
      },
      "source": [
        "fig = plt.figure(figsize=(8,4))\n",
        "plt.plot(t,w,'o:',color='purple',label='Taylor')\n",
        "plt.legend(loc='best')\n",
        "plt.show()"
      ],
      "execution_count": 19,
      "outputs": [
        {
          "output_type": "display_data",
          "data": {
            "image/png": "[encoded data removed]",
            "text/plain": [
              "<Figure size 576x288 with 1 Axes>"
            ]
          },
          "metadata": {
            "needs_background": "light"
          }
        }
      ]
    },
    {
      "cell_type": "markdown",
      "metadata": {
        "id": "h3aDXXbKODbO"
      },
      "source": [
        "## Table\n",
        "The table below shows the time and the 3rd order numerical approximation, $w$,  for the non-linear population equation:"
      ]
    },
    {
      "cell_type": "code",
      "metadata": {
        "colab": {
          "base_uri": "https://localhost:8080/",
          "height": 357
        },
        "id": "HNhsd0JWODbO",
        "outputId": "40fde43f-764c-45a7-b562-922bdf5a0040"
      },
      "source": [
        "d = {'time t_i': t[0:10],    'Taylor ':w[0:10]}\n",
        "df = pd.DataFrame(data=d)\n",
        "df\n",
        "\n"
      ],
      "execution_count": 20,
      "outputs": [
        {
          "output_type": "execute_result",
          "data": {
            "text/html": [
              "<div>\n",
              "<style scoped>\n",
              "    .dataframe tbody tr th:only-of-type {\n",
              "        vertical-align: middle;\n",
              "    }\n",
              "\n",
              "    .dataframe tbody tr th {\n",
              "        vertical-align: top;\n",
              "    }\n",
              "\n",
              "    .dataframe thead th {\n",
              "        text-align: right;\n",
              "    }\n",
              "</style>\n",
              "<table border=\"1\" class=\"dataframe\">\n",
              "  <thead>\n",
              "    <tr style=\"text-align: right;\">\n",
              "      <th></th>\n",
              "      <th>time t_i</th>\n",
              "      <th>Taylor</th>\n",
              "    </tr>\n",
              "  </thead>\n",
              "  <tbody>\n",
              "    <tr>\n",
              "      <th>0</th>\n",
              "      <td>2000.0</td>\n",
              "      <td>6.000000</td>\n",
              "    </tr>\n",
              "    <tr>\n",
              "      <th>1</th>\n",
              "      <td>2000.1</td>\n",
              "      <td>6.115834</td>\n",
              "    </tr>\n",
              "    <tr>\n",
              "      <th>2</th>\n",
              "      <td>2000.2</td>\n",
              "      <td>6.285332</td>\n",
              "    </tr>\n",
              "    <tr>\n",
              "      <th>3</th>\n",
              "      <td>2000.3</td>\n",
              "      <td>6.476682</td>\n",
              "    </tr>\n",
              "    <tr>\n",
              "      <th>4</th>\n",
              "      <td>2000.4</td>\n",
              "      <td>6.649942</td>\n",
              "    </tr>\n",
              "    <tr>\n",
              "      <th>5</th>\n",
              "      <td>2000.5</td>\n",
              "      <td>6.772316</td>\n",
              "    </tr>\n",
              "    <tr>\n",
              "      <th>6</th>\n",
              "      <td>2000.6</td>\n",
              "      <td>6.830702</td>\n",
              "    </tr>\n",
              "    <tr>\n",
              "      <th>7</th>\n",
              "      <td>2000.7</td>\n",
              "      <td>6.836694</td>\n",
              "    </tr>\n",
              "    <tr>\n",
              "      <th>8</th>\n",
              "      <td>2000.8</td>\n",
              "      <td>6.822138</td>\n",
              "    </tr>\n",
              "    <tr>\n",
              "      <th>9</th>\n",
              "      <td>2000.9</td>\n",
              "      <td>6.826948</td>\n",
              "    </tr>\n",
              "  </tbody>\n",
              "</table>\n",
              "</div>"
            ],
            "text/plain": [
              "   time t_i   Taylor \n",
              "0    2000.0  6.000000\n",
              "1    2000.1  6.115834\n",
              "2    2000.2  6.285332\n",
              "3    2000.3  6.476682\n",
              "4    2000.4  6.649942\n",
              "5    2000.5  6.772316\n",
              "6    2000.6  6.830702\n",
              "7    2000.7  6.836694\n",
              "8    2000.8  6.822138\n",
              "9    2000.9  6.826948"
            ]
          },
          "metadata": {},
          "execution_count": 20
        }
      ]
    },
    {
      "cell_type": "code",
      "metadata": {
        "id": "szC70TboODbP"
      },
      "source": [
        ""
      ],
      "execution_count": 20,
      "outputs": []
    }
  ]
}