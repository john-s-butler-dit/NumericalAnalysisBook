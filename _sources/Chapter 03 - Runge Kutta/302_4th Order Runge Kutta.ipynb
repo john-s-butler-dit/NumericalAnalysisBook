{
  "nbformat": 4,
  "nbformat_minor": 0,
  "metadata": {
    "kernelspec": {
      "display_name": "Python 3",
      "language": "python",
      "name": "python3"
    },
    "language_info": {
      "codemirror_mode": {
        "name": "ipython",
        "version": 3
      },
      "file_extension": ".py",
      "mimetype": "text/x-python",
      "name": "python",
      "nbconvert_exporter": "python",
      "pygments_lexer": "ipython3",
      "version": "3.7.9"
    },
    "colab": {
      "name": "302_4th Order Runge Kutta.ipynb",
      "provenance": [],
      "include_colab_link": true
    }
  },
  "cells": [
    {
      "cell_type": "markdown",
      "metadata": {
        "id": "view-in-github",
        "colab_type": "text"
      },
      "source": [
        "<a href=\"https://colab.research.google.com/github/john-s-butler-dit/Numerical-Analysis-Python/blob/master/Chapter%2003%20-%20Runge%20Kutta/302_4th%20Order%20Runge%20Kutta.ipynb\" target=\"_parent\"><img src=\"https://colab.research.google.com/assets/colab-badge.svg\" alt=\"Open In Colab\"/></a>"
      ]
    },
    {
      "cell_type": "markdown",
      "metadata": {
        "id": "2CkrgqciiwHJ"
      },
      "source": [
        "# Example 4th order Runge Kutta\n",
        "\n",
        "The general form of the population growth differential equation\n",
        "$$ y^{'}=t-y, \\ \\ (0 \\leq t \\leq 2) $$\n",
        "with the initial condition\n",
        "$$y(0)=1,$$\n",
        "Has the exact soulation. $$ y= 2e^{-t}+t-1$$\n",
        "\n"
      ]
    },
    {
      "cell_type": "markdown",
      "metadata": {
        "id": "Bn8ulRQfiwHK"
      },
      "source": [
        "#### Setting up Libraries"
      ]
    },
    {
      "cell_type": "code",
      "metadata": {
        "id": "13OrAvU_iwHL"
      },
      "source": [
        "import numpy as np\n",
        "import math \n",
        "\n",
        "%matplotlib inline\n",
        "import matplotlib.pyplot as plt # side-stepping mpl backend\n",
        "import matplotlib.gridspec as gridspec # subplots\n",
        "import warnings\n",
        "\n",
        "warnings.filterwarnings(\"ignore\")\n"
      ],
      "execution_count": 16,
      "outputs": []
    },
    {
      "cell_type": "markdown",
      "metadata": {
        "id": "2WMllWf6iwHR"
      },
      "source": [
        "## Defining the function\n",
        "$$f(t,y)=t-y$$ "
      ]
    },
    {
      "cell_type": "code",
      "metadata": {
        "id": "--2I3VnQiwHS"
      },
      "source": [
        "def myfun_ty(t,y):\n",
        "    return t-y"
      ],
      "execution_count": 17,
      "outputs": []
    },
    {
      "cell_type": "markdown",
      "metadata": {
        "id": "O-O26YVeiwHV"
      },
      "source": [
        "## Initial Setup\n",
        "Defining the step size $h$ from the interval range $a\\leq t \\leq b$ and number of steps $N$\n",
        "$$h=\\frac{b-a}{h}.$$\n",
        "This gives the discrete time steps,\n",
        "$$t_{i}=t_0+ih,$$\n",
        "where $t_0=a$."
      ]
    },
    {
      "cell_type": "code",
      "metadata": {
        "id": "Cu78WjZziwHW"
      },
      "source": [
        "# Start and end of interval\n",
        "b=2\n",
        "a=0\n",
        "# Step size\n",
        "N=4\n",
        "h=(b-a)/(N)\n",
        "t=np.arange(a,b+h,h)"
      ],
      "execution_count": 18,
      "outputs": []
    },
    {
      "cell_type": "markdown",
      "metadata": {
        "id": "4aeaLmHSiwHY"
      },
      "source": [
        "## Setting up the initial conditions of the equation\n",
        "$$w_0=IC$$\n"
      ]
    },
    {
      "cell_type": "code",
      "metadata": {
        "id": "p4nV_AdhiwHZ"
      },
      "source": [
        "# Initial Condition\n",
        "IC=1\n",
        "w=np.zeros(N+1)\n",
        "y=(IC+1)*np.exp(-t)+t-1#np.zeros(N+1)\n",
        "w[0]=IC"
      ],
      "execution_count": 19,
      "outputs": []
    },
    {
      "cell_type": "markdown",
      "metadata": {
        "id": "TTLxIu5BiwHb"
      },
      "source": [
        "## 4th Order Runge Kutta \n",
        "$$k_1=f(t,y),$$\n",
        "$$k_2=f(t+\\frac{h}{2},y+\\frac{h}{2}k_2),$$\n",
        "$$k_3=f(t+\\frac{h}{2},y+\\frac{h}{2}k_2),$$\n",
        "$$k_4=f(t+\\frac{h}{2},y+\\frac{h}{2}k_3),$$\n",
        "$$w_{i+1}=w_{i}+\\frac{h}{6}(k_1+2k_2+2k_3+k_4).$$"
      ]
    },
    {
      "cell_type": "code",
      "metadata": {
        "id": "BVbEmJiiiwHb"
      },
      "source": [
        "for k in range (0,N):\n",
        "    k1=myfun_ty(t[k],w[k])\n",
        "    k2=myfun_ty(t[k]+h/2,w[k]+h/2*k1)\n",
        "    k3=myfun_ty(t[k]+h/2,w[k]+h/2*k2)\n",
        "    k4=myfun_ty(t[k]+h,w[k]+h*k3)\n",
        "    w[k+1]=w[k]+h/6*(k1+2*k2+2*k3+k4)"
      ],
      "execution_count": 20,
      "outputs": []
    },
    {
      "cell_type": "markdown",
      "metadata": {
        "id": "HoEhZkVMiwHd"
      },
      "source": [
        "## Plotting Results"
      ]
    },
    {
      "cell_type": "code",
      "metadata": {
        "id": "NqpMeCMOiwHd",
        "outputId": "2089e7b5-d61e-4e45-c1ac-66a06aaaea3e",
        "colab": {
          "base_uri": "https://localhost:8080/",
          "height": 302
        }
      },
      "source": [
        "fig = plt.figure(figsize=(10,4))\n",
        "# --- left hand plot\n",
        "ax = fig.add_subplot(1,3,1)\n",
        "plt.plot(t,w, '--',color='green')\n",
        "#ax.legend(loc='best')\n",
        "plt.title('Numerical Solution h=%s'%(h))\n",
        "\n",
        "ax = fig.add_subplot(1,3,2)\n",
        "plt.plot(t,y,color='black')\n",
        "plt.title('Exact Solution ')\n",
        "\n",
        "ax = fig.add_subplot(1,3,3)\n",
        "plt.plot(t,y-w, 'o',color='red')\n",
        "plt.title('Error')\n",
        "# --- title, explanatory text and save\n",
        "fig.suptitle(r\"$y'=t-y,   y(0)=%s$\"%(IC), fontsize=20)\n",
        "plt.tight_layout()\n",
        "plt.subplots_adjust(top=0.85)    "
      ],
      "execution_count": 21,
      "outputs": [
        {
          "output_type": "display_data",
          "data": {
            "image/png": "[encoded data removed]",
            "text/plain": [
              "<Figure size 720x288 with 3 Axes>"
            ]
          },
          "metadata": {
            "tags": [],
            "needs_background": "light"
          }
        }
      ]
    },
    {
      "cell_type": "code",
      "metadata": {
        "id": "HGJqtjyijALS",
        "outputId": "39ae3e4d-0bbe-48ef-c937-69bf61a5c277",
        "colab": {
          "base_uri": "https://localhost:8080/",
          "height": 204
        }
      },
      "source": [
        "import pandas as pd\n",
        "d = {'time t_i': t, '4th Order Runge Kutta, w_i': w,'Exact':y,'Error |w-y|':np.round(np.abs(y-w),5)}\n",
        "df = pd.DataFrame(data=d)\n",
        "df"
      ],
      "execution_count": 23,
      "outputs": [
        {
          "output_type": "execute_result",
          "data": {
            "text/html": [
              "<div>\n",
              "<style scoped>\n",
              "    .dataframe tbody tr th:only-of-type {\n",
              "        vertical-align: middle;\n",
              "    }\n",
              "\n",
              "    .dataframe tbody tr th {\n",
              "        vertical-align: top;\n",
              "    }\n",
              "\n",
              "    .dataframe thead th {\n",
              "        text-align: right;\n",
              "    }\n",
              "</style>\n",
              "<table border=\"1\" class=\"dataframe\">\n",
              "  <thead>\n",
              "    <tr style=\"text-align: right;\">\n",
              "      <th></th>\n",
              "      <th>time t_i</th>\n",
              "      <th>4th Order Runge Kutta, w_i</th>\n",
              "      <th>Exact</th>\n",
              "      <th>Error |w-y|</th>\n",
              "    </tr>\n",
              "  </thead>\n",
              "  <tbody>\n",
              "    <tr>\n",
              "      <th>0</th>\n",
              "      <td>0.0</td>\n",
              "      <td>1.000000</td>\n",
              "      <td>1.000000</td>\n",
              "      <td>0.00000</td>\n",
              "    </tr>\n",
              "    <tr>\n",
              "      <th>1</th>\n",
              "      <td>0.5</td>\n",
              "      <td>0.713542</td>\n",
              "      <td>0.713061</td>\n",
              "      <td>0.00048</td>\n",
              "    </tr>\n",
              "    <tr>\n",
              "      <th>2</th>\n",
              "      <td>1.0</td>\n",
              "      <td>0.736342</td>\n",
              "      <td>0.735759</td>\n",
              "      <td>0.00058</td>\n",
              "    </tr>\n",
              "    <tr>\n",
              "      <th>3</th>\n",
              "      <td>1.5</td>\n",
              "      <td>0.946791</td>\n",
              "      <td>0.946260</td>\n",
              "      <td>0.00053</td>\n",
              "    </tr>\n",
              "    <tr>\n",
              "      <th>4</th>\n",
              "      <td>2.0</td>\n",
              "      <td>1.271100</td>\n",
              "      <td>1.270671</td>\n",
              "      <td>0.00043</td>\n",
              "    </tr>\n",
              "  </tbody>\n",
              "</table>\n",
              "</div>"
            ],
            "text/plain": [
              "   time t_i  4th Order Runge Kutta, w_i     Exact  Error |w-y|\n",
              "0       0.0                    1.000000  1.000000      0.00000\n",
              "1       0.5                    0.713542  0.713061      0.00048\n",
              "2       1.0                    0.736342  0.735759      0.00058\n",
              "3       1.5                    0.946791  0.946260      0.00053\n",
              "4       2.0                    1.271100  1.270671      0.00043"
            ]
          },
          "metadata": {
            "tags": []
          },
          "execution_count": 23
        }
      ]
    },
    {
      "cell_type": "code",
      "metadata": {
        "id": "uK_MhzMfjG0V"
      },
      "source": [
        ""
      ],
      "execution_count": null,
      "outputs": []
    }
  ]
}