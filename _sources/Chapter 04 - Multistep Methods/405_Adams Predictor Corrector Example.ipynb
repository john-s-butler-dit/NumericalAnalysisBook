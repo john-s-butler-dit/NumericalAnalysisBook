{
  "nbformat": 4,
  "nbformat_minor": 0,
  "metadata": {
    "kernelspec": {
      "display_name": "Python 3",
      "language": "python",
      "name": "python3"
    },
    "language_info": {
      "codemirror_mode": {
        "name": "ipython",
        "version": 3
      },
      "file_extension": ".py",
      "mimetype": "text/x-python",
      "name": "python",
      "nbconvert_exporter": "python",
      "pygments_lexer": "ipython3",
      "version": "3.7.9"
    },
    "colab": {
      "name": "405_Adams Predictor Corrector Example.ipynb",
      "provenance": [],
      "include_colab_link": true
    }
  },
  "cells": [
    {
      "cell_type": "markdown",
      "metadata": {
        "id": "view-in-github",
        "colab_type": "text"
      },
      "source": [
        "<a href=\"https://colab.research.google.com/github/john-s-butler-dit/Numerical-Analysis-Python/blob/master/Chapter%2004%20-%20Multistep%20Methods/405_Adams%20Predictor%20Corrector%20Example.ipynb\" target=\"_parent\"><img src=\"https://colab.research.google.com/assets/colab-badge.svg\" alt=\"Open In Colab\"/></a>"
      ]
    },
    {
      "cell_type": "markdown",
      "metadata": {
        "id": "eHqI_Q92PMxU"
      },
      "source": [
        "# Adams Predictor Corrector\n",
        "The Adams Predictor corrector method is used to side step the issue of the Adams-Moulton method being implicit. It can also be used to estimate error when the solution is unknown."
      ]
    },
    {
      "cell_type": "code",
      "metadata": {
        "id": "RiCsLfUZPMxV",
        "outputId": "82e5d0ae-4111-466b-8e61-902dd80fe04d"
      },
      "source": [
        "from IPython.display import HTML\n",
        "HTML('<iframe width=\"560\" height=\"315\" src=\"https://www.youtube.com/embed/RsceVcOLAC4\" frameborder=\"0\" allow=\"accelerometer; autoplay; clipboard-write; encrypted-media; gyroscope; picture-in-picture\" allowfullscreen></iframe>')"
      ],
      "execution_count": null,
      "outputs": [
        {
          "output_type": "stream",
          "text": [
            "/Users/johnbutler/anaconda3/lib/python3.7/site-packages/IPython/core/display.py:717: UserWarning: Consider using IPython.display.IFrame instead\n",
            "  warnings.warn(\"Consider using IPython.display.IFrame instead\")\n"
          ],
          "name": "stderr"
        },
        {
          "output_type": "execute_result",
          "data": {
            "text/html": [
              "<iframe width=\"560\" height=\"315\" src=\"https://www.youtube.com/embed/RsceVcOLAC4\" frameborder=\"0\" allow=\"accelerometer; autoplay; clipboard-write; encrypted-media; gyroscope; picture-in-picture\" allowfullscreen></iframe>"
            ],
            "text/plain": [
              "<IPython.core.display.HTML object>"
            ]
          },
          "metadata": {
            "tags": []
          },
          "execution_count": 1
        }
      ]
    },
    {
      "cell_type": "markdown",
      "metadata": {
        "id": "fyV5F_mcPMxc"
      },
      "source": [
        "## Intial Value Problem\n",
        "\n",
        "The differential equation\n",
        "$$ y^{'}=t-y, \\ \\ (0 \\leq t \\leq 2) $$\n",
        "with the initial condition\n",
        "$$y(0)=1$$\n",
        "will be used to illustrate the method."
      ]
    },
    {
      "cell_type": "markdown",
      "metadata": {
        "id": "BgzGCYvjPMxd"
      },
      "source": [
        "## Python Libraries"
      ]
    },
    {
      "cell_type": "code",
      "metadata": {
        "id": "tEQhmj5TPMxe"
      },
      "source": [
        "import numpy as np\n",
        "import math \n",
        "import pandas as pd\n",
        "%matplotlib inline\n",
        "import matplotlib.pyplot as plt # side-stepping mpl backend\n",
        "import matplotlib.gridspec as gridspec # subplots\n",
        "import warnings\n",
        "\n",
        "warnings.filterwarnings(\"ignore\")\n"
      ],
      "execution_count": null,
      "outputs": []
    },
    {
      "cell_type": "markdown",
      "metadata": {
        "id": "yqb0HnEEPMxh"
      },
      "source": [
        "### Defining the function\n",
        "$$ f(t,y)=t-y.$$"
      ]
    },
    {
      "cell_type": "code",
      "metadata": {
        "id": "HZxaZLmAPMxi"
      },
      "source": [
        "def myfun_ty(t,y):\n",
        "    return t-y"
      ],
      "execution_count": null,
      "outputs": []
    },
    {
      "cell_type": "markdown",
      "metadata": {
        "id": "EG5z-Dj-PMxk"
      },
      "source": [
        "## Discrete Interval\n",
        "Defining the step size  $h$  from the interval range  $a\\leq t \\leq b$  and number of steps  $N$ \n",
        "$$h=\\frac{b−a}{N}.$$\n",
        " \n",
        "This gives the discrete time steps,\n",
        "$$t_i=t_0+ih,$$\n",
        "where  $t0=a.$\n",
        "\n",
        "Here the interval is  $0≤t≤2$  and number of step  4 \n",
        "$$h=\\frac{2−0}{4}=0.5.$$\n",
        " \n",
        "This gives the discrete time steps,\n",
        "$$t_i=0+i0.5,$$\n",
        "for  $i=0,1,⋯,4.$"
      ]
    },
    {
      "cell_type": "code",
      "metadata": {
        "id": "HNKrGexoPMxl",
        "outputId": "4bce8355-ac81-44f6-ea98-8bed2dce2dce"
      },
      "source": [
        "# Start and end of interval\n",
        "b=2\n",
        "a=0\n",
        "# Step size\n",
        "N=4\n",
        "h=(b-a)/(N)\n",
        "t=np.arange(a,b+h,h)\n",
        "fig = plt.figure(figsize=(10,4))\n",
        "plt.plot(t,0*t,'o:',color='red')\n",
        "plt.xlim((0,2))\n",
        "plt.title('Illustration of discrete time points for h=%s'%(h))"
      ],
      "execution_count": null,
      "outputs": [
        {
          "output_type": "execute_result",
          "data": {
            "text/plain": [
              "Text(0.5, 1.0, 'Illustration of discrete time points for h=0.5')"
            ]
          },
          "metadata": {
            "tags": []
          },
          "execution_count": 4
        },
        {
          "output_type": "display_data",
          "data": {
            "image/png": "[encoded data removed]",
            "text/plain": [
              "<Figure size 720x288 with 1 Axes>"
            ]
          },
          "metadata": {
            "tags": [],
            "needs_background": "light"
          }
        }
      ]
    },
    {
      "cell_type": "markdown",
      "metadata": {
        "id": "f0oBK4BePMxn"
      },
      "source": [
        "## Exact Solution\n",
        "THe initial value problem has the exact solution\n",
        "$$y(t)=2e^{-t}+t-1.$$\n",
        "The figure below plots the exact solution."
      ]
    },
    {
      "cell_type": "code",
      "metadata": {
        "id": "2fvucY9iPMxn",
        "outputId": "788c403f-16ca-4215-a409-17034de6d4f2"
      },
      "source": [
        "IC=1 # Intial condtion\n",
        "y=(IC+1)*np.exp(-t)+t-1\n",
        "fig = plt.figure(figsize=(6,4))\n",
        "plt.plot(t,y,'o-',color='black')\n",
        "plt.title('Exact Solution ')\n",
        "plt.xlabel('time')"
      ],
      "execution_count": null,
      "outputs": [
        {
          "output_type": "execute_result",
          "data": {
            "text/plain": [
              "Text(0.5, 0, 'time')"
            ]
          },
          "metadata": {
            "tags": []
          },
          "execution_count": 5
        },
        {
          "output_type": "display_data",
          "data": {
            "image/png": "[encoded data removed]",
            "text/plain": [
              "<Figure size 432x288 with 1 Axes>"
            ]
          },
          "metadata": {
            "tags": [],
            "needs_background": "light"
          }
        }
      ]
    },
    {
      "cell_type": "code",
      "metadata": {
        "id": "SinyneEJPMxp"
      },
      "source": [
        "# Initial Condition\n",
        "w=np.zeros(N+1)\n",
        "#np.zeros(N+1)\n",
        "w[0]=IC"
      ],
      "execution_count": null,
      "outputs": []
    },
    {
      "cell_type": "markdown",
      "metadata": {
        "id": "OHbrgQYFPMxr"
      },
      "source": [
        "\n",
        "\n",
        "## 2-step Adams Bashforth (Predictor)\n",
        "\n",
        "The 2-step Adams Bashforth difference equation is\n",
        "$$w^{0}_{i+1} = w_{i} + \\frac{h}{2}(3f(t_i,w_i)-f(t_{i-1},w_{i-1})) $$\n",
        "$$w^{0}_{i+1} = w_{i} + \\frac{h}{2}(3(t_i-w_i)-(t_{i-1}-w_{i-1})) $$\n",
        "## 1-step Adams Moulton (Corrector)\n",
        "$$w^{1}_{i+1} = w_{i} + \\frac{h}{2}(f(t_{i+1},w^{0}_{i+1})+f(t_{i},w_{i})) $$\n",
        "\n",
        "$$ w^{1}_{i+1} = w_{i} + \\frac{h}{2}((t_{i+1}-w^0_{i+1})+(t_{i}-w_{i})) $$\n",
        "\n",
        "\n",
        "For $i=0$ the system of difference equation is:\n",
        "$$w^{0}_{1} = w_{0} + \\frac{h}{2}(3(t_0-w_0)-(t_{-1}-w_{-1})) $$\n",
        "$$w_{1} = w_{0} + \\frac{h}{2}((t_{1}-w^{0}_{1})+(t_{0}-w_{0})). $$\n",
        "this is not solvable as <font color='red'> $w_{-1}$ </font> is unknown.\n",
        "\n",
        "For $i=1$ the difference equation is:\n",
        "$$w^{0}_{2} = w_{1} + \\frac{h}{2}(3(t_1-w_1)-(t_{0}-w_{0})) $$\n",
        "$$w_{2} = w_{1} + \\frac{h}{2}((t_{2}-w^{0}_{2})+(t_{1}-w_{1})). $$\n",
        "this is not solvable as <font color='red'> $w_{1}$  </font> is unknown. $w_1$ can be  approximated using a one step method. Here, as the exact solution is known,\n",
        "$$w_1=2e^{-t_1}+t_1-1.$$\n"
      ]
    },
    {
      "cell_type": "code",
      "metadata": {
        "id": "oMrAer0BPMxr"
      },
      "source": [
        "### Initial conditions\n",
        "w=np.zeros(len(t))\n",
        "w0=np.zeros(len(t))\n",
        "w[0]=IC\n",
        "w[1]=y[1]\n",
        "w0[0]=IC\n",
        "w0[1]=y[1]"
      ],
      "execution_count": null,
      "outputs": []
    },
    {
      "cell_type": "markdown",
      "metadata": {
        "id": "Bw_tlt_VPMxs"
      },
      "source": [
        "### Loop"
      ]
    },
    {
      "cell_type": "code",
      "metadata": {
        "id": "FNQoj6TlPMxt"
      },
      "source": [
        "for k in range (1,N):\n",
        "    w0[k+1]=(w[k]+h/2.0*(3*myfun_ty(t[k],w[k])-myfun_ty(t[k-1],w[k-1])))   \n",
        "    w[k+1]=(w[k]+h/2.0*(myfun_ty(t[k+1],w0[k+1])+myfun_ty(t[k],w[k])))   "
      ],
      "execution_count": null,
      "outputs": []
    },
    {
      "cell_type": "markdown",
      "metadata": {
        "id": "5rEWmDdZPMxu"
      },
      "source": [
        "### Plotting solution"
      ]
    },
    {
      "cell_type": "code",
      "metadata": {
        "id": "FfQsR7SIPMxv"
      },
      "source": [
        "def plotting(t,w,w0,y):\n",
        "    fig = plt.figure(figsize=(10,4))\n",
        "    plt.plot(t,y, 'o-',color='black',label='Exact')\n",
        "    plt.plot(t,w0,'v:',color='blue',label='Adams-Bashforth Predictor')\n",
        "    plt.plot(t,w,'^:',color='red',label='Adams-Moulton Corrector')\n",
        "    plt.xlabel('time')\n",
        "    plt.legend()\n",
        "    plt.show "
      ],
      "execution_count": null,
      "outputs": []
    },
    {
      "cell_type": "markdown",
      "metadata": {
        "id": "NLHumr0SPMxw"
      },
      "source": [
        "The plot below shows the exact solution (black) and the Adams Predictor Corrector approximation (red) of the intial value problem"
      ]
    },
    {
      "cell_type": "code",
      "metadata": {
        "id": "3nDuj6A0PMxw",
        "outputId": "c29c4d62-efac-4f25-8002-acfb7bbdcc1e"
      },
      "source": [
        "plotting(t,w,w0,y)"
      ],
      "execution_count": null,
      "outputs": [
        {
          "output_type": "display_data",
          "data": {
            "image/png": "[encoded data removed]",
            "text/plain": [
              "<Figure size 720x288 with 1 Axes>"
            ]
          },
          "metadata": {
            "tags": [],
            "needs_background": "light"
          }
        }
      ]
    },
    {
      "cell_type": "markdown",
      "metadata": {
        "id": "WIlW946pPMxy"
      },
      "source": [
        "## Local Error \n",
        "The error for the 1 step Adams Moulton is:\n",
        "$$\\frac{y_{n+1}-y_{n}}{h}=\\frac{1}{2}[f(t_{n+1},w_{n+1})+f(t_{n-1},w_{n-1})] +\\frac{-h^2}{12}y^{(3)}(\\eta),$$\n",
        "where $\\eta \\in [t_{n-1},t_{n+1}]$.\n",
        "The error for the 2 step Adams Bashforth is:\n",
        "$$\\frac{y_{n+1}-y_{n}}{h}=\\frac{1}{2}[3f(t_{n},w_{n})-f(t_{n},w_{n})] +\\frac{5h^2}{12}y^{(3)}(\\xi),$$\n",
        "where $\\xi \\in [t_{n-1},t_{n+1}]$.\n",
        "\n",
        "Rearranging the equations gives \n",
        "$$\\frac{w_{n+1}-w_{n+1}^0}{h}= h^2[\\frac{y^{(3)}(\\eta)}{12}+\\frac{5y^{(3)}(\\xi)}{12}]\\approx h^2[\\frac{6}{12}y^{(3)}(\\xi)].$$\n",
        "Making the assumption that \n",
        "$$y^{(3)}(\\xi)\\approx \\frac{12}{6h^2}\\frac{w_{n+1}-w_{n+1}^0}{h}$$\n",
        "$$y^{(3)}(\\xi)\\approx \\frac{12}{6h^2}\\frac{w_{n+1}-w_{n+1}^0}{h}$$"
      ]
    },
    {
      "cell_type": "code",
      "metadata": {
        "id": "hC10-rujPMxy",
        "outputId": "c1400abb-d0cc-4d3a-8447-aa595bdb54b1"
      },
      "source": [
        "\n",
        "d = {'time t_i': t, 'Adams Predictor w0': w0,\n",
        "     'Adams Corrector':w,'Exact (y)':y,'|w-y|':np.round(np.abs(y-w),5),'|w0-w|':np.round(np.abs(w0-w),5),'estimate LTE':np.round(1/(6*h)*abs(w0-w),5)}\n",
        "df = pd.DataFrame(data=d)\n",
        "df"
      ],
      "execution_count": null,
      "outputs": [
        {
          "output_type": "execute_result",
          "data": {
            "text/html": [
              "<div>\n",
              "<style scoped>\n",
              "    .dataframe tbody tr th:only-of-type {\n",
              "        vertical-align: middle;\n",
              "    }\n",
              "\n",
              "    .dataframe tbody tr th {\n",
              "        vertical-align: top;\n",
              "    }\n",
              "\n",
              "    .dataframe thead th {\n",
              "        text-align: right;\n",
              "    }\n",
              "</style>\n",
              "<table border=\"1\" class=\"dataframe\">\n",
              "  <thead>\n",
              "    <tr style=\"text-align: right;\">\n",
              "      <th></th>\n",
              "      <th>time t_i</th>\n",
              "      <th>Adams Predictor w0</th>\n",
              "      <th>Adams Corrector</th>\n",
              "      <th>Exact (y)</th>\n",
              "      <th>|w-y|</th>\n",
              "      <th>|w0-w|</th>\n",
              "      <th>estimate LTE</th>\n",
              "    </tr>\n",
              "  </thead>\n",
              "  <tbody>\n",
              "    <tr>\n",
              "      <th>0</th>\n",
              "      <td>0.0</td>\n",
              "      <td>1.000000</td>\n",
              "      <td>1.000000</td>\n",
              "      <td>1.000000</td>\n",
              "      <td>0.00000</td>\n",
              "      <td>0.00000</td>\n",
              "      <td>0.00000</td>\n",
              "    </tr>\n",
              "    <tr>\n",
              "      <th>1</th>\n",
              "      <td>0.5</td>\n",
              "      <td>0.713061</td>\n",
              "      <td>0.713061</td>\n",
              "      <td>0.713061</td>\n",
              "      <td>0.00000</td>\n",
              "      <td>0.00000</td>\n",
              "      <td>0.00000</td>\n",
              "    </tr>\n",
              "    <tr>\n",
              "      <th>2</th>\n",
              "      <td>1.0</td>\n",
              "      <td>0.803265</td>\n",
              "      <td>0.708980</td>\n",
              "      <td>0.735759</td>\n",
              "      <td>0.02678</td>\n",
              "      <td>0.09429</td>\n",
              "      <td>0.03143</td>\n",
              "    </tr>\n",
              "    <tr>\n",
              "      <th>3</th>\n",
              "      <td>1.5</td>\n",
              "      <td>0.980510</td>\n",
              "      <td>0.911607</td>\n",
              "      <td>0.946260</td>\n",
              "      <td>0.03465</td>\n",
              "      <td>0.06890</td>\n",
              "      <td>0.02297</td>\n",
              "    </tr>\n",
              "    <tr>\n",
              "      <th>4</th>\n",
              "      <td>2.0</td>\n",
              "      <td>1.280147</td>\n",
              "      <td>1.238669</td>\n",
              "      <td>1.270671</td>\n",
              "      <td>0.03200</td>\n",
              "      <td>0.04148</td>\n",
              "      <td>0.01383</td>\n",
              "    </tr>\n",
              "  </tbody>\n",
              "</table>\n",
              "</div>"
            ],
            "text/plain": [
              "   time t_i  Adams Predictor w0  Adams Corrector  Exact (y)    |w-y|   |w0-w|  \\\n",
              "0       0.0            1.000000         1.000000   1.000000  0.00000  0.00000   \n",
              "1       0.5            0.713061         0.713061   0.713061  0.00000  0.00000   \n",
              "2       1.0            0.803265         0.708980   0.735759  0.02678  0.09429   \n",
              "3       1.5            0.980510         0.911607   0.946260  0.03465  0.06890   \n",
              "4       2.0            1.280147         1.238669   1.270671  0.03200  0.04148   \n",
              "\n",
              "   estimate LTE  \n",
              "0       0.00000  \n",
              "1       0.00000  \n",
              "2       0.03143  \n",
              "3       0.02297  \n",
              "4       0.01383  "
            ]
          },
          "metadata": {
            "tags": []
          },
          "execution_count": 11
        }
      ]
    },
    {
      "cell_type": "code",
      "metadata": {
        "id": "rDTUnci_PMxz"
      },
      "source": [
        ""
      ],
      "execution_count": null,
      "outputs": []
    }
  ]
}