{
 "cells": [
  {
   "cell_type": "markdown",
   "metadata": {},
   "source": [
    "# First Order Initial Value Problem\n",
    " \n",
    "\n",
    "The more general form of a first order Ordinary Differential Equation is: \n",
    "\n",
    "$$\n",
    "y^{'}=f(t,y).\n",
    "$$\n",
    "\n",
    "This can be solved analytically by integrating both sides but this is not straight forward for most problems.\n",
    "Numerical methods can be used to approximate the solution at discrete points.\n"
   ]
  },
  {
   "cell_type": "markdown",
   "metadata": {},
   "source": [
    "## Euler method\n",
    "\n",
    "The simplest one step numerical method is the Euler Method named after the most prolific of mathematicians [Leonhard Euler](https://en.wikipedia.org/wiki/Leonhard_Euler) (15 April 1707 – 18 September 1783) .\n",
    "\n",
    "The general Euler formula for to the first order differential equation\n",
    "\n",
    "\\begin{align*} y^{'} = f(t,y) \\end{align*}\n",
    "\n",
    "approximates the derivative at time point $t_i$\n",
    "\\begin{align*}y^{'}(t_i) \\approx \\frac{w_{i+1}-w_i}{t_{i+1}-t_{i}} \\end{align*}\n",
    "where $w_i$ is the approximate solution of $y$ at time $t_i$.\n",
    "This substitution changes the differential equation  into a __difference__ equation of the form \n",
    "\\begin{align*}\n",
    "\\frac{w_{i+1}-w_i}{t_{i+1}-t_{i}}=f(t_i,w_i) \\end{align*}\n",
    "Assuming uniform stepsize $t_{i+1}-t_{i}$ is replaced by $h$, re-arranging the equation gives\n",
    "\\begin{align*} w_{i+1}=w_i+hf(t_i,w_i),\\end{align*}\n",
    " This can be read as the future $w_{i+1}$ can be approximated by the present $w_i$ and the addition of the input to the system $f(t,y)$ times the time step.\n"
   ]
  },
  {
   "cell_type": "code",
   "execution_count": null,
   "metadata": {},
   "outputs": [],
   "source": [
    "## Library\n",
    "import numpy as np\n",
    "import math \n",
    "import pandas as pd\n",
    "%matplotlib inline\n",
    "import matplotlib.pyplot as plt # side-stepping mpl backend\n",
    "import matplotlib.gridspec as gridspec # subplots\n",
    "import warnings\n",
    "\n",
    "warnings.filterwarnings(\"ignore\")\n"
   ]
  },
  {
   "cell_type": "markdown",
   "metadata": {},
   "source": [
    "## Population growth\n",
    "\n",
    "The general form of the population growth differential equation is: \n",
    "$$ y^{'}=\\epsilon y $$\n",
    "where $\\epsilon$ is the growth rate. The initial population at time $a$ is \n",
    "$$ y(a)=A $$\n",
    "$$ a\\leq t \\leq b. $$\n",
    "Integrating gives  the general analytic (exact) solution: \n",
    "$$ y=Ae^{\\epsilon x}. $$\n",
    "We will use this equation to illustrate the application of the Euler method.\n",
    "      \n",
    "## Discrete Interval\n",
    "The continuous time $a\\leq t \\leq b $ is discretised into $N$ points seperated by a constant stepsize\n",
    "$$ h=\\frac{b-a}{N}.$$\n",
    "Here the interval is $0\\leq t \\leq 2$ \n",
    "$$ h=\\frac{2-0}{20}=0.1.$$\n",
    "This gives the 21 discrete points:\n",
    "$$ t_0=0, \\ t_1=0.1, \\ ... t_{20}=2. $$\n",
    "This is generalised to \n",
    "$$ t_i=0+i0.1, \\ \\ \\ i=0,1,...,20.$$\n",
    "The plot below shows the discrete time steps."
   ]
  },
  {
   "cell_type": "code",
   "execution_count": null,
   "metadata": {},
   "outputs": [],
   "source": [
    "### Setting up time\n",
    "t_end=2.0\n",
    "t_start=0\n",
    "N=20\n",
    "h=(t_end-t_start)/(N)\n",
    "time=np.arange(t_start,t_end+0.01,h)\n",
    "fig = plt.figure(figsize=(10,4))\n",
    "plt.plot(time,0*time,'o:',color='red')\n",
    "plt.xlim((0,2))\n",
    "plt.title('Illustration of discrete time points for h=%s'%(h))\n",
    "plt.plot();"
   ]
  },
  {
   "cell_type": "markdown",
   "metadata": {},
   "source": [
    "## Initial Condition\n",
    "To get a specify solution to a first order initial value problem, an __initial condition__ is required.\n",
    "\n",
    "For our population problem the intial condition is:\n",
    "$$y(0)=10.$$\n",
    "This gives the analytic solution\n",
    "$$y=10e^{\\epsilon t}.$$\n",
    "### Growth rate \n",
    "Let the growth rate $$\\epsilon=0.5$$ giving the analytic solution.\n",
    "$$y=10e^{0.5 t}.$$\n",
    "The plot below shows the exact solution on the discrete time steps."
   ]
  },
  {
   "cell_type": "code",
   "execution_count": null,
   "metadata": {},
   "outputs": [],
   "source": [
    "## Analytic Solution y\n",
    "y=10*np.exp(0.5*time)\n",
    "\n",
    "fig = plt.figure(figsize=(10,4))\n",
    "plt.plot(time,y,'o:',color='black')\n",
    "plt.xlim((0,2))\n",
    "plt.xlabel('time')\n",
    "plt.ylabel('y')\n",
    "plt.title('Analytic (Exact) solution')\n",
    "plt.plot();"
   ]
  },
  {
   "cell_type": "markdown",
   "metadata": {},
   "source": [
    "## Numerical approximation of Population growth\n",
    "The differential equation is transformed using the Euler method into a difference equation of the form\n",
    "      $$ w_{i+1}=w_{i}+h \\epsilon w_i. $$\n",
    "This approximates a series of of values $w_0, \\ w_1, \\ ..., w_{N}$.\n",
    "For the specific example of the population equation the difference equation is\n",
    "      $$ w_{i+1}=w_{i}+h 0.5 w_i. $$\n",
    "where $w_0=10$. From this initial condition the series is approximated.\n",
    "The plot below shows the exact solution $y$ in black circles and Euler approximation $w$ in blue squares. "
   ]
  },
  {
   "cell_type": "code",
   "execution_count": null,
   "metadata": {},
   "outputs": [],
   "source": [
    "w=np.zeros(N+1)\n",
    "w[0]=10\n",
    "for i in range (0,N):\n",
    "    w[i+1]=w[i]+h*(0.5)*w[i]\n",
    "\n",
    "fig = plt.figure(figsize=(10,4))\n",
    "plt.plot(time,y,'o:',color='black',label='exact')\n",
    "plt.plot(time,w,'s:',color='blue',label='Euler')\n",
    "plt.xlim((0,2))\n",
    "plt.xlabel('time')\n",
    "plt.legend(loc='best')\n",
    "plt.title('Analytic and Euler solution')\n",
    "plt.plot();"
   ]
  },
  {
   "cell_type": "markdown",
   "metadata": {},
   "source": [
    "## Numerical Error\n",
    "With a numerical solution there are two types of error: \n",
    "* local truncation error at one time step; \n",
    "* global error which is the propagation of local error. \n",
    "\n",
    "### Derivation of  Euler Local truncation error\n",
    "The left hand side of a initial value problem $\\frac{dy}{dt}$ is approximated by __Taylors theorem__ expand about a point $t_0$ giving:\n",
    "\\begin{equation}y(t_1) = y(t_0)+(t_1-t_0)y^{'}(t_0) + \\frac{(t_1-t_0)^2}{2!}y^{''}(\\xi), \\ \\ \\ \\ \\ \\ \\xi \\in [t_0,t_1]. \\end{equation}\n",
    "Rearranging and letting $h=t_1-t_0$ the equation becomes\n",
    "$$y^{'}(t_0)=\\frac{y(t_1)-y(t_0)}{h}-\\frac{h}{2}y^{''}(\\xi). $$\n",
    "From this the local truncation error is\n",
    "$$\\tau y^{'}(t_0)\\leq \\frac{h}{2}M  $$\n",
    "where $y^{''}(t) \\leq M $.\n",
    "#### Derivation of  Euler Local truncation error for the Population Growth\n",
    "In most cases $y$ is unknown but in our example problem there is an exact solution which can be used to estimate the local truncation\n",
    "$$y'(t)=5e^{0.5 t}$$\n",
    "$$y''(t)=2.5e^{0.5 t}$$\n",
    "From this a maximum upper limit can be calculated for $y^{''} $ on the interval $[t_0,t_1]=[0,0.1]$\n",
    "$$y''(0.1)=2.5e^{0.1\\times 0.5}=2.63=M$$\n",
    "$$\\tau=\\frac{h}{2}2.63=0.1315 $$\n",
    "The plot below shows the exact local truncation error $|y-w|$ (red triangle) and the upper limit of the Truncation error (black v) for the first two time points $t_0$ and $t_1$."
   ]
  },
  {
   "cell_type": "code",
   "execution_count": null,
   "metadata": {},
   "outputs": [],
   "source": [
    "fig = plt.figure(figsize=(10,4))\n",
    "plt.plot(time[0:2],np.abs(w[0:2]-y[0:2]),'^:'\n",
    "         ,color='red',label='Error |y-w|')\n",
    "plt.plot(time[0:2],0.1*2.63/2*np.ones(2),'v:'\n",
    "         ,color='black',label='Upper Local Truncation')\n",
    "plt.xlim((0,.15))\n",
    "plt.xlabel('time')\n",
    "plt.legend(loc='best')\n",
    "plt.title('Local Truncation Error')\n",
    "plt.plot();"
   ]
  },
  {
   "cell_type": "markdown",
   "metadata": {},
   "source": [
    "## Global Error\n",
    "The error does not stay constant accross the time this is illustrated in the figure below for the population growth equation. The actual error (red triangles) increases over time while the local truncation error (black v) remains constant."
   ]
  },
  {
   "cell_type": "code",
   "execution_count": null,
   "metadata": {},
   "outputs": [],
   "source": [
    "fig = plt.figure(figsize=(10,4))\n",
    "plt.plot(time,np.abs(w-y),'^:'\n",
    "         ,color='red',label='Error |y-w|')\n",
    "plt.plot(time,0.1*2.63/2*np.ones(N+1),'v:'\n",
    "         ,color='black',label='Upper Local Truncation')\n",
    "plt.xlim((0,2))\n",
    "plt.xlabel('time')\n",
    "plt.legend(loc='best')\n",
    "plt.title('Why Local Truncation does not extend to global')\n",
    "plt.plot();"
   ]
  },
  {
   "cell_type": "markdown",
   "metadata": {},
   "source": [
    "## Theorems\n",
    "To theorem below proves an upper limit of the global truncation error.\n",
    "### Euler Global Error\n",
    "__Theorem Global Error__\n",
    "\n",
    "Suppose $f$ is continuous and satisfies a Lipschitz Condition with constant\n",
    "L on $D=\\{(t,y)|a\\leq t \\leq b, -\\infty < y < \\infty \\}$ and that a constant M\n",
    "exists with the property that \n",
    "$$ |y^{''}(t)|\\leq M. $$\n",
    "Let $y(t)$ denote the unique solution of the Initial Value Problem\n",
    "$$ y^{'}=f(t,y) \\ \\ \\ a\\leq t \\leq b \\ \\ \\ y(a)=\\alpha $$\n",
    "and $w_0,w_1,...,w_N$ be the approx generated by the Euler method for some\n",
    "positive integer N.  Then for $i=0,1,...,N$\n",
    "$$ |y(t_i)-w_i| \\leq \\frac{Mh}{2L}|e^{L(t_i-a)}-1|. $$\n",
    "\n",
    "### Theorems about Ordinary Differential Equations\n",
    "__Definition__\n",
    "\n",
    "A function $f(t,y)$ is said to satisfy a __Lipschitz Condition__ in the variable $y$ on \n",
    "the set $D \\subset R^2$ if a constant $L>0$ exist with the property that\n",
    "$$ |f(t,y_1)-f(t,y_2)| < L|y_1-y_2| $$\n",
    "whenever $(t,y_1),(t,y_2) \\in D$.  The constant L is call the Lipschitz Condition\n",
    "of $f$.\n",
    "\n",
    "__Theorem__\n",
    "Suppose $f(t,y)$ is defined on a convex set $D \\subset R^2$. If a constant\n",
    "$L>0$ exists with\n",
    "$$ \\left|\\frac{\\partial f(t,y)}{\\partial y}\\right|\\leq L $$\n",
    "then $f$ satisfies a Lipschitz Condition an $D$ in the variable $y$ with\n",
    "Lipschitz constant L.\n"
   ]
  },
  {
   "cell_type": "markdown",
   "metadata": {
    "collapsed": true
   },
   "source": [
    "### Global truncation error for the population equation\n",
    "For the population equation specific values $L$ and $M$ can be calculated.\n",
    "\n",
    "In this case $f(t,y)=\\epsilon y$ is continuous and satisfies a Lipschitz Condition with constant\n",
    "$$ \\left|\\frac{\\partial f(t,y)}{\\partial y}\\right|\\leq L $$\n",
    "$$ \\left|\\frac{\\partial \\epsilon y}{\\partial y}\\right|\\leq \\epsilon=0.5=L $$\n",
    "\n",
    "on $D=\\{(t,y)|0\\leq t \\leq 2, 10 < y < 30 \\}$ and that a constant $M$\n",
    "exists with the property that \n",
    "$$ |y^{''}(t)|\\leq M. $$\n",
    "$$ |y^{''}(t)|=2.5e^{0.5\\times 2} \\leq 2.5 e=6.8. $$\n",
    "\n",
    "__Specific Theorem Global Error__\n",
    "\n",
    "Let $y(t)$ denote the unique solution of the Initial Value Problem\n",
    "$$ y^{'}=0.5 y \\ \\ \\ 0\\leq t \\leq 10 \\ \\ \\ y(0)=10 $$\n",
    "and $w_0,w_1,...,w_N$ be the approx generated by the Euler method for some\n",
    "positive integer N.  Then for $i=0,1,...,N$,\n",
    "$$ |y(t_i)-w_i| \\leq \\frac{6.8 h}{2\\times 0.5}|e^{0.5(t_i-0)}-1| $$\n",
    "\n",
    "The figure below shows the exact error $y-w$ in red triangles and the upper global error in black x's."
   ]
  },
  {
   "cell_type": "code",
   "execution_count": null,
   "metadata": {},
   "outputs": [],
   "source": [
    "fig = plt.figure(figsize=(10,4))\n",
    "plt.plot(time,np.abs(w-y),'^:'\n",
    "         ,color='red',label='Error |y-w|')\n",
    "plt.plot(time,0.1*6.8*(np.exp(0.5*time)-1),'x:'\n",
    "         ,color='black',label='Upper Global Truncation')\n",
    "plt.xlim((0,2))\n",
    "plt.xlabel('time')\n",
    "plt.legend(loc='best')\n",
    "plt.title('Global Truncation Error')\n",
    "plt.plot();"
   ]
  },
  {
   "cell_type": "markdown",
   "metadata": {},
   "source": [
    "### Table\n",
    "The table below shows the iteration $i$, the discrete time point t[i], the Euler approximation w[i] of the solution $y$, the exact error $|y-w|$ and the upper limit of the global error for the linear population equation."
   ]
  },
  {
   "cell_type": "code",
   "execution_count": null,
   "metadata": {},
   "outputs": [],
   "source": [
    "\n",
    "\n",
    "d = {'time t_i': time[0:10],    'Euler (w_i) ':w[0:10],'Exact (y)':y[0:10],'Exact Error (|y-w|)':np.round(np.abs(w[0:10]-y[0:10]),10),r'Global Error ':np.round(0.1*6.8*(np.exp(0.5*time[0:10])-1),20)}\n",
    "df = pd.DataFrame(data=d)\n",
    "df"
   ]
  },
  {
   "cell_type": "code",
   "execution_count": null,
   "metadata": {},
   "outputs": [],
   "source": []
  }
 ],
 "metadata": {
  "kernelspec": {
   "display_name": "Python 3",
   "language": "python",
   "name": "python3"
  },
  "language_info": {
   "codemirror_mode": {
    "name": "ipython",
    "version": 3
   },
   "file_extension": ".py",
   "mimetype": "text/x-python",
   "name": "python",
   "nbconvert_exporter": "python",
   "pygments_lexer": "ipython3",
   "version": "3.8.11"
  }
 },
 "nbformat": 4,
 "nbformat_minor": 1
}
