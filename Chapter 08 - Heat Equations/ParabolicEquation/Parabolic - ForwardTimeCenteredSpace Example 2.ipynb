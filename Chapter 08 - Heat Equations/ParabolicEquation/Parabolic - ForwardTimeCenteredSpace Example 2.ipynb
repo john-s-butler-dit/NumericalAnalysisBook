{
 "cells": [
  {
   "cell_type": "markdown",
   "metadata": {},
   "source": [
    "# Heat Equation\n",
    "## The Differential Equation\n",
    "$$  \\frac{\\partial u}{\\partial t} = -\\frac{1}{16}\\frac{\\partial^2 u}{\\partial x^2}$$\n",
    "## Initial Condition\n",
    "$$ u(x,0)=\\sin(\\pi x) $$\n",
    "\n",
    "## Boundary Condition\n",
    "$$ u(0,t)=0,  u(1,t)=0 $$\n",
    "\n",
    "## The Difference Equation\n",
    "$$ w[k+1,i] = w[k,i] + \\frac{-1}{16}\\frac{k}{h^2}(w[k,i+1]-2w[k,i]+w[k,i-1])$$\n"
   ]
  },
  {
   "cell_type": "code",
   "execution_count": 2,
   "metadata": {
    "collapsed": true
   },
   "outputs": [],
   "source": [
    "# LIBRARY\n",
    "# vector manipulation\n",
    "import numpy as np\n",
    "# math functions\n",
    "import math \n",
    "\n",
    "# THIS IS FOR PLOTTING\n",
    "\n",
    "%matplotlib inline\n",
    "import matplotlib.pyplot as plt # side-stepping mpl backend\n",
    "import warnings\n",
    "warnings.filterwarnings(\"ignore\")\n"
   ]
  },
  {
   "cell_type": "code",
   "execution_count": 6,
   "metadata": {
    "collapsed": false
   },
   "outputs": [
    {
     "name": "stdout",
     "output_type": "stream",
     "text": [
      "(16, 11)\n",
      "(16, 11)\n"
     ]
    },
    {
     "data": {
      "text/plain": [
       "<matplotlib.image.AxesImage at 0x7f3cb4096a20>"
      ]
     },
     "execution_count": 6,
     "metadata": {},
     "output_type": "execute_result"
    },
    {
     "data": {
      "text/plain": [
       "<matplotlib.figure.Figure at 0x7f3cb4205630>"
      ]
     },
     "metadata": {},
     "output_type": "display_data"
    },
    {
     "data": {
      "image/png": "[encoded data removed]",
      "text/plain": [
       "<matplotlib.figure.Figure at 0x7f3cb42050f0>"
      ]
     },
     "metadata": {},
     "output_type": "display_data"
    },
    {
     "data": {
      "text/plain": [
       "<matplotlib.figure.Figure at 0x7f3cb40ef160>"
      ]
     },
     "metadata": {},
     "output_type": "display_data"
    },
    {
     "data": {
      "image/png": "[encoded data removed]",
      "text/plain": [
       "<matplotlib.figure.Figure at 0x7f3cb409cba8>"
      ]
     },
     "metadata": {},
     "output_type": "display_data"
    },
    {
     "data": {
      "image/png": "[encoded data removed]",
      "text/plain": [
       "<matplotlib.figure.Figure at 0x7f3cb4198208>"
      ]
     },
     "metadata": {},
     "output_type": "display_data"
    }
   ],
   "source": [
    "N=10\n",
    "Nt=15\n",
    "h=1/N\n",
    "ht=1/1000\n",
    "\n",
    "time=np.arange(0,1.0001,ht)\n",
    "\n",
    "x=np.arange(0,1.0001,h)\n",
    "\n",
    "w=np.zeros((Nt+1,N+1))\n",
    "Solution=np.zeros((Nt+1,N+1))\n",
    "\n",
    "A=np.zeros((N-1,N-1))\n",
    "c=np.zeros(N-1)\n",
    "b=np.zeros(N-1)\n",
    "b[0]=0\n",
    "\n",
    "# Initial Condition\n",
    "for i in range (1,N):\n",
    "    #w[0,i]=1-x[i]-1/np.pi*np.sin(2*np.pi*x[i])\n",
    "    w[0,i]=np.sin(np.pi*x[i])\n",
    "    #Solution[0,i]=1-x[i]-1/np.pi*np.sin(2*np.pi*x[i])\n",
    "    Solution[0,i]=np.sin(np.pi*x[i])\n",
    "\n",
    "\n",
    "# Boundary Condition\n",
    "for k in range (0,Nt):\n",
    "    #w[k,0]=1\n",
    "    w[k,0]=0\n",
    "    w[k,N]=0\n",
    "    #Solution[k,0]=1\n",
    "    Solution[k,0]=0\n",
    "    Solution[k,N]=0\n",
    "\n",
    "\n",
    "for i in range (0,N-1):\n",
    "    A[i,i]=-2\n",
    "\n",
    "for i in range (0,N-2):           \n",
    "    A[i+1,i]=1\n",
    "    A[i,i+1]=1\n",
    "    \n",
    "A=np.eye(N-1)+ht/(h*h)*(A)\n",
    "\n",
    "fig = plt.figure(figsize=(8,4))\n",
    "plt.matshow(A)\n",
    "print(Solution.shape)\n",
    "print(w.shape)\n",
    "\n",
    "\n",
    "for k in range (1,Nt+1):\n",
    "    w[k,1:(N)]=np.dot(A,w[k-1,1:(N)])\n",
    "    Solution[k,1:(N)]=np.exp(-time[k])*np.sin(np.pi*x[1:N])\n",
    "\n",
    "\n",
    "#print(np.dot(A,c))\n",
    "fig = plt.figure(figsize=(8,4))\n",
    "plt.matshow(w)\n",
    "plt.matshow(Solution)"
   ]
  },
  {
   "cell_type": "code",
   "execution_count": null,
   "metadata": {
    "collapsed": true
   },
   "outputs": [],
   "source": []
  }
 ],
 "metadata": {
  "kernelspec": {
   "display_name": "Python 3",
   "language": "python",
   "name": "python3"
  },
  "language_info": {
   "codemirror_mode": {
    "name": "ipython",
    "version": 3
   },
   "file_extension": ".py",
   "mimetype": "text/x-python",
   "name": "python",
   "nbconvert_exporter": "python",
   "pygments_lexer": "ipython3",
   "version": "3.4.1"
  }
 },
 "nbformat": 4,
 "nbformat_minor": 0
}
