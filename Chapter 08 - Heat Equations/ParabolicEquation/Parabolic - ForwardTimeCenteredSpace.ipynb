{
 "cells": [
  {
   "cell_type": "markdown",
   "metadata": {},
   "source": [
    "# Heat Equation\n",
    "## The Differential Equation\n",
    "$$  \\frac{\\partial u}{\\partial t} = \\frac{1}{16}\\frac{\\partial^2 u}{\\partial x^2}$$\n",
    "## Initial Condition\n",
    "$$ u(x,0)=2\\sin(2\\pi x) $$\n",
    "\n",
    "## Boundary Condition\n",
    "$$ u(0,t)=0,  u(1,t)=0 $$\n",
    "\n",
    "## The Difference Equation\n",
    "$$ w[k+1,i] = w[k,i] + \\frac{1}{16}\\frac{k}{h^2}(w[k,i+1]-2w[k,i]+w[k,i-1])$$\n"
   ]
  },
  {
   "cell_type": "code",
   "execution_count": 1,
   "metadata": {
    "collapsed": true
   },
   "outputs": [],
   "source": [
    "# LIBRARY\n",
    "# vector manipulation\n",
    "import numpy as np\n",
    "# math functions\n",
    "import math \n",
    "\n",
    "# THIS IS FOR PLOTTING\n",
    "\n",
    "%matplotlib inline\n",
    "import matplotlib.pyplot as plt # side-stepping mpl backend\n",
    "import warnings\n",
    "warnings.filterwarnings(\"ignore\")\n"
   ]
  },
  {
   "cell_type": "code",
   "execution_count": 19,
   "metadata": {
    "collapsed": false
   },
   "outputs": [
    {
     "name": "stdout",
     "output_type": "stream",
     "text": [
      "[ 0.     0.025  0.05   0.075  0.1    0.125  0.15   0.175  0.2    0.225\n",
      "  0.25   0.275  0.3    0.325  0.35   0.375  0.4    0.425  0.45   0.475  0.5\n",
      "  0.525  0.55   0.575  0.6    0.625  0.65   0.675  0.7    0.725  0.75\n",
      "  0.775  0.8    0.825  0.85   0.875  0.9    0.925  0.95   0.975  1.   ]\n",
      "[  3.12868930e-01   6.18033989e-01   9.07980999e-01   1.17557050e+00\n",
      "   1.41421356e+00   1.61803399e+00   1.78201305e+00   1.90211303e+00\n",
      "   1.97537668e+00   2.00000000e+00   1.97537668e+00   1.90211303e+00\n",
      "   1.78201305e+00   1.61803399e+00   1.41421356e+00   1.17557050e+00\n",
      "   9.07980999e-01   6.18033989e-01   3.12868930e-01   2.44929360e-16\n",
      "  -3.12868930e-01  -6.18033989e-01  -9.07980999e-01  -1.17557050e+00\n",
      "  -1.41421356e+00  -1.61803399e+00  -1.78201305e+00  -1.90211303e+00\n",
      "  -1.97537668e+00  -2.00000000e+00  -1.97537668e+00  -1.90211303e+00\n",
      "  -1.78201305e+00  -1.61803399e+00  -1.41421356e+00  -1.17557050e+00\n",
      "  -9.07980999e-01  -6.18033989e-01  -3.12868930e-01]\n"
     ]
    },
    {
     "data": {
      "text/plain": [
       "<matplotlib.image.AxesImage at 0x7fe3bf4be400>"
      ]
     },
     "execution_count": 19,
     "metadata": {},
     "output_type": "execute_result"
    },
    {
     "data": {
      "text/plain": [
       "<matplotlib.figure.Figure at 0x7fe3c8046438>"
      ]
     },
     "metadata": {},
     "output_type": "display_data"
    },
    {
     "data": {
      "image/png": "[encoded data removed]",
      "text/plain": [
       "<matplotlib.figure.Figure at 0x7fe3bf5b9400>"
      ]
     },
     "metadata": {},
     "output_type": "display_data"
    },
    {
     "data": {
      "text/plain": [
       "<matplotlib.figure.Figure at 0x7fe3bf565da0>"
      ]
     },
     "metadata": {},
     "output_type": "display_data"
    },
    {
     "data": {
      "image/png": "[encoded data removed]",
      "text/plain": [
       "<matplotlib.figure.Figure at 0x7fe3bf2397f0>"
      ]
     },
     "metadata": {},
     "output_type": "display_data"
    }
   ],
   "source": [
    "N=40\n",
    "Nt=10\n",
    "h=1/N\n",
    "ht=1/Nt\n",
    "\n",
    "time=np.arange(0,1.0001,h)\n",
    "\n",
    "x=np.arange(0,1.0001,h)\n",
    "\n",
    "w=np.zeros((Nt,N+1))\n",
    "\n",
    "A=np.zeros((N-1,N-1))\n",
    "c=np.zeros(N-1)\n",
    "\n",
    "print(x)\n",
    "\n",
    "for i in range (1,N):\n",
    "    w[0,i]=2*np.sin(2*np.pi*x[i])\n",
    "\n",
    "print(w[0,1:N])\n",
    "\n",
    "for i in range (0,N-1):\n",
    "    A[i,i]=2\n",
    "\n",
    "for i in range (0,N-2):           \n",
    "    A[i+1,i]=-1\n",
    "    A[i,i+1]=-1\n",
    "    \n",
    "A=np.eye(N-1)-1/16*ht/(h*h)*(A)\n",
    "\n",
    "\n",
    "fig = plt.figure(figsize=(8,4))\n",
    "plt.matshow(A)\n",
    "\n",
    "for k in range (1,Nt):\n",
    "    #print(w[k-1,1:(N)])\n",
    "    w[k,1:(N)]=np.dot(A,w[k-1,1:(N)])\n",
    "\n",
    "\n",
    "#print(np.dot(A,c))\n",
    "fig = plt.figure(figsize=(8,4))\n",
    "plt.matshow(w)"
   ]
  },
  {
   "cell_type": "code",
   "execution_count": null,
   "metadata": {
    "collapsed": true
   },
   "outputs": [],
   "source": []
  }
 ],
 "metadata": {
  "kernelspec": {
   "display_name": "Python 3",
   "language": "python",
   "name": "python3"
  },
  "language_info": {
   "codemirror_mode": {
    "name": "ipython",
    "version": 3
   },
   "file_extension": ".py",
   "mimetype": "text/x-python",
   "name": "python",
   "nbconvert_exporter": "python",
   "pygments_lexer": "ipython3",
   "version": "3.4.1"
  }
 },
 "nbformat": 4,
 "nbformat_minor": 0
}
