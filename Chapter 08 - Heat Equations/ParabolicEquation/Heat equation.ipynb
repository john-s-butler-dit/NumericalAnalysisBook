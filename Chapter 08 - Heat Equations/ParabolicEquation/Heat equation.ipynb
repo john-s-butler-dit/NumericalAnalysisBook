{
 "cells": [
  {
   "cell_type": "code",
   "execution_count": 17,
   "metadata": {
    "collapsed": false
   },
   "outputs": [],
   "source": [
    "import numpy as np\n",
    "from numpy import pi\n",
    "import math \n",
    "\n",
    "%matplotlib inline\n",
    "import matplotlib.pyplot as plt # side-stepping mpl backend\n",
    "import matplotlib.gridspec as gridspec # subplots\n",
    "import matplotlib.animation as animation\n",
    "\n",
    "import warnings\n",
    "\n",
    "warnings.filterwarnings(\"ignore\")\n"
   ]
  },
  {
   "cell_type": "code",
   "execution_count": 18,
   "metadata": {
    "collapsed": false
   },
   "outputs": [
    {
     "ename": "AttributeError",
     "evalue": "'module' object has no attribute 'display_animation'",
     "output_type": "error",
     "traceback": [
      "\u001b[1;31m---------------------------------------------------------------------------\u001b[0m",
      "\u001b[1;31mAttributeError\u001b[0m                            Traceback (most recent call last)",
      "\u001b[1;32m<ipython-input-18-f3e0258cce25>\u001b[0m in \u001b[0;36m<module>\u001b[1;34m()\u001b[0m\n\u001b[0;32m     57\u001b[0m     \u001b[1;31m#plt.legend()\u001b[0m\u001b[1;33m\u001b[0m\u001b[1;33m\u001b[0m\u001b[0m\n\u001b[0;32m     58\u001b[0m \u001b[0manim\u001b[0m \u001b[1;33m=\u001b[0m \u001b[0manimation\u001b[0m\u001b[1;33m.\u001b[0m\u001b[0mFuncAnimation\u001b[0m\u001b[1;33m(\u001b[0m\u001b[0mfig\u001b[0m\u001b[1;33m,\u001b[0m\u001b[0manimate\u001b[0m\u001b[1;33m,\u001b[0m\u001b[0minit_func\u001b[0m\u001b[1;33m=\u001b[0m\u001b[0minit\u001b[0m\u001b[1;33m,\u001b[0m\u001b[0mframes\u001b[0m\u001b[1;33m=\u001b[0m\u001b[1;36m360\u001b[0m\u001b[1;33m,\u001b[0m\u001b[0minterval\u001b[0m\u001b[1;33m=\u001b[0m\u001b[1;36m20\u001b[0m\u001b[1;33m,\u001b[0m \u001b[0mblit\u001b[0m\u001b[1;33m=\u001b[0m\u001b[1;32mTrue\u001b[0m\u001b[1;33m)\u001b[0m\u001b[1;33m\u001b[0m\u001b[0m\n\u001b[1;32m---> 59\u001b[1;33m \u001b[0manimation\u001b[0m\u001b[1;33m.\u001b[0m\u001b[0mdisplay_animation\u001b[0m\u001b[1;33m(\u001b[0m\u001b[0manim\u001b[0m\u001b[1;33m)\u001b[0m\u001b[1;33m\u001b[0m\u001b[0m\n\u001b[0m",
      "\u001b[1;31mAttributeError\u001b[0m: 'module' object has no attribute 'display_animation'"
     ]
    },
    {
     "data": {
      "image/png": "[encoded data removed]",
      "text/plain": [
       "<matplotlib.figure.Figure at 0x7fe0c434acf8>"
      ]
     },
     "metadata": {},
     "output_type": "display_data"
    }
   ],
   "source": [
    "fig = plt.figure(figsize=(10,4))\n",
    "fig.set_dpi(100)\n",
    "ax = plt.axes(xlim=(0, 2), ylim=(-2, 2))\n",
    "line, = ax.plot([], [], lw=2)\n",
    "\n",
    "#Diffusion constant\n",
    "k = 2\n",
    "\n",
    "#Scaling factor (for visualisation purposes)\n",
    "scale = 5\n",
    "\n",
    "#Length of the rod (0,L) on the x axis\n",
    "L = pi\n",
    "\n",
    "#Initial contitions u(0,t) = u(L,t) = 0. Temperature at x=0 and x=L is fixed\n",
    "x0 = np.linspace(0,L+1,1000)\n",
    "t0 = 0\n",
    "temp0 = 5  #Temperature of the rod at rest (before heating)\n",
    "#Increment\n",
    "dt = 0.01\n",
    "#Heat function\n",
    "def u(x,t):\n",
    "     return temp0 + scale*np.exp(-k*t)*np.sin(x)\n",
    "    \n",
    "\n",
    "#Gradient of u\n",
    "def grad_u(x,t):\n",
    "                                    #du/dx              #du/dt\n",
    "     return scale*np.array([np.exp(-k*t)*np.cos(x),-k*np.exp(-k*t)*np.sin(x)])\n",
    "\n",
    "a = []\n",
    "t = []\n",
    "for i in range(500):\n",
    "    value = u(x0,t0) + grad_u(x0,t0)[1]*dt\n",
    "    t.append(t0)\n",
    "    t0 = t0 + dt\n",
    "    a.append(value)\n",
    "\n",
    "def init():\n",
    "    line.set_data([], [])\n",
    "    return line,\n",
    "    \n",
    "k = 0\n",
    "def animate(i):         #The plot shows the temperature evolving with time\n",
    "    global k            #at each point x in the rod\n",
    "    x = a[k]            #The ends of the rod are kept at temperature temp0\n",
    "    k += 1              #The rod is heated in one spot, then it cools down\n",
    "    ax1.clear()\n",
    "    line.set_data(x0,x)\n",
    "    return line,\n",
    "    #,color='red',label='Temperature at each x')\n",
    "    #plt.plot(0,0,color='red',label='Elapsed time '+str(round(t[k],2)))\n",
    "    #plt.grid(True)\n",
    "    #plt.ylim([temp0-2,2.5*scale])\n",
    "    #plt.xlim([0,L])\n",
    "    #plt.title('Heat equation')\n",
    "    #plt.legend()\n",
    "anim = animation.FuncAnimation(fig,animate,init_func=init,frames=360,interval=20, blit=True)\n",
    "animation.display_animation(anim)"
   ]
  },
  {
   "cell_type": "code",
   "execution_count": null,
   "metadata": {
    "collapsed": true
   },
   "outputs": [],
   "source": []
  }
 ],
 "metadata": {
  "kernelspec": {
   "display_name": "Python 3",
   "language": "python",
   "name": "python3"
  },
  "language_info": {
   "codemirror_mode": {
    "name": "ipython",
    "version": 3
   },
   "file_extension": ".py",
   "mimetype": "text/x-python",
   "name": "python",
   "nbconvert_exporter": "python",
   "pygments_lexer": "ipython3",
   "version": "3.4.1"
  }
 },
 "nbformat": 4,
 "nbformat_minor": 0
}
