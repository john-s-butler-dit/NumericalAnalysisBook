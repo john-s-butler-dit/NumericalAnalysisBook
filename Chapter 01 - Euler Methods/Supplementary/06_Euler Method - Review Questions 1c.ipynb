{
 "cells": [
  {
   "cell_type": "markdown",
   "metadata": {},
   "source": [
    "## One Step Method\n",
    "Applying the Euler formula to the first order equation\n",
    "\\begin{equation} \n",
    "y^{'} = (1-x)y^2-y\n",
    "\\end{equation}\n",
    "is approximated by\n",
    "\n",
    "\n",
    "\\begin{equation}\n",
    "\\frac{w_{i+1}-w_i}{h}=(1-x_i)w_i^2-w_i\n",
    "\\end{equation}\n",
    "\n",
    "\n",
    "Rearranging \n",
    "\\begin{equation}\n",
    "w_{i+1}=w_i+h((1-x_i)w_i^2-w_i)\n",
    "\\end{equation}\n",
    "\n"
   ]
  },
  {
   "cell_type": "markdown",
   "metadata": {},
   "source": [
    "## DECLARING LIBRARIES"
   ]
  },
  {
   "cell_type": "code",
   "execution_count": 1,
   "metadata": {
    "collapsed": true
   },
   "outputs": [],
   "source": [
    "import numpy as np\n",
    "import math \n",
    "\n",
    "%matplotlib inline\n",
    "import matplotlib.pyplot as plt # side-stepping mpl backend\n",
    "import matplotlib.gridspec as gridspec # subplots\n",
    "import warnings\n",
    "warnings.filterwarnings(\"ignore\")"
   ]
  },
  {
   "cell_type": "markdown",
   "metadata": {},
   "source": [
    "## Setting up X"
   ]
  },
  {
   "cell_type": "code",
   "execution_count": 14,
   "metadata": {},
   "outputs": [],
   "source": [
    "h=0.25\n",
    "x_end=1\n",
    "INITIALCONDITION=1\n",
    "N=int(x_end/h)\n",
    "Numerical_Solution=np.zeros(N+1)\n",
    "x=np.zeros(N+1)\n"
   ]
  },
  {
   "cell_type": "markdown",
   "metadata": {},
   "source": [
    "## NUMERICAL SOLUTION"
   ]
  },
  {
   "cell_type": "code",
   "execution_count": 15,
   "metadata": {},
   "outputs": [],
   "source": [
    "Numerical_Solution[0]=INITIALCONDITION\n",
    "x[0]=0\n",
    "Analytic_Solution[0]=INITIALCONDITION\n",
    "for i in range (1,N+1):\n",
    "    Numerical_Solution[i]=Numerical_Solution[i-1]+h*((1-x[i-1])*Numerical_Solution[i-1]*Numerical_Solution[i-1]-Numerical_Solution[i-1])\n",
    "    x[i]=x[i-1]+h\n",
    "    "
   ]
  },
  {
   "cell_type": "markdown",
   "metadata": {},
   "source": [
    "## Plotting"
   ]
  },
  {
   "cell_type": "code",
   "execution_count": 16,
   "metadata": {},
   "outputs": [
    {
     "name": "stdout",
     "output_type": "stream",
     "text": [
      "x\n",
      "[ 0.    0.25  0.5   0.75  1.  ]\n",
      "Numerical Solutions\n",
      "[ 1.          1.          0.9375      0.81298828  0.65105058]\n"
     ]
    },
    {
     "data": {
      "image/png": "[encoded data removed]",
      "text/plain": [
       "<matplotlib.figure.Figure at 0x7f6fa3a99160>"
      ]
     },
     "metadata": {},
     "output_type": "display_data"
    }
   ],
   "source": [
    "fig = plt.figure(figsize=(8,4))\n",
    "plt.plot(x,Numerical_Solution,color='red')\n",
    "#ax.legend(loc='best')\n",
    "plt.title('Numerical Solution')\n",
    "# --- right hand plot\n",
    "print('x')\n",
    "print(x)\n",
    "print('Numerical Solutions')\n",
    "print(Numerical_Solution)\n"
   ]
  },
  {
   "cell_type": "code",
   "execution_count": null,
   "metadata": {
    "collapsed": true
   },
   "outputs": [],
   "source": []
  }
 ],
 "metadata": {
  "kernelspec": {
   "display_name": "Python 3",
   "language": "python",
   "name": "python3"
  },
  "language_info": {
   "codemirror_mode": {
    "name": "ipython",
    "version": 3
   },
   "file_extension": ".py",
   "mimetype": "text/x-python",
   "name": "python",
   "nbconvert_exporter": "python",
   "pygments_lexer": "ipython3",
   "version": "3.7.9"
  }
 },
 "nbformat": 4,
 "nbformat_minor": 1
}
